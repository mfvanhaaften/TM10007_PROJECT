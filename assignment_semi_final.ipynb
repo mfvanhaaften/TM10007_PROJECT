{
  "nbformat": 4,
  "nbformat_minor": 0,
  "metadata": {
    "colab": {
      "name": "assignment.ipynb",
      "provenance": [],
      "collapsed_sections": []
    },
    "kernelspec": {
      "display_name": "Python 3",
      "language": "python",
      "name": "python3"
    },
    "language_info": {
      "codemirror_mode": {
        "name": "ipython",
        "version": 3
      },
      "file_extension": ".py",
      "mimetype": "text/x-python",
      "name": "python",
      "nbconvert_exporter": "python",
      "pygments_lexer": "ipython3",
      "version": "3.7.4-final"
    }
  },
  "cells": [
    {
      "cell_type": "markdown",
      "metadata": {
        "colab_type": "text",
        "id": "7SXpaKwwGe5x"
      },
      "source": [
        "# TM10007 Assignment: Prediction of Tumor Grade in Brain Cancer"
      ]
    },
    {
      "cell_type": "markdown",
      "metadata": {
        "id": "xzUYuFnd7omK",
        "colab_type": "text"
      },
      "source": [
        "Group 4: Kiefer Comassi (4402359), Myrthe van Haaften (4547470), Frédérique Koopman (4470885), Stephanie Stoutjesdijk (4557808)\n"
      ]
    },
    {
      "cell_type": "markdown",
      "metadata": {
        "id": "twXWURb77omM",
        "colab_type": "text"
      },
      "source": [
        "This notebook containt the following sections:\n",
        "\n",
        "1. Installing and importing functions and packages\n",
        "\n",
        "2. Loading and splitting data\n",
        "3. Preprocessing before crossvalidation\n",
        "\n",
        "   3.1 Overview of NaN's in the dataset\n",
        "\n",
        "   3.2 Feature removal based on the number of NaN's\n",
        "\n",
        "   3.3 Patient removal based on the number of NaN's\n",
        "   \n",
        "   3.4 Evaluation of data distribution and outliers\n",
        "\n",
        "4. Function definitions\n",
        "\n",
        "    4.1 Imputation\n",
        "    \n",
        "    4.2 Scaling\n",
        "\n",
        "    4.3 Feature selection/dimensionality reduction\n",
        "\n",
        "    4.4 Hyperparameter optimization feature selection method\n",
        "\n",
        "    4.5 Randomized grid searches\n",
        "\n",
        "    4.6 Performance metrics\n",
        "\n",
        "    4.7 Learning curves\n",
        "\n",
        "5. Evaluation of feature selection methods\n",
        "\n",
        "6. Outer and inner crossvalidation\n",
        "\n",
        "7. Performance of classifiers"
      ]
    },
    {
      "cell_type": "markdown",
      "metadata": {
        "id": "rfHdQNvB7omP",
        "colab_type": "text"
      },
      "source": [
        "## 1. Installing and importing functions and packages"
      ]
    },
    {
      "cell_type": "code",
      "metadata": {
        "id": "MupqEKAs7omR",
        "colab_type": "code",
        "colab": {
          "base_uri": "https://localhost:8080/",
          "height": 187
        },
        "outputId": "c0f335ec-fa4b-466b-eb3b-081b479e8f76"
      },
      "source": [
        "# Run this to use from colab environment\n",
        " !pip install -q --upgrade git+https://github.com/karinvangarderen/tm10007_project.git\n",
        " !pip install missingpy\n",
        " !pip install flake8 pycodestyle_magic"
      ],
      "execution_count": 4,
      "outputs": [
        {
          "output_type": "stream",
          "text": [
            "  Building wheel for brats (setup.py) ... \u001b[?25l\u001b[?25hdone\n",
            "Requirement already satisfied: missingpy in /usr/local/lib/python3.6/dist-packages (0.2.0)\n",
            "Requirement already satisfied: flake8 in /usr/local/lib/python3.6/dist-packages (3.7.9)\n",
            "Requirement already satisfied: pycodestyle_magic in /usr/local/lib/python3.6/dist-packages (0.5)\n",
            "Requirement already satisfied: pycodestyle<2.6.0,>=2.5.0 in /usr/local/lib/python3.6/dist-packages (from flake8) (2.5.0)\n",
            "Requirement already satisfied: pyflakes<2.2.0,>=2.1.0 in /usr/local/lib/python3.6/dist-packages (from flake8) (2.1.1)\n",
            "Requirement already satisfied: entrypoints<0.4.0,>=0.3.0 in /usr/local/lib/python3.6/dist-packages (from flake8) (0.3)\n",
            "Requirement already satisfied: mccabe<0.7.0,>=0.6.0 in /usr/local/lib/python3.6/dist-packages (from flake8) (0.6.1)\n"
          ],
          "name": "stdout"
        }
      ]
    },
    {
      "cell_type": "code",
      "metadata": {
        "id": "XcBcerqb7omf",
        "colab_type": "code",
        "colab": {
          "base_uri": "https://localhost:8080/",
          "height": 77
        },
        "outputId": "eb12dedc-1864-4bdf-bae6-a4521776619b"
      },
      "source": [
        "import numpy as np\n",
        "import pandas as pd\n",
        "from math import floor\n",
        "import matplotlib.pyplot as plt\n",
        "\n",
        "from scipy.stats import shapiro, uniform\n",
        "from sklearn.model_selection import (\n",
        "                                    StratifiedKFold, StratifiedShuffleSplit,\n",
        "                                    RandomizedSearchCV, learning_curve)\n",
        "from sklearn.preprocessing import MinMaxScaler\n",
        "from sklearn.svm import SVC, LinearSVC\n",
        "from sklearn.feature_selection import (\n",
        "                                    RFECV, SelectKBest, mutual_info_classif, \n",
        "                                    SelectFromModel)\n",
        "from sklearn import metrics\n",
        "from sklearn.neighbors import KNeighborsClassifier\n",
        "from sklearn.ensemble import RandomForestClassifier\n",
        "from sklearn.decomposition import PCA\n",
        "from missingpy import KNNImputer\n",
        "\n",
        "from brats.load_data import load_data"
      ],
      "execution_count": 5,
      "outputs": [
        {
          "output_type": "stream",
          "text": [
            "/usr/local/lib/python3.6/dist-packages/sklearn/utils/deprecation.py:144: FutureWarning: The sklearn.neighbors.base module is  deprecated in version 0.22 and will be removed in version 0.24. The corresponding classes / functions should instead be imported from sklearn.neighbors. Anything that cannot be imported from sklearn.neighbors is now part of the private API.\n",
            "  warnings.warn(message, FutureWarning)\n"
          ],
          "name": "stderr"
        }
      ]
    },
    {
      "cell_type": "code",
      "metadata": {
        "id": "UCr_7fJg7omr",
        "colab_type": "code",
        "colab": {}
      },
      "source": [
        "# %load_ext pycodestyle_magic"
      ],
      "execution_count": 0,
      "outputs": []
    },
    {
      "cell_type": "code",
      "metadata": {
        "id": "E5vJkNMa7om3",
        "colab_type": "code",
        "colab": {}
      },
      "source": [
        "#%pycodestyle_off"
      ],
      "execution_count": 0,
      "outputs": []
    },
    {
      "cell_type": "markdown",
      "metadata": {
        "id": "FSvxJMCR7onE",
        "colab_type": "text"
      },
      "source": [
        "## 2. Loading and splitting data "
      ]
    },
    {
      "cell_type": "code",
      "metadata": {
        "id": "tjNFvoPn7onG",
        "colab_type": "code",
        "colab": {}
      },
      "source": [
        "# Load data\n",
        "data = load_data()\n",
        "\n",
        "# Splitting data into feature values and patient labels\n",
        "FEATURES = data.drop(columns=['label'])\n",
        "LABELS = data['label']\n",
        "\n",
        "GBM = FEATURES.loc[LABELS == 'GBM']\n",
        "LGG = FEATURES.loc[LABELS == 'LGG']"
      ],
      "execution_count": 0,
      "outputs": []
    },
    {
      "cell_type": "markdown",
      "metadata": {
        "id": "eFoQrIjR7onS",
        "colab_type": "text"
      },
      "source": [
        "## 3. Preprocessing before crossvalidation"
      ]
    },
    {
      "cell_type": "markdown",
      "metadata": {
        "id": "EJ3xlfm27onU",
        "colab_type": "text"
      },
      "source": [
        "3.1 Overview of the NaN's in the dataset"
      ]
    },
    {
      "cell_type": "code",
      "metadata": {
        "id": "yTqnAdxh7onW",
        "colab_type": "code",
        "colab": {}
      },
      "source": [
        "# Determining the number of NaN's\n",
        "\n",
        "# Number of NaN's per patient for GBM and LGG patients\n",
        "NO_NAN_ROW_TOTAL = FEATURES.isnull().sum(axis=1)\n",
        "# Number of NaN's per feature for GBM and LGG patients\n",
        "NO_NAN_COL_TOTAL = FEATURES.isnull().sum(axis=0)\n",
        "\n",
        "# Number of NaN's per feature for GBM patients\n",
        "GBM_NO_NAN_COL = GBM.isnull().sum(axis=0)\n",
        "# Number of NaN's per feature for LGG patients\n",
        "LGG_NO_NAN_COL = LGG.isnull().sum(axis=0)"
      ],
      "execution_count": 0,
      "outputs": []
    },
    {
      "cell_type": "markdown",
      "metadata": {
        "id": "RhfAiFFj7ong",
        "colab_type": "text"
      },
      "source": [
        "3.2 Feature removal based on the number of NaN's. \n",
        "\n",
        "Threshold = the maximum number of NaN's in a column, above which a feature is discarded"
      ]
    },
    {
      "cell_type": "code",
      "metadata": {
        "id": "XW199J7r7onh",
        "colab_type": "code",
        "colab": {
          "base_uri": "https://localhost:8080/",
          "height": 35
        },
        "outputId": "d45af2a0-8d2f-45d6-d89c-9852f3b109e8"
      },
      "source": [
        "# Define percentage of patients with no data for a certain feature, above which the feature is discarded\n",
        "PERC_MISSING_GBM = 30\n",
        "PERC_MISSING_LGG = 30\n",
        "\n",
        "# Define threshold based on number of NaN's for discarding features\n",
        "THRESHOLD_GBM = floor((PERC_MISSING_GBM/100) * len(GBM.index))\n",
        "THRESHOLD_LGG = floor((PERC_MISSING_LGG/100) * len(LGG.index))\n",
        "\n",
        "# Initialisation\n",
        "FEATURES_REMOVED = []\n",
        "\n",
        "# Append names of features that should be removed\n",
        "for feature in GBM_NO_NAN_COL[GBM_NO_NAN_COL > THRESHOLD_GBM].index[:]:\n",
        "    FEATURES_REMOVED.append(feature)\n",
        "\n",
        "for feature in LGG_NO_NAN_COL[LGG_NO_NAN_COL > THRESHOLD_LGG].index[:]:\n",
        "    FEATURES_REMOVED.append(feature)\n",
        "\n",
        "# Remove features from dataset\n",
        "DATA_FEAT_SEL = FEATURES.drop(columns=[features for features in set(FEATURES_REMOVED)])\n",
        "\n",
        "print(f'{len(DATA_FEAT_SEL.columns)}/{len(FEATURES.columns)} features are left in dataset')"
      ],
      "execution_count": 10,
      "outputs": [
        {
          "output_type": "stream",
          "text": [
            "482/724 features are left in dataset\n"
          ],
          "name": "stdout"
        }
      ]
    },
    {
      "cell_type": "markdown",
      "metadata": {
        "id": "ByLCXiox7ons",
        "colab_type": "text"
      },
      "source": [
        "3.3 Patient removal based on the number of NaN's. Threshold = the maximum number of NaN's in a row."
      ]
    },
    {
      "cell_type": "code",
      "metadata": {
        "id": "Gyq1QpHg7onu",
        "colab_type": "code",
        "colab": {
          "base_uri": "https://localhost:8080/",
          "height": 70
        },
        "outputId": "ff369f31-d92a-4970-f46c-a7d1a3ce662a"
      },
      "source": [
        "# Define threshold of number of NaN's above which a patient is removed\n",
        "PERC_MISSING_SAMPLE = 30\n",
        "THRESHOLD_SAMPLE = floor((PERC_MISSING_SAMPLE/100) * len(DATA_FEAT_SEL.columns))\n",
        "\n",
        "# Number of NaN's per patient after feature removal\n",
        "NO_NAN_ROW_TRAIN = DATA_FEAT_SEL.isnull().sum(axis=1)\n",
        "\n",
        "# Initialisation\n",
        "SAMPLES_REMOVED = []\n",
        "LABELS_SEL = LABELS\n",
        "\n",
        "# Looping over the trainingset to remove patients with a number of NaN's above the threshold\n",
        "print('The following sample(s) is/are removed from dataset:')\n",
        "for sample in NO_NAN_ROW_TRAIN[NO_NAN_ROW_TRAIN > THRESHOLD_SAMPLE].index[:]:\n",
        "    if sample:\n",
        "        print(sample)\n",
        "        SAMPLES_REMOVED.append(sample)\n",
        "        DATA_FEAT_SEL = DATA_FEAT_SEL.drop(index=sample)\n",
        "        LABELS_SEL = LABELS_SEL.drop(index=sample)\n",
        "\n",
        "print(f'{len(DATA_FEAT_SEL)}/{len(FEATURES)} samples are left in dataset')"
      ],
      "execution_count": 11,
      "outputs": [
        {
          "output_type": "stream",
          "text": [
            "The following sample(s) is/are removed from dataset:\n",
            "TCGA-HT-7686\n",
            "166/167 samples are left in dataset\n"
          ],
          "name": "stdout"
        }
      ]
    },
    {
      "cell_type": "markdown",
      "metadata": {
        "id": "Jb4sIuBm7on4",
        "colab_type": "text"
      },
      "source": [
        "3.4 Evaluation of data distribution and outliers"
      ]
    },
    {
      "cell_type": "code",
      "metadata": {
        "id": "M7O7Vgjn7on6",
        "colab_type": "code",
        "colab": {
          "base_uri": "https://localhost:8080/",
          "height": 53
        },
        "outputId": "eb3a33e5-38b3-4042-f616-82dc9a864a6f"
      },
      "source": [
        "# Evaluate data distribution\n",
        "# Impute GBM and LGG patients separately\n",
        "IMPUTER_GBM = KNNImputer(n_neighbors=5, weights=\"distance\")\n",
        "IMPUTER_LGG = KNNImputer(n_neighbors=5, weights=\"distance\")\n",
        "\n",
        "X_GBM = DATA_FEAT_SEL[LABELS_SEL == 'GBM']\n",
        "X_IMP_GBM = IMPUTER_GBM.fit_transform(X_GBM)\n",
        "\n",
        "X_LGG = DATA_FEAT_SEL[LABELS_SEL == 'LGG']\n",
        "X_IMP_LGG = IMPUTER_LGG.fit_transform(X_LGG)\n",
        "\n",
        "# Evaluate distributions of features for GBM patients\n",
        "NO_NON_NORMAL_GBM = 0\n",
        "FEAT_NON_NORM_GBM = list()\n",
        "\n",
        "for index, feature in enumerate(X_IMP_GBM.T):\n",
        "    t_stat, p_value = shapiro(feature)\n",
        "    if p_value < 0.05:\n",
        "        NO_NON_NORMAL_GBM += 1          # Number of non normally distributed features\n",
        "        FEAT_NON_NORM_GBM.append(index)\n",
        "print(f'In the GBM class, {NO_NON_NORMAL_GBM} features are not normally distributed.')\n",
        "\n",
        "# Evaluate distributions of features for LGG patients\n",
        "NO_NON_NORMAL_LGG = 0\n",
        "FEAT_NON_NORM_LGG = list()\n",
        "for index, feature in enumerate(X_IMP_LGG.T):\n",
        "    t_stat, p_value = shapiro(feature)\n",
        "    if p_value < 0.05:\n",
        "        NO_NON_NORMAL_LGG += 1          # Number of non normally distributed features\n",
        "        FEAT_NON_NORM_LGG.append(index)\n",
        "print(f'In the LGG class, {NO_NON_NORMAL_LGG} features are not normally distributed.')"
      ],
      "execution_count": 31,
      "outputs": [
        {
          "output_type": "stream",
          "text": [
            "In the GBM class, 435 features are not normally distributed.\n",
            "In the LGG class, 384 features are not normally distributed.\n"
          ],
          "name": "stdout"
        }
      ]
    },
    {
      "cell_type": "code",
      "metadata": {
        "id": "AfI8A2ll7ooD",
        "colab_type": "code",
        "colab": {
          "base_uri": "https://localhost:8080/",
          "height": 70
        },
        "outputId": "d80d6b20-8be7-494c-806a-e52a709eefe2"
      },
      "source": [
        "# Evaluate number of outliers per patient group (LGG and GBM), depending on the Interquartile Range (IQR)\n",
        "\n",
        "# Evaluate per GBM patient each feature\n",
        "NO_OUTLIERS_GBM = 0\n",
        "\n",
        "# Loop over patients\n",
        "for patient in X_IMP_GBM:\n",
        "    feat_out = 0\n",
        "    # Loop over features\n",
        "    for index, feature in enumerate(patient):\n",
        "        # Determine quartiles and interquartile range (IQR)\n",
        "        q25, q75 = np.percentile(X_IMP_GBM[:,index], 25), np.percentile(X_IMP_GBM[:,index], 75)\n",
        "        iqr = q75 - q25\n",
        "        # Define cut-off for outlier evaluation and lower and upper bounds\n",
        "        cut_off = iqr * 1.5\n",
        "        lower, upper = q25 - cut_off, q75 + cut_off\n",
        "        # Determine whether patient has an exceptional feature value\n",
        "        outlier = ((feature > upper) | (feature < lower))\n",
        "        # Count number of features for which patient has exceptional feature value\n",
        "        feat_out += outlier\n",
        "    # Classify patient as outlier when he has exceptional values for > 70 features\n",
        "    if feat_out > 70:\n",
        "        NO_OUTLIERS_GBM += 1\n",
        "print(f'In the GBM class, {NO_OUTLIERS_GBM} patients are considered to be outliers')\n",
        "\n",
        "# Evaluate per LGG patient each feature\n",
        "NO_OUTLIERS_LGG = 0\n",
        "\n",
        "for patient in X_IMP_LGG:\n",
        "    feat_out = 0\n",
        "    for index, feature in enumerate(patient):\n",
        "        q25, q75 = np.percentile(X_IMP_LGG[:,index], 25), np.percentile(X_IMP_LGG[:,index], 75)\n",
        "        iqr = q75 - q25\n",
        "        cut_off = iqr * 1.5\n",
        "        lower, upper = q25 - cut_off, q75 + cut_off\n",
        "        outlier = ((feature>upper) | (feature<lower))\n",
        "        feat_out += outlier\n",
        "    if feat_out > 70:\n",
        "        NO_OUTLIERS_LGG += 1\n",
        "print(f'In the LGG class, {NO_OUTLIERS_LGG} patients are considered to be outliers.')\n",
        "print(f\"For the complete dataset, this means that {(NO_OUTLIERS_LGG + NO_OUTLIERS_GBM)/(len(DATA_FEAT_SEL)) * 100}% is an outlier\")\n"
      ],
      "execution_count": 30,
      "outputs": [
        {
          "output_type": "stream",
          "text": [
            "In the GBM class, 7 patients are considered to be outliers\n",
            "In the LGG class, 4 patients are considered to be outliers.\n",
            "For the complete dataset, this means that 6.626506024096386% is an outlier\n"
          ],
          "name": "stdout"
        }
      ]
    },
    {
      "cell_type": "markdown",
      "metadata": {
        "id": "GndE9pTk7ooL",
        "colab_type": "text"
      },
      "source": [
        "## 4. Function definitions"
      ]
    },
    {
      "cell_type": "markdown",
      "metadata": {
        "id": "01vnG_4p7ooN",
        "colab_type": "text"
      },
      "source": [
        "4.1 Imputation"
      ]
    },
    {
      "cell_type": "code",
      "metadata": {
        "id": "rAbdNsud7ooP",
        "colab_type": "code",
        "colab": {}
      },
      "source": [
        "def knn_impute_train_test_set(X_train, X_test):\n",
        "    \"\"\"\n",
        "    Fit k-nearest neighbor imputer on train set and impute train and test set using this fitted imputer.\n",
        "    Input:\n",
        "    X_train : array-like, shape (n_samples, n_features)\n",
        "                Training vector, where n_samples is the number of samples and\n",
        "                n_features is the number of features.\n",
        "    X_test : array-like, shape (n_samples, n_features)\n",
        "                Test vector, where n_samples is the number of samples and\n",
        "                n_features is the number of features.\n",
        "\n",
        "    Output:\n",
        "    X_train_imp: array-like, shape (n_samples, n_features)\n",
        "                Imputed train data.\n",
        "\n",
        "    X_test_imp: array-like, shape (n_samples, n_features)\n",
        "                Imputed test data.\n",
        "    \"\"\"\n",
        "\n",
        "    imputer = KNNImputer(n_neighbors=5, weights=\"distance\")\n",
        "    imputer.fit(X_train)\n",
        "    X_train_imp = imputer.transform(X_train)\n",
        "    X_test_imp = imputer.transform(X_test)\n",
        "    return X_train_imp, X_test_imp"
      ],
      "execution_count": 0,
      "outputs": []
    },
    {
      "cell_type": "markdown",
      "metadata": {
        "id": "NeoFQOb57ooY",
        "colab_type": "text"
      },
      "source": [
        "4.2 Scaling"
      ]
    },
    {
      "cell_type": "code",
      "metadata": {
        "id": "WRT17YLl7oob",
        "colab_type": "code",
        "colab": {}
      },
      "source": [
        "def scale_train_test_set(X_train, X_test):\n",
        "    \"\"\"\n",
        "    Fit MinMax scaler on train set and scale train and test set using this fitted scaler.\n",
        "    Input:\n",
        "    X_train : array-like, shape (n_samples, n_features)\n",
        "                Training vector, where n_samples is the number of samples and\n",
        "                n_features is the number of features.\n",
        "    X_test : array-like, shape (n_samples, n_features)\n",
        "                Test vector, where n_samples is the number of samples and\n",
        "                n_features is the number of features.\n",
        "\n",
        "    Output:\n",
        "    X_train_scal: array-like, shape (n_samples, n_features)\n",
        "                Scaled train data.\n",
        "\n",
        "    X_test_scal: array-like, shape (n_samples, n_features)\n",
        "                Scaled test data.\n",
        "    \"\"\"\n",
        "    scaler = MinMaxScaler()\n",
        "    scaler.fit(X_train)\n",
        "    X_train_scal = scaler.transform(X_train)\n",
        "    X_test_scal = scaler.transform(X_test)\n",
        "    return X_train_scal, X_test_scal"
      ],
      "execution_count": 0,
      "outputs": []
    },
    {
      "cell_type": "markdown",
      "metadata": {
        "id": "0qP68vGc7ooj",
        "colab_type": "text"
      },
      "source": [
        "4.3 Feature selection/dimensionality reduction"
      ]
    },
    {
      "cell_type": "code",
      "metadata": {
        "id": "JDAdorq37oom",
        "colab_type": "code",
        "colab": {}
      },
      "source": [
        "def select_features_univariate(X_train, y_train, X_test, k_value):\n",
        "    \"\"\"\n",
        "    Univariate feature selection using the Mutual Information Criterion.\n",
        "    Fit on training set and transform training and test set.\n",
        "    Input:\n",
        "    X_train : array-like, shape (n_samples, n_features)\n",
        "                Training vector, where n_samples is the number of samples and\n",
        "                n_features is the number of features.\n",
        "    y_train: array-like, shape (n_samples)\n",
        "                Target relative to X_train for classification.\n",
        "    X_test : array-like, shape (n_samples, n_features)\n",
        "                Test vector, where n_samples is the number of samples and\n",
        "                n_features is the number of features.\n",
        "\n",
        "    Output:\n",
        "    X_train_sel: array-like, shape (n_samples, n_features_selected)\n",
        "                Training vector, where n_samples is the number of samples and\n",
        "                n_features_selected is the number of selected features.\n",
        "    X_test_sel: array-like, shape (n_samples, n_features_selected)\n",
        "                Test vector, where n_samples is the number of samples and\n",
        "                n_features_selected is the number of selected features.\n",
        "    selection_method.get_support: array-like\n",
        "                Indices of the feature columns dat were selected\n",
        "    \"\"\"\n",
        "    selection_method = SelectKBest(mutual_info_classif, k=k_value).fit(X_train, y_train)\n",
        "    X_train_sel = selection_method.transform(X_train)\n",
        "    X_test_sel = selection_method.transform(X_test)\n",
        "    return X_train_sel, X_test_sel, selection_method.get_support(indices=True)"
      ],
      "execution_count": 0,
      "outputs": []
    },
    {
      "cell_type": "code",
      "metadata": {
        "id": "B0xQNcRZ7ooz",
        "colab_type": "code",
        "colab": {}
      },
      "source": [
        "def select_features_l1(X_train, y_train, X_test, threshold_value):\n",
        "    \"\"\"\n",
        "    L1-based feature selection. Fit on training set and transform training and test set.\n",
        "\n",
        "    Input:\n",
        "    X_train : array-like, shape (n_samples, n_features)\n",
        "                Training vector, where n_samples is the number of samples and\n",
        "                n_features is the number of features.\n",
        "    y_train: array-like, shape (n_samples)\n",
        "                Target relative to X_train for classification.\n",
        "    X_test : array-like, shape (n_samples, n_features)\n",
        "                Test vector, where n_samples is the number of samples and\n",
        "                n_features is the number of features.\n",
        "    threshold_value: string or float\n",
        "                The threshold value to use for feature selection.\n",
        "\n",
        "    Output:\n",
        "    X_train_sel: array-like, shape (n_samples, n_features_selected)\n",
        "                Training vector, where n_samples is the number of samples and\n",
        "                n_features_selected is the number of selected features.\n",
        "    X_test_sel: array-like, shape (n_samples, n_features_selected)\n",
        "                Test vector, where n_samples is the number of samples and\n",
        "                n_features_selected is the number of selected features.\n",
        "    \"\"\"\n",
        "    lsvc = LinearSVC(penalty=\"l1\", dual=False, max_iter=10000).fit(X_train, y_train)\n",
        "    model = SelectFromModel(lsvc, prefit=True, threshold=threshold_value)\n",
        "    X_train_sel = model.transform(X_train)\n",
        "    X_test_sel = model.transform(X_test)\n",
        "    print(f' \\n Number of features selected by L1 feature selection: {len(model.get_support(indices=True))}')\n",
        "    print(f' \\n The following column indices of features were selected by L1 feature selection:'\\\n",
        "                f'\\n {model.get_support(indices=True)}')\n",
        "    return X_train_sel, X_test_sel, model.get_support(indices=True)"
      ],
      "execution_count": 0,
      "outputs": []
    },
    {
      "cell_type": "code",
      "metadata": {
        "id": "1AKAOmNl7opA",
        "colab_type": "code",
        "colab": {}
      },
      "source": [
        "def select_features_rfecv(X_train, y_train, scoring):\n",
        "    \"\"\"\n",
        "    Recursive feature elimination using crossvalidation (rfecv).\n",
        "    Fit on training set and return column indices of selected features.\n",
        "\n",
        "    Input:\n",
        "    X_train : array-like, shape (n_samples, n_features)\n",
        "                Training vector, where n_samples is the number of samples and\n",
        "                n_features is the number of features.\n",
        "    y_train: array-like, shape (n_samples)\n",
        "                Target relative to X_train for classification.\n",
        "    scoring: string\n",
        "                Scoring metric to be used.\n",
        "\n",
        "    Output:\n",
        "    rfecv.get_support: array-like\n",
        "                Column indices of selected features.\n",
        "    \"\"\"\n",
        "    svc = SVC(kernel=\"linear\")\n",
        "    optimal_number_features = list()\n",
        "\n",
        "    # classifications\n",
        "    rfecv = RFECV(\n",
        "        estimator=svc, step=1,\n",
        "        cv=StratifiedKFold(4),\n",
        "        scoring=scoring)\n",
        "    rfecv.fit(X_train, y_train)\n",
        "\n",
        "    optimal_number_features.append(rfecv.n_features_)\n",
        "    print(\"\\n Optimal number of features according to rfecv: %d\" % rfecv.n_features_)\n",
        "    print(f' \\n The following column indices of features were selected by RFECV: \\n {rfecv.get_support(indices=True)}')\n",
        "    return rfecv.get_support(indices=True)"
      ],
      "execution_count": 0,
      "outputs": []
    },
    {
      "cell_type": "code",
      "metadata": {
        "id": "Ga_f9L2b7opL",
        "colab_type": "code",
        "colab": {}
      },
      "source": [
        "def pca_analysis(X_train, X_test, components):\n",
        "    \"\"\"\n",
        "    Conduct PCA-analysis. Fit on train set and transform train and test set.\n",
        "\n",
        "    Input:\n",
        "    X_train : array-like, shape (n_samples, n_features)\n",
        "            Training vector, where n_samples is the number of samples and\n",
        "            n_features is the number of features.\n",
        "    X_test : array-like, shape (n_samples, n_features)\n",
        "            Test vector, where n_samples is the number of samples and\n",
        "            n_features is the number of features.\n",
        "    component: int\n",
        "            The number of components to be used\n",
        "    Output:\n",
        "    X_train_pca: array-like, shape (n_samples, n_components)\n",
        "            Training vector, where n_samples is the number of samples and\n",
        "            n_components is the number of components.\n",
        "    X_test_pca: array-like, shape (n_samples, n_components)\n",
        "            Test vector, where n_samples is the number of samples and\n",
        "            n_components is the number of components.\n",
        "    \"\"\"\n",
        "    pca = PCA(n_components=components)\n",
        "    pca.fit(X_train)\n",
        "    X_train_pca = pca.transform(X_train)\n",
        "    X_test_pca = pca.transform(X_test)\n",
        "    return X_train_pca, X_test_pca"
      ],
      "execution_count": 0,
      "outputs": []
    },
    {
      "cell_type": "markdown",
      "metadata": {
        "id": "zz-LYQCg7opW",
        "colab_type": "text"
      },
      "source": [
        "4.4 Hyperparameter optimization feature selection method"
      ]
    },
    {
      "cell_type": "code",
      "metadata": {
        "tags": [
          "outputPrepend",
          "outputPrepend",
          "outputPrepend",
          "outputPrepend",
          "outputPrepend",
          "outputPrepend",
          "outputPrepend",
          "outputPrepend",
          "outputPrepend",
          "outputPrepend",
          "outputPrepend",
          "outputPrepend",
          "outputPrepend",
          "outputPrepend",
          "outputPrepend",
          "outputPrepend",
          "outputPrepend",
          "outputPrepend",
          "outputPrepend",
          "outputPrepend",
          "outputPrepend",
          "outputPrepend",
          "outputPrepend",
          "outputPrepend",
          "outputPrepend",
          "outputPrepend",
          "outputPrepend",
          "outputPrepend",
          "outputPrepend",
          "outputPrepend",
          "outputPrepend",
          "outputPrepend",
          "outputPrepend",
          "outputPrepend",
          "outputPrepend",
          "outputPrepend",
          "outputPrepend",
          "outputPrepend",
          "outputPrepend",
          "outputPrepend",
          "outputPrepend"
        ],
        "id": "IXNC1Oi_7opY",
        "colab_type": "code",
        "colab": {}
      },
      "source": [
        "def select_hyperparameter_feature_selection(X_train, y_train, hyperparameter_options):\n",
        "    \"\"\"\n",
        "    Determines optimal value for a hyperparameter, e.g. the number of features\n",
        "    to be selected (k), of the univariate feature selection method. The train\n",
        "    set that is provided as input is dividied into train and test sets using K-Fold\n",
        "    crossvalidation. The choice for the best hyperparameter value is based on the\n",
        "    performance of a KNN-classifier trained with the features selected by the univariate\n",
        "    feature selection. The hyperparameter value that results in the highest mean Area\n",
        "    under the Receiver Operator Curve (AUC) score across the 5 folds, is selected as optimal value.\n",
        "\n",
        "    Input:\n",
        "    X-train: X_train : array-like, shape (n_samples, n_features)\n",
        "            Training vector, where n_samples is the number of samples and\n",
        "            n_features is the number of features.\n",
        "    y_train: array-like, shape (n_samples)\n",
        "            Target relative to X_train for classification.\n",
        "\n",
        "    hyperparameter_options: list of settings for the hyperparameter to be evaluated.\n",
        "\n",
        "    Output:\n",
        "    param_optimal: float or int, based on the variable types in hyperparameter_options\n",
        "                The value for the hyperparameter that resulted in the highest mean AUC.\n",
        "    \"\"\"\n",
        "\n",
        "    # Initialisation\n",
        "    clf_inner = KNeighborsClassifier(n_neighbors=15, weights=\"distance\")\n",
        "    skf_inner = StratifiedKFold(n_splits=5, random_state=42, shuffle=True)\n",
        "    performance_param_inner = pd.DataFrame()\n",
        "\n",
        "    # Inner crossvalidation\n",
        "    for train_index_inner, validation_index_inner in skf_inner.split(X_train, y_train):\n",
        "\n",
        "        # Train and validation split\n",
        "        X_train_inner, X_val_inner = np.array(X_train)[train_index_inner], np.array(X_train)[validation_index_inner]\n",
        "        y_train_inner, y_val_inner = np.array(y_train)[train_index_inner], np.array(y_train)[validation_index_inner]\n",
        "\n",
        "        # Initialisation\n",
        "        acc_inner = dict()\n",
        "        bal_acc_inner = dict()\n",
        "        roc_auc_score_inner = dict()\n",
        "\n",
        "        # Loop over different values for hyperparameter\n",
        "        for param in hyperparameter_options:\n",
        "            X_train_sel_inner, X_val_sel_inner, selected_indices_inner = \\\n",
        "                                                                select_features_univariate(X_train_inner, y_train_inner,                                                                                                         X_val_inner, param)       \n",
        "            acc_inner[str(param)], bal_acc_inner[str(param)], roc_auc_score_inner[str(param)] = \\\n",
        "                                                                get_performance_classifier(\n",
        "                                                                                          clf_inner, X_train_sel_inner, \n",
        "                                                                                          y_train_inner, X_val_sel_inner, \n",
        "                                                                                          y_val_inner)\n",
        "\n",
        "        performance_param_inner = performance_param_inner.append(roc_auc_score_inner, ignore_index=True)\n",
        "\n",
        "    print(f'The performances of different hyperparameter-values across the five folds is:'\\\n",
        "          f'\\n{performance_param_inner}')\n",
        "\n",
        "    # Compute mean performance and choose optimal value for hyperparameter\n",
        "    mean_performance_param_inner = performance_param_inner.mean()\n",
        "    param_optimal = int(mean_performance_param_inner.idxmax(axis=1))\n",
        "    return param_optimal"
      ],
      "execution_count": 0,
      "outputs": []
    },
    {
      "cell_type": "markdown",
      "metadata": {
        "id": "4YBcr5Yq7oph",
        "colab_type": "text"
      },
      "source": [
        "4.5 Randomized grid searches"
      ]
    },
    {
      "cell_type": "code",
      "metadata": {
        "id": "MJLc_j1J7opj",
        "colab_type": "code",
        "colab": {}
      },
      "source": [
        "def rf_randomized_search(X_train, y_train):\n",
        "    \"\"\"\n",
        "    Perform a Randomized Search on the training set to find \n",
        "    the optimal hyperparameters for the RF classifier. \n",
        "    Hyperparameters that are tuned are: n_estimators, max_features, \n",
        "    min_samples_split, max_depth and min_samples_leaf.\n",
        "    \n",
        "    Input:     \n",
        "    X_train : array-like, shape (n_samples, n_features)\n",
        "        Training vector, where n_samples is the number of samples and\n",
        "        n_features is the number of features.\n",
        "    y_train: array-like, shape (n_samples) \n",
        "        Target relative to X_train for classification.\n",
        "        \n",
        "    Output: \n",
        "    rf_classifier: estimator\n",
        "        Estimator that was chosen by the search, i.e. estimator \n",
        "        which gave highest score on the left out data. \n",
        "    \"\"\"\n",
        "\n",
        "    parameters = {\n",
        "        'n_estimators': [32, 64, 128],\n",
        "        'max_features': ['sqrt', 'log2', 0.10, 0.25, 0.50],\n",
        "        'min_samples_split': [2, 4, 6],\n",
        "        'max_depth': [1, 6, 15, 28],\n",
        "        'min_samples_leaf': [0.05, 0.1, 0.2]\n",
        "    }\n",
        "\n",
        "    grid = RandomizedSearchCV(RandomForestClassifier(), parameters, refit=True, verbose=0, n_iter=20)\n",
        "    grid.fit(X_train, y_train)\n",
        "    rf_classifier = grid.best_estimator_\n",
        "    return rf_classifier"
      ],
      "execution_count": 0,
      "outputs": []
    },
    {
      "cell_type": "code",
      "metadata": {
        "id": "e4Du0rIb7opr",
        "colab_type": "code",
        "colab": {}
      },
      "source": [
        "def knn_randomized_search(X_train, y_train):\n",
        "    \"\"\"Perform a Randomized Search on the training set to find\n",
        "    the optimal hyperparameters for the KNN classifier. \n",
        "    Hyperparameters that are tuned are: n_neighbors and weights.\n",
        "    \n",
        "    Input: \n",
        "    X_train : array-like, shape (n_samples, n_features)\n",
        "        Training vector, where n_samples is the number of samples \n",
        "        and n_features is the number of features.\n",
        "    y_train: array-like, shape (n_samples) \n",
        "        Target relative to X_train for classification.\n",
        "\n",
        "    Output: \n",
        "    knn_classifier: estimator\n",
        "        Estimator that was chosen by the search, i.e. estimator \n",
        "        which gave highest score on the left out data. \n",
        "    \"\"\"\n",
        "\n",
        "    parameters = {'n_neighbors': list(range(15, 20)),\n",
        "                  'weights': [\"uniform\", \"distance\"]}\n",
        "\n",
        "    grid = RandomizedSearchCV(KNeighborsClassifier(), parameters, refit=True, verbose=0, n_iter=10)\n",
        "    grid.fit(X_train, y_train)\n",
        "    knn_classifier = grid.best_estimator_\n",
        "    return knn_classifier"
      ],
      "execution_count": 0,
      "outputs": []
    },
    {
      "cell_type": "code",
      "metadata": {
        "id": "Hkf8HLgq7op1",
        "colab_type": "code",
        "colab": {}
      },
      "source": [
        "def svm_randomized_search(X_train, y_train):\n",
        "    \"\"\"Perform a Randomized Search on the training set to find \n",
        "    the optimal hyperparameters for the SVM classifier. \n",
        "    Hyperparameters that are tuned are: kernel, C, gamma, degree \n",
        "    and coef0.\n",
        "\n",
        "    Input: \n",
        "    X_train : array-like, shape (n_samples, n_features)\n",
        "        Training vector, where n_samples is the number of samples \n",
        "        and n_features is the number of features.\n",
        "    y_train: array-like, shape (n_samples) \n",
        "        Target relative to X_train for classification.\n",
        "        \n",
        "    Output: \n",
        "    svm_classifier: estimator\n",
        "        Estimator that was chosen by the search, i.e. estimator \n",
        "        which gave highest score on the left out data. \n",
        "    \"\"\"\n",
        "\n",
        "    parameters = {'kernel': ['linear', 'rbf', 'poly'],\n",
        "                  'C': uniform(loc=0.01, scale=100),\n",
        "                  'gamma': ['scale', 'auto'],\n",
        "                  'degree': [1, 2, 3, 4, 5],\n",
        "                  'coef0': uniform(loc=0.01, scale=19.99)}\n",
        "\n",
        "    grid = RandomizedSearchCV(SVC(probability=True), parameters, refit=True, verbose=0, n_iter=20)\n",
        "    grid.fit(X_train, y_train)\n",
        "    svm_classifier = grid.best_estimator_\n",
        "    return svm_classifier"
      ],
      "execution_count": 0,
      "outputs": []
    },
    {
      "cell_type": "markdown",
      "metadata": {
        "id": "Eue2Fdo47op8",
        "colab_type": "text"
      },
      "source": [
        "4.6 Performance metrics"
      ]
    },
    {
      "cell_type": "code",
      "metadata": {
        "id": "xwqlChLz7op-",
        "colab_type": "code",
        "colab": {}
      },
      "source": [
        "def get_performance_classifier(classifier, X_train, y_train, X_test, y_test):\n",
        "    \"\"\"\n",
        "    Train classifier and obtain its performance on an independent test set.\n",
        "\n",
        "    Input:\n",
        "    classifier: classifier object that can be fitted to training data.\n",
        "\n",
        "    X_train : array-like, shape (n_samples, n_features)\n",
        "                Training vector, where n_samples is the number of samples and\n",
        "                n_features is the number of features.\n",
        "    y_train: array-like, shape (n_samples)\n",
        "             Target relative to X_train for classification.\n",
        "    X_test : array-like, shape (n_samples, n_features)\n",
        "                Test vector, where n_samples is the number of samples and\n",
        "                n_features is the number of features.\n",
        "    y_test: array-like, shape (n_samples)\n",
        "                Target relative to X_test for classification.\n",
        "\n",
        "    Output:\n",
        "    accuracy: float64\n",
        "                Accuracy of classifier.\n",
        "\n",
        "    balanced_acc: float64\n",
        "                Balanced accuracy of classifier.\n",
        "\n",
        "    roc_auc: float64\n",
        "                Area under the receiver operator curve of classifier.\n",
        "    \"\"\"\n",
        "\n",
        "    classifier.fit(X_train, y_train)\n",
        "    prediction = classifier.predict(X_test)\n",
        "\n",
        "    # Obtain probabilities of prediction\n",
        "    order_classes = list(classifier.classes_)\n",
        "    positive_class = order_classes.index('LGG')\n",
        "    probability = classifier.predict_proba(X_test)[:, positive_class]\n",
        "\n",
        "    # Compute metrics\n",
        "    accuracy = metrics.accuracy_score(y_test, prediction)\n",
        "    balanced_acc = metrics.balanced_accuracy_score(y_test, prediction)\n",
        "    roc_auc = metrics.roc_auc_score(y_test, probability)\n",
        "\n",
        "    return accuracy, balanced_acc, roc_auc"
      ],
      "execution_count": 0,
      "outputs": []
    },
    {
      "cell_type": "markdown",
      "metadata": {
        "id": "SXU7XkWc7oqI",
        "colab_type": "text"
      },
      "source": [
        "4.7 Learning curves"
      ]
    },
    {
      "cell_type": "code",
      "metadata": {
        "id": "tBs4pEY47oqL",
        "colab_type": "code",
        "colab": {}
      },
      "source": [
        "\n",
        "\n",
        "def plot_learning_curve(estimator, title, X, y, axes, ylim=None, cv=None,\n",
        "                        n_jobs=None, train_sizes=np.linspace(.1, 1.0, 5)):\n",
        "    \"\"\"\n",
        "    Generate 3 plots: the test and training learning curve, the training\n",
        "    samples vs fit times curve, the fit times vs score curve.\n",
        "\n",
        "    Input:\n",
        "    estimator : object type that implements the \"fit\" and \"predict\" methods\n",
        "        An object of that type which is cloned for each validation.\n",
        "\n",
        "    title : string\n",
        "        Title for the chart.\n",
        "\n",
        "    X : array-like, shape (n_samples, n_features)\n",
        "        Training vector, where n_samples is the number of samples and\n",
        "        n_features is the number of features.\n",
        "\n",
        "    y : array-like, shape (n_samples) or (n_samples, n_features), optional\n",
        "        Target relative to X for classification or regression;\n",
        "        None for unsupervised learning.\n",
        "\n",
        "    axes : array of 3 axes, optional (default=None)\n",
        "        Axes to use for plotting the curves.\n",
        "\n",
        "    ylim : tuple, shape (ymin, ymax), optional\n",
        "        Defines minimum and maximum yvalues plotted.\n",
        "\n",
        "    cv : int, cross-validation generator or an iterable, optional\n",
        "        Determines the cross-validation splitting strategy.\n",
        "        Possible inputs for cv are:\n",
        "          - None, to use the default 5-fold cross-validation,\n",
        "          - integer, to specify the number of folds.\n",
        "          - :term:`CV splitter`,\n",
        "          - An iterable yielding (train, test) splits as arrays of indices.\n",
        "\n",
        "        For integer/None inputs, if ``y`` is binary or multiclass,\n",
        "        :class:`StratifiedKFold` used. If the estimator is not a classifier\n",
        "        or if ``y`` is neither binary nor multiclass, :class:`KFold` is used.\n",
        "\n",
        "        Refer :ref:`User Guide <cross_validation>` for the various\n",
        "        cross-validators that can be used here.\n",
        "\n",
        "    n_jobs : int or None, optional (default=None)\n",
        "        Number of jobs to run in parallel.\n",
        "        ``None`` means 1 unless in a :obj:`joblib.parallel_backend` context.\n",
        "        ``-1`` means using all processors. See :term:`Glossary <n_jobs>`\n",
        "        for more details.\n",
        "\n",
        "    train_sizes : array-like, shape (n_ticks,), dtype float or int\n",
        "        Relative or absolute numbers of training examples that will be used to\n",
        "        generate the learning curve. If the dtype is float, it is regarded as a\n",
        "        fraction of the maximum size of the training set (that is determined\n",
        "        by the selected validation method), i.e. it has to be within (0, 1].\n",
        "        Otherwise it is interpreted as absolute sizes of the training sets.\n",
        "        Note that for classification the number of samples usually have to\n",
        "        be big enough to contain at least one sample from each class.\n",
        "        (default: np.linspace(0.1, 1.0, 5))\n",
        "\n",
        "    Output:\n",
        "    Plot of learning curve\n",
        "    \"\"\"\n",
        "    axes.set_title(title)\n",
        "    if ylim is not None:\n",
        "        axes.set_ylim(*ylim)\n",
        "    axes.set_xlabel(\"Training examples\")\n",
        "    axes.set_ylabel(\"Score\")\n",
        "\n",
        "    train_sizes, train_scores, test_scores = \\\n",
        "        learning_curve(estimator, X, y, cv=cv, n_jobs=n_jobs,\n",
        "                       train_sizes=train_sizes)\n",
        "    train_scores_mean = np.mean(train_scores, axis=1)\n",
        "    train_scores_std = np.std(train_scores, axis=1)\n",
        "    test_scores_mean = np.mean(test_scores, axis=1)\n",
        "    test_scores_std = np.std(test_scores, axis=1)\n",
        "\n",
        "    # Plot learning curve\n",
        "    axes.grid()\n",
        "    axes.fill_between(train_sizes, train_scores_mean - train_scores_std,\n",
        "                      train_scores_mean + train_scores_std, alpha=0.1,\n",
        "                      color=\"r\")\n",
        "    axes.fill_between(train_sizes, test_scores_mean - test_scores_std,\n",
        "                      test_scores_mean + test_scores_std, alpha=0.1,\n",
        "                      color=\"g\")\n",
        "    axes.plot(train_sizes, train_scores_mean, 'o-', color=\"r\",\n",
        "              label=\"Training score\")\n",
        "    axes.plot(train_sizes, test_scores_mean, 'o-', color=\"g\",\n",
        "              label=\"Cross-validation score\")\n",
        "    axes.legend(loc=\"best\")\n",
        "    return plt"
      ],
      "execution_count": 0,
      "outputs": []
    },
    {
      "cell_type": "markdown",
      "metadata": {
        "id": "bZAAZGcT7oqW",
        "colab_type": "text"
      },
      "source": [
        "## 5. Evaluation of feature selection methods"
      ]
    },
    {
      "cell_type": "code",
      "metadata": {
        "tags": [
          "outputPrepend",
          "outputPrepend",
          "outputPrepend",
          "outputPrepend",
          "outputPrepend",
          "outputPrepend",
          "outputPrepend",
          "outputPrepend"
        ],
        "id": "D_k9VWjI7oqX",
        "colab_type": "code",
        "colab": {
          "base_uri": "https://localhost:8080/",
          "height": 1000
        },
        "outputId": "b0520d9b-c283-4879-e3f6-a6a46384a021"
      },
      "source": [
        "# -------------------------- Cross Validation Feature Selection---------------------------------------------------\n",
        "skf_eval_sel = StratifiedKFold(n_splits=5, random_state=42, shuffle=True)\n",
        "\n",
        "dict_uni = {'20': [], '35': [], '50': []}\n",
        "dict_rfecv = {'roc_auc': [], 'accuracy': [], 'balanced_accuracy': []}\n",
        "dict_L1 = {'1e-05': [], '0.001': [], '0.01': []}\n",
        "dict_pca = {'10': [], '20': [], '30': []}\n",
        "fold_sel = 0\n",
        "\n",
        "for train_index, test_index in skf_eval_sel.split(DATA_FEAT_SEL, LABELS_SEL):\n",
        "    fold_sel += 1\n",
        "    print(f'\\n Fold {fold_sel} of evaluation of feature selection methods')\n",
        "    X_train, X_test = np.array(DATA_FEAT_SEL)[train_index], np.array(DATA_FEAT_SEL)[test_index]\n",
        "    y_train, y_test = np.array(LABELS_SEL)[train_index], np.array(LABELS_SEL)[test_index]\n",
        "    X_train_imp, X_test_imp = knn_impute_train_test_set(X_train, X_test)\n",
        "    X_train_scal, X_test_scal = scale_train_test_set(X_train_imp, X_test_imp)\n",
        "\n",
        "    clf = KNeighborsClassifier(n_neighbors=15, weights='distance')\n",
        "\n",
        "    # Univariate feature selection\n",
        "    list_uni = [20, 35, 50]\n",
        "    for number in list_uni:\n",
        "        X_train_sel, X_test_sel, selected_indices = select_features_univariate(\n",
        "                                                                              X_train_scal, y_train, \n",
        "                                                                              X_test_scal, number)\n",
        "        acc_uni, bal_acc_uni, roc_uni = get_performance_classifier(\n",
        "                                                                  clf, X_train_sel, y_train, \n",
        "                                                                  X_test_sel, y_test)\n",
        "        dict_uni[str(number)].append(roc_uni)\n",
        "        print(f'\\n The following column indices of features were selected by '\\\n",
        "              f'univariate feature selection: \\n {selected_indices}')\n",
        "\n",
        "    # RFECV feature selection\n",
        "    list_rfecv = ['roc_auc', 'accuracy', 'balanced_accuracy']\n",
        "    for scoring in list_rfecv:\n",
        "        selected_features = select_features_rfecv(X_train_scal, y_train, scoring)\n",
        "        X_train_sel = X_train_scal[:, selected_features]\n",
        "        X_test_sel = X_test_scal[:, selected_features]\n",
        "        acc_rfecv, bal_acc_rfecv, roc_rfecv = get_performance_classifier(\n",
        "                                                                        clf, X_train_sel, y_train,                                                                                                            X_test_sel, y_test)\n",
        "        dict_rfecv[scoring].append(roc_rfecv)\n",
        "\n",
        "    # L1 feature selection\n",
        "    list_L1 = [0.00001, 0.001, 0.01]\n",
        "    for value in list_L1:\n",
        "        X_train_sel, X_test_sel, selected_indices = select_features_l1(\n",
        "                                                                      X_train_scal, y_train, \n",
        "                                                                      X_test_scal, value)\n",
        "        acc_L1, bal_acc_L1, roc_L1 = get_performance_classifier(\n",
        "                                                               clf, X_train_sel, \n",
        "                                                               y_train, X_test_sel, y_test)\n",
        "        dict_L1[str(value)].append(roc_L1)\n",
        "\n",
        "    # PCA feature selection\n",
        "    list_pca = [10, 20, 30]\n",
        "    for component in list_pca:\n",
        "        X_train_sel, X_test_sel = pca_analysis(X_train_scal, X_test_scal, component)\n",
        "        acc_pca, bal_acc_pca, roc_pca = get_performance_classifier(\n",
        "                                                                  clf, X_train_sel, \n",
        "                                                                  y_train, X_test_sel, y_test)\n",
        "        dict_pca[str(component)].append(roc_pca)"
      ],
      "execution_count": 26,
      "outputs": [
        {
          "output_type": "stream",
          "text": [
            "\n",
            " Fold 1 of evaluation of feature selection methods\n",
            "\n",
            " The following column indices of features were selected by univariate feature selection: \n",
            " [  0   6   7   8   9  10  12  13  16  28 113 131 197 236 393 394 414 470\n",
            " 471 473]\n",
            "\n",
            " The following column indices of features were selected by univariate feature selection: \n",
            " [  0   6   7   8   9  10  12  13  16  28 113 131 161 197 234 236 242 280\n",
            " 283 290 292 310 384 387 392 393 394 409 410 413 414 466 470 471 473]\n",
            "\n",
            " The following column indices of features were selected by univariate feature selection: \n",
            " [  0   2   6   7   8   9  10  12  13  16  25  28  98 111 113 131 161 197\n",
            " 200 230 234 236 237 242 251 260 280 283 290 292 310 317 384 387 392 393\n",
            " 394 409 410 413 414 419 422 424 432 466 468 470 471 473]\n",
            "\n",
            " Optimal number of features according to rfecv: 20\n",
            " \n",
            " The following column indices of features were selected by RFECV: \n",
            " [  8   9  10  11  12  17  28  35  57  58 121 179 197 200 337 354 401 430\n",
            " 455 481]\n",
            "\n",
            " Optimal number of features according to rfecv: 20\n",
            " \n",
            " The following column indices of features were selected by RFECV: \n",
            " [  8   9  10  11  12  17  28  35  57  58 121 179 197 200 337 354 401 430\n",
            " 455 481]\n",
            "\n",
            " Optimal number of features according to rfecv: 20\n",
            " \n",
            " The following column indices of features were selected by RFECV: \n",
            " [  8   9  10  11  12  17  28  35  57  58 121 179 197 200 337 354 401 430\n",
            " 455 481]\n",
            " \n",
            " Number of features selected by L1 feature selection: 42\n",
            " \n",
            " The following column indices of features were selected by L1 feature selection:\n",
            " [  9  11  17  28  33  35  36  44  51  54  57  62  66 110 113 121 122 131\n",
            " 145 150 179 200 248 250 314 337 354 367 377 379 401 430 455 459 467 474\n",
            " 475 476 477 478 480 481]\n",
            " \n",
            " Number of features selected by L1 feature selection: 43\n",
            " \n",
            " The following column indices of features were selected by L1 feature selection:\n",
            " [  9  11  17  28  33  35  36  44  51  54  57  62  66 110 113 121 122 131\n",
            " 145 150 179 182 200 248 250 314 337 354 367 377 379 401 430 455 459 467\n",
            " 474 475 476 477 478 480 481]\n",
            " \n",
            " Number of features selected by L1 feature selection: 42\n",
            " \n",
            " The following column indices of features were selected by L1 feature selection:\n",
            " [  9  11  17  28  33  35  36  44  51  54  57  62  66 110 113 121 122 131\n",
            " 145 150 179 200 248 250 314 337 354 367 377 379 401 430 455 459 467 474\n",
            " 475 476 477 478 480 481]\n",
            "\n",
            " Fold 2 of evaluation of feature selection methods\n",
            "\n",
            " The following column indices of features were selected by univariate feature selection: \n",
            " [  0   6   7   9  10  12  13  16  98 131 197 236 237 252 260 314 392 466\n",
            " 471 475]\n",
            "\n",
            " The following column indices of features were selected by univariate feature selection: \n",
            " [  0   1   6   7   8   9  10  12  13  16  98 131 161 182 197 200 206 234\n",
            " 236 237 252 260 290 292 314 355 384 387 392 394 432 461 466 471 475]\n",
            "\n",
            " The following column indices of features were selected by univariate feature selection: \n",
            " [  0   1   6   7   8   9  10  12  13  16  25  28  98 131 161 179 182 197\n",
            " 200 206 230 234 236 237 247 252 260 280 290 292 314 331 355 384 387 392\n",
            " 394 417 419 422 432 434 435 461 466 467 468 471 473 475]\n",
            "\n",
            " Optimal number of features according to rfecv: 20\n",
            " \n",
            " The following column indices of features were selected by RFECV: \n",
            " [  5   8   9  10  12  17  21  24  51  57  93 111 118 237 252 276 337 401\n",
            " 477 481]\n",
            "\n",
            " Optimal number of features according to rfecv: 12\n",
            " \n",
            " The following column indices of features were selected by RFECV: \n",
            " [  5   8   9  10  12  24  57 237 252 337 401 477]\n",
            "\n",
            " Optimal number of features according to rfecv: 1\n",
            " \n",
            " The following column indices of features were selected by RFECV: \n",
            " [12]\n",
            " \n",
            " Number of features selected by L1 feature selection: 38\n",
            " \n",
            " The following column indices of features were selected by L1 feature selection:\n",
            " [  5   9  10  11  12  17  21  24  33  35  36  42  51  54  57  93  95 110\n",
            " 115 118 119 121 151 157 186 202 220 237 278 337 401 408 429 455 476 477\n",
            " 478 481]\n",
            " \n",
            " Number of features selected by L1 feature selection: 36\n",
            " \n",
            " The following column indices of features were selected by L1 feature selection:\n",
            " [  5   9  10  11  12  17  21  24  33  35  36  42  51  57  93  95 110 115\n",
            " 118 119 121 151 157 202 220 237 278 337 401 408 429 455 476 477 478 481]\n",
            " \n",
            " Number of features selected by L1 feature selection: 36\n",
            " \n",
            " The following column indices of features were selected by L1 feature selection:\n",
            " [  5   9  10  11  12  17  21  24  33  35  36  42  51  57  93  95 110 115\n",
            " 118 119 121 151 157 202 220 237 278 337 401 408 429 455 476 477 478 481]\n",
            "\n",
            " Fold 3 of evaluation of feature selection methods\n",
            "\n",
            " The following column indices of features were selected by univariate feature selection: \n",
            " [  0   6   7   8   9  10  12  13  16 131 164 197 218 394 409 461 466 471\n",
            " 473 475]\n",
            "\n",
            " The following column indices of features were selected by univariate feature selection: \n",
            " [  0   1   6   7   8   9  10  12  13  16  17  28 112 131 161 164 182 197\n",
            " 200 218 280 383 387 394 409 414 419 432 461 466 468 470 471 473 475]\n",
            "\n",
            " The following column indices of features were selected by univariate feature selection: \n",
            " [  0   1   6   7   8   9  10  12  13  16  17  25  28  58  98 112 113 131\n",
            " 161 164 179 182 197 200 218 280 283 288 305 331 383 384 387 394 409 414\n",
            " 415 417 419 422 432 456 461 463 466 468 470 471 473 475]\n",
            "\n",
            " Optimal number of features according to rfecv: 79\n",
            " \n",
            " The following column indices of features were selected by RFECV: \n",
            " [  0   1   8   9  10  12  17  19  23  24  35  47  51  57  58  60  74  75\n",
            "  77  86  87  88  89  90  93  95  96 102 110 118 120 121 124 129 131 132\n",
            " 148 161 179 182 189 197 200 204 205 206 209 238 250 264 265 278 296 315\n",
            " 325 327 337 338 339 349 351 353 354 367 377 379 397 400 401 410 413 415\n",
            " 427 429 431 441 443 455 481]\n",
            "\n",
            " Optimal number of features according to rfecv: 6\n",
            " \n",
            " The following column indices of features were selected by RFECV: \n",
            " [  9  10  17  57 337 481]\n",
            "\n",
            " Optimal number of features according to rfecv: 72\n",
            " \n",
            " The following column indices of features were selected by RFECV: \n",
            " [  0   1   8   9  10  12  17  19  23  24  35  47  51  57  58  74  75  77\n",
            "  88  89  90  93  95  96 102 110 118 121 124 129 131 132 148 161 179 182\n",
            " 189 197 200 204 205 206 209 238 250 264 265 278 296 315 325 327 337 338\n",
            " 339 351 353 354 367 377 379 397 400 401 410 413 415 427 429 431 455 481]\n",
            " \n",
            " Number of features selected by L1 feature selection: 46\n",
            " \n",
            " The following column indices of features were selected by L1 feature selection:\n",
            " [  9  12  17  23  24  33  35  47  51  57  58  63  74  75  88  89  90  93\n",
            "  95 111 118 120 121 122 124 129 131 144 148 182 200 205 209 250 289 337\n",
            " 351 354 367 377 401 427 429 455 477 481]\n",
            " \n",
            " Number of features selected by L1 feature selection: 46\n",
            " \n",
            " The following column indices of features were selected by L1 feature selection:\n",
            " [  9  12  17  23  24  33  35  47  51  57  58  63  74  75  88  89  90  93\n",
            "  95 111 118 120 121 122 124 129 131 144 148 182 200 205 209 250 289 337\n",
            " 351 354 367 377 401 427 429 455 477 481]\n",
            " \n",
            " Number of features selected by L1 feature selection: 44\n",
            " \n",
            " The following column indices of features were selected by L1 feature selection:\n",
            " [  9  12  17  23  24  33  35  47  51  57  58  63  74  75  88  89  90  93\n",
            "  95 118 120 121 124 129 131 144 148 182 200 205 209 250 289 337 351 354\n",
            " 367 377 401 427 429 455 477 481]\n",
            "\n",
            " Fold 4 of evaluation of feature selection methods\n",
            "\n",
            " The following column indices of features were selected by univariate feature selection: \n",
            " [  0   6   7   9  10  12  13  16  23  28 131 161 182 197 237 336 341 422\n",
            " 466 471]\n",
            "\n",
            " The following column indices of features were selected by univariate feature selection: \n",
            " [  0   1   6   7   8   9  10  12  13  16  23  28  98 131 157 158 161 168\n",
            " 182 197 228 231 237 242 245 280 292 336 341 393 414 422 435 466 471]\n",
            "\n",
            " The following column indices of features were selected by univariate feature selection: \n",
            " [  0   1   2   6   7   8   9  10  12  13  16  23  28  98 101 113 131 157\n",
            " 158 161 168 182 197 200 228 231 237 242 245 252 260 280 288 292 336 341\n",
            " 345 354 387 392 393 409 414 422 435 466 468 470 471 473]\n",
            "\n",
            " Optimal number of features according to rfecv: 17\n",
            " \n",
            " The following column indices of features were selected by RFECV: \n",
            " [  1   8   9  10  17  24  45  47  93 157 248 319 322 367 430 477 481]\n",
            "\n",
            " Optimal number of features according to rfecv: 5\n",
            " \n",
            " The following column indices of features were selected by RFECV: \n",
            " [  9  10  24 157 322]\n",
            "\n",
            " Optimal number of features according to rfecv: 8\n",
            " \n",
            " The following column indices of features were selected by RFECV: \n",
            " [  9  10  17  24 157 322 430 481]\n",
            " \n",
            " Number of features selected by L1 feature selection: 48\n",
            " \n",
            " The following column indices of features were selected by L1 feature selection:\n",
            " [  9  17  22  24  28  33  35  43  45  51  57  62  77  82  87  88  93  95\n",
            " 110 113 120 121 124 129 157 189 200 202 222 235 250 289 337 338 339 351\n",
            " 367 372 415 427 429 430 455 476 477 478 479 481]\n",
            " \n",
            " Number of features selected by L1 feature selection: 47\n",
            " \n",
            " The following column indices of features were selected by L1 feature selection:\n",
            " [  9  17  22  24  28  33  35  43  45  51  57  62  77  87  88  93  95 110\n",
            " 113 120 121 124 129 157 189 200 202 222 235 250 289 337 338 339 351 367\n",
            " 372 415 427 429 430 455 476 477 478 479 481]\n",
            " \n",
            " Number of features selected by L1 feature selection: 47\n",
            " \n",
            " The following column indices of features were selected by L1 feature selection:\n",
            " [  9  17  22  24  28  33  35  43  45  51  57  62  77  87  88  93  95 110\n",
            " 113 120 121 124 129 157 189 200 202 222 235 250 289 337 338 339 351 367\n",
            " 372 415 427 429 430 455 476 477 478 479 481]\n",
            "\n",
            " Fold 5 of evaluation of feature selection methods\n",
            "\n",
            " The following column indices of features were selected by univariate feature selection: \n",
            " [  0   1   6   7   9  10  12  13  16  17 131 161 236 456 461 463 466 468\n",
            " 470 471]\n",
            "\n",
            " The following column indices of features were selected by univariate feature selection: \n",
            " [  0   1   6   7   8   9  10  12  13  16  17 111 131 161 197 236 260 280\n",
            " 314 383 384 387 392 394 416 419 432 435 456 461 463 466 468 470 471]\n",
            "\n",
            " The following column indices of features were selected by univariate feature selection: \n",
            " [  0   1   6   7   8   9  10  12  13  16  17 111 113 131 161 163 179 182\n",
            " 197 234 236 260 280 283 290 305 314 317 383 384 387 392 394 406 414 416\n",
            " 419 421 422 432 435 456 461 463 465 466 468 470 471 473]\n",
            "\n",
            " Optimal number of features according to rfecv: 8\n",
            " \n",
            " The following column indices of features were selected by RFECV: \n",
            " [  9  10  12  45  57  58 296 430]\n",
            "\n",
            " Optimal number of features according to rfecv: 14\n",
            " \n",
            " The following column indices of features were selected by RFECV: \n",
            " [  9  10  12  17  28  45  57  58 192 296 377 401 429 430]\n",
            "\n",
            " Optimal number of features according to rfecv: 14\n",
            " \n",
            " The following column indices of features were selected by RFECV: \n",
            " [  9  10  12  17  28  45  57  58 192 296 377 401 429 430]\n",
            " \n",
            " Number of features selected by L1 feature selection: 42\n",
            " \n",
            " The following column indices of features were selected by L1 feature selection:\n",
            " [  5   9  12  17  22  23  28  31  43  45  51  52  58  71  72  78  80  93\n",
            "  95 110 113 118 120 121 122 129 197 200 222 250 264 338 351 367 379 392\n",
            " 401 429 430 477 478 479]\n",
            " \n",
            " Number of features selected by L1 feature selection: 42\n",
            " \n",
            " The following column indices of features were selected by L1 feature selection:\n",
            " [  5   9  12  17  22  23  28  31  43  45  51  52  58  71  72  78  80  93\n",
            "  95 110 113 118 120 121 122 129 197 200 222 250 264 338 351 367 379 392\n",
            " 401 429 430 477 478 479]\n",
            " \n",
            " Number of features selected by L1 feature selection: 42\n",
            " \n",
            " The following column indices of features were selected by L1 feature selection:\n",
            " [  5   9  12  17  22  23  28  31  43  45  51  52  58  71  72  78  80  93\n",
            "  95 110 113 118 120 121 122 129 197 200 222 250 264 338 351 367 379 392\n",
            " 401 429 430 477 478 479]\n"
          ],
          "name": "stdout"
        }
      ]
    },
    {
      "cell_type": "code",
      "metadata": {
        "id": "yjZkilsa7oqf",
        "colab_type": "code",
        "colab": {
          "base_uri": "https://localhost:8080/",
          "height": 228
        },
        "outputId": "a924eab1-39d5-4b9f-dfcc-4841d49902c9"
      },
      "source": [
        "# Evaluate the different feature selection methods by comparing ROC\n",
        "for key, values in dict_uni.items():\n",
        "    mean_values = np.mean(values)\n",
        "    print(f'Mean ROC of univariate, {key} best: {mean_values}')\n",
        "for key, values in dict_rfecv.items():\n",
        "    mean_values = np.mean(values)\n",
        "    print(f'Mean ROC of RFECV, {key} scoring: {mean_values}')\n",
        "for key, values in dict_L1.items():\n",
        "    mean_values = np.mean(values)\n",
        "    print(f'Mean ROC of L1, threshold of {key}: {mean_values}')\n",
        "for key, values in dict_pca.items():\n",
        "    mean_values = np.mean(values)\n",
        "    print(f'Mean ROC of PCA, {key} components: {mean_values}')"
      ],
      "execution_count": 27,
      "outputs": [
        {
          "output_type": "stream",
          "text": [
            "Mean ROC of univariate, 20 best: 0.9282356532356533\n",
            "Mean ROC of univariate, 35 best: 0.9224297924297924\n",
            "Mean ROC of univariate, 50 best: 0.9238095238095237\n",
            "Mean ROC of RFECV, roc_auc scoring: 0.9087301587301588\n",
            "Mean ROC of RFECV, accuracy scoring: 0.8954456654456655\n",
            "Mean ROC of RFECV, balanced_accuracy scoring: 0.886959706959707\n",
            "Mean ROC of L1, threshold of 1e-05: 0.9199877899877901\n",
            "Mean ROC of L1, threshold of 0.001: 0.9165079365079365\n",
            "Mean ROC of L1, threshold of 0.01: 0.9152991452991455\n",
            "Mean ROC of PCA, 10 components: 0.8831013431013431\n",
            "Mean ROC of PCA, 20 components: 0.9037484737484738\n",
            "Mean ROC of PCA, 30 components: 0.8975702075702076\n"
          ],
          "name": "stdout"
        }
      ]
    },
    {
      "cell_type": "markdown",
      "metadata": {
        "id": "uopq0szG7oqo",
        "colab_type": "text"
      },
      "source": [
        "## 6. Outer and inner crossvalidation "
      ]
    },
    {
      "cell_type": "code",
      "metadata": {
        "tags": [
          "outputPrepend",
          "outputPrepend",
          "outputPrepend",
          "outputPrepend",
          "outputPrepend",
          "outputPrepend",
          "outputPrepend",
          "outputPrepend",
          "outputPrepend",
          "outputPrepend",
          "outputPrepend",
          "outputPrepend",
          "outputPrepend",
          "outputPrepend",
          "outputPrepend",
          "outputPrepend",
          "outputPrepend",
          "outputPrepend",
          "outputPrepend",
          "outputPrepend",
          "outputPrepend",
          "outputPrepend",
          "outputPrepend",
          "outputPrepend",
          "outputPrepend",
          "outputPrepend",
          "outputPrepend",
          "outputPrepend",
          "outputPrepend",
          "outputPrepend",
          "outputPrepend",
          "outputPrepend",
          "outputPrepend",
          "outputPrepend",
          "outputPrepend",
          "outputPrepend"
        ],
        "id": "okPCn7PN7oqp",
        "colab_type": "code",
        "colab": {
          "base_uri": "https://localhost:8080/",
          "height": 1000
        },
        "outputId": "30cacb87-e5b8-4203-dec2-e04762d7f805"
      },
      "source": [
        "skf_outer = StratifiedKFold(n_splits=5, random_state=42, shuffle=True)\n",
        "\n",
        "# Initialization\n",
        "FEATURES_SELECTED_TOTAL = list()\n",
        "fold = 0\n",
        "\n",
        "# Create dataframes\n",
        "ACCURACY = pd.DataFrame(columns=['SVM', 'RF', 'KNN'])\n",
        "ACCURACY_BALANCED = pd.DataFrame(columns=['SVM', 'RF', 'KNN'])\n",
        "AUC = pd.DataFrame(columns=['SVM', 'RF', 'KNN'])\n",
        "\n",
        "for train_index, test_index in skf_outer.split(DATA_FEAT_SEL, LABELS_SEL):\n",
        "    fold += 1\n",
        "    print(f'\\n \\n Run {fold} of outer crossvalidation')\n",
        "\n",
        "    # Split data into train and test set for outer crossvalidation\n",
        "    X_train, X_test = np.array(DATA_FEAT_SEL)[train_index], np.array(DATA_FEAT_SEL)[test_index]\n",
        "    y_train, y_test = np.array(LABELS_SEL)[train_index], np.array(LABELS_SEL)[test_index]\n",
        "\n",
        "    # ---------------------------------- IMPUTATION -----------------------------------\n",
        "\n",
        "    X_train_imp, X_test_imp = knn_impute_train_test_set(X_train, X_test)\n",
        "\n",
        "    # ------------------------------------ SCALING ----------------------------------------\n",
        "    X_train_scal, X_test_scal = scale_train_test_set(X_train_imp, X_test_imp)\n",
        "\n",
        "    # ------------------------------------ FEATURE SELECTION -------------------------------\n",
        "\n",
        "    # Determining optimal number of features k\n",
        "    k_options = [20, 30, 40, 50]\n",
        "    k_optimal = select_hyperparameter_feature_selection(X_train_scal, y_train, k_options)\n",
        "    print(f'The optimal k value for fold {fold} is: {k_optimal}')\n",
        "\n",
        "    # Univariate feature selection\n",
        "    X_train_sel, X_test_sel, selected_indices = select_features_univariate(\n",
        "                                                                          X_train_scal, y_train, \n",
        "                                                                          X_test_scal, k_value=k_optimal)\n",
        "\n",
        "    print(f'\\n The following column indices of features were selected by'\\\n",
        "          f'univariate feature selection: \\n {selected_indices}')\n",
        "\n",
        "    # Determine names of features that were selected\n",
        "    features_selected = list()\n",
        "    for index in selected_indices:\n",
        "        features_selected.append(DATA_FEAT_SEL.columns[index])\n",
        "    FEATURES_SELECTED_TOTAL.append(features_selected)\n",
        "\n",
        "    # -------------- INNER CROSSVALIDATION FOR DETERMINATION OF HYPERPARAMETERS OF CLASSIFIERS ----------------------------\n",
        "    svm_classifier = svm_randomized_search(X_train_sel, y_train)\n",
        "\n",
        "    rf_classifier = rf_randomized_search(X_train_sel, y_train)\n",
        "\n",
        "    knn_classifier = knn_randomized_search(X_train_sel, y_train)\n",
        "\n",
        "    clfs = [svm_classifier, rf_classifier, knn_classifier]\n",
        "    clfs_names = ['SVM', 'RF', 'KNN']\n",
        "\n",
        "    # ---------------- TRAIN AND TEST CLASSIFIERS (OUTER CROSSVALIDATION) ------------------------------------------------\n",
        "    # Initialisation\n",
        "    acc_dict = dict()\n",
        "    accuracy_total = list()\n",
        "\n",
        "    bal_acc_dict = dict()\n",
        "    bal_acc_total = list()\n",
        "\n",
        "    roc_auc_score_dict = dict()\n",
        "    roc_auc_score_total = list()\n",
        "\n",
        "    # Determine performance\n",
        "    for clf, name in zip(clfs, clfs_names):\n",
        "        acc_dict[name], bal_acc_dict[name], roc_auc_score_dict[name] = get_performance_classifier(\n",
        "                                                                                                 clf, X_train_sel, y_train,                                                                                                            X_test_sel, y_test)\n",
        "\n",
        "    accuracy_total.append(acc_dict)\n",
        "    bal_acc_total.append(bal_acc_dict)\n",
        "    roc_auc_score_total.append(roc_auc_score_dict)\n",
        "\n",
        "    ACCURACY = ACCURACY.append(acc_dict, ignore_index=True)\n",
        "    ACCURACY_BALANCED = ACCURACY_BALANCED.append(bal_acc_dict, ignore_index=True)\n",
        "    AUC = AUC.append(roc_auc_score_dict, ignore_index=True)\n",
        "\n",
        "    print(f'Regular accuracy: \\n {acc_dict}')\n",
        "    print(f'Balanced accuracy: \\n {bal_acc_dict}')\n",
        "    print(f'Roc auc score: \\n {roc_auc_score_dict}')\n",
        "\n",
        "    # -------------------- LEARNING CURVES --------------------------------------------------\n",
        "    # Initialisation\n",
        "    cv = StratifiedShuffleSplit(n_splits=5, test_size=0.2, random_state=42)\n",
        "    num = 0\n",
        "    fig = plt.figure(figsize=(24, 8*len(clfs)))\n",
        "\n",
        "    # Merge LGG and GBM patients\n",
        "    X_total = np.concatenate((X_train_sel, X_test_sel), axis=0)\n",
        "    y_total = np.concatenate([y_train, y_test])\n",
        "\n",
        "    # Compute learning curves\n",
        "    for clf in clfs:\n",
        "        title = str(type(clf))\n",
        "        ax = fig.add_subplot(7, 3, num+1)\n",
        "        plot_learning_curve(clf, title, X_total, y_total, ax, ylim=(0.3, 1.01),\n",
        "                            cv=cv, train_sizes=np.linspace(0.2, 1, 5))\n",
        "        num += 1"
      ],
      "execution_count": 28,
      "outputs": [
        {
          "output_type": "stream",
          "text": [
            "\n",
            " \n",
            " Run 1 of outer crossvalidation\n",
            "The performances of different hyperparameter-values across the five folds is:\n",
            "         20        30        40        50\n",
            "0  1.000000  1.000000  0.988235  0.994118\n",
            "1  0.872159  0.889205  0.869318  0.857955\n",
            "2  0.918750  0.918750  0.921875  0.918750\n",
            "3  0.900000  0.943750  0.931250  0.931250\n",
            "4  0.934375  0.931250  0.956250  0.918750\n",
            "The optimal k value for fold 1 is: 30\n",
            "\n",
            " The following column indices of features were selected byunivariate feature selection: \n",
            " [  0   6   7   8   9  10  12  13  16  28 113 131 161 197 234 236 242 280\n",
            " 283 290 292 384 387 392 393 394 414 470 471 473]\n",
            "Regular accuracy: \n",
            " {'SVM': 0.8823529411764706, 'RF': 0.9117647058823529, 'KNN': 0.8823529411764706}\n",
            "Balanced accuracy: \n",
            " {'SVM': 0.8754578754578755, 'RF': 0.8992673992673992, 'KNN': 0.8608058608058609}\n",
            "Roc auc score: \n",
            " {'SVM': 0.945054945054945, 'RF': 0.9413919413919414, 'KNN': 0.9212454212454213}\n",
            "\n",
            " \n",
            " Run 2 of outer crossvalidation\n",
            "The performances of different hyperparameter-values across the five folds is:\n",
            "         20        30        40       50\n",
            "0  1.000000  1.000000  1.000000  1.00000\n",
            "1  0.914773  0.937500  0.943182  0.93750\n",
            "2  0.897727  0.903409  0.909091  0.93750\n",
            "3  0.912500  0.937500  0.950000  0.93750\n",
            "4  0.956250  0.943750  0.925000  0.93125\n",
            "The optimal k value for fold 2 is: 50\n",
            "\n",
            " The following column indices of features were selected byunivariate feature selection: \n",
            " [  0   1   6   7   8   9  10  12  13  16  25  28  98 131 161 179 182 197\n",
            " 200 206 230 234 236 237 247 252 260 280 290 292 314 331 355 384 387 392\n",
            " 394 417 419 422 432 434 435 461 466 467 468 471 473 475]\n",
            "Regular accuracy: \n",
            " {'SVM': 0.7878787878787878, 'RF': 0.8787878787878788, 'KNN': 0.8787878787878788}\n",
            "Balanced accuracy: \n",
            " {'SVM': 0.7440476190476191, 'RF': 0.8333333333333333, 'KNN': 0.8333333333333333}\n",
            "Roc auc score: \n",
            " {'SVM': 0.8531746031746033, 'RF': 0.8293650793650793, 'KNN': 0.8948412698412698}\n",
            "\n",
            " \n",
            " Run 3 of outer crossvalidation\n",
            "The performances of different hyperparameter-values across the five folds is:\n",
            "         20        30        40        50\n",
            "0  0.894118  0.982353  0.982353  0.976471\n",
            "1  0.864706  0.882353  0.882353  0.858824\n",
            "2  0.843750  0.866477  0.866477  0.875000\n",
            "3  0.859375  0.853125  0.831250  0.825000\n",
            "4  1.000000  0.993750  0.987500  0.987500\n",
            "The optimal k value for fold 3 is: 30\n",
            "\n",
            " The following column indices of features were selected byunivariate feature selection: \n",
            " [  0   1   6   7   8   9  10  12  13  16  17  28 112 131 161 164 182 197\n",
            " 218 280 394 409 414 432 461 466 470 471 473 475]\n",
            "Regular accuracy: \n",
            " {'SVM': 0.9090909090909091, 'RF': 0.9090909090909091, 'KNN': 0.9090909090909091}\n",
            "Balanced accuracy: \n",
            " {'SVM': 0.8846153846153846, 'RF': 0.8846153846153846, 'KNN': 0.8846153846153846}\n",
            "Roc auc score: \n",
            " {'SVM': 0.9653846153846155, 'RF': 1.0, 'KNN': 0.9923076923076923}\n",
            "\n",
            " \n",
            " Run 4 of outer crossvalidation\n",
            "The performances of different hyperparameter-values across the five folds is:\n",
            "         20        30        40        50\n",
            "0  0.917647  0.917647  0.917647  0.917647\n",
            "1  0.844118  0.838235  0.847059  0.847059\n",
            "2  0.960227  0.982955  0.931818  0.926136\n",
            "3  1.000000  1.000000  1.000000  0.993750\n",
            "4  0.881250  0.918750  0.893750  0.887500\n",
            "The optimal k value for fold 4 is: 30\n",
            "\n",
            " The following column indices of features were selected byunivariate feature selection: \n",
            " [  0   6   7   8   9  10  12  13  16  23  28  98 131 158 161 182 197 228\n",
            " 237 242 245 280 336 341 393 414 422 435 466 471]\n",
            "Regular accuracy: \n",
            " {'SVM': 0.9393939393939394, 'RF': 0.9090909090909091, 'KNN': 0.9696969696969697}\n",
            "Balanced accuracy: \n",
            " {'SVM': 0.9365384615384615, 'RF': 0.898076923076923, 'KNN': 0.9615384615384616}\n",
            "Roc auc score: \n",
            " {'SVM': 0.9807692307692308, 'RF': 0.9538461538461538, 'KNN': 0.975}\n",
            "\n",
            " \n",
            " Run 5 of outer crossvalidation\n",
            "The performances of different hyperparameter-values across the five folds is:\n",
            "         20        30        40        50\n",
            "0  1.000000  1.000000  1.000000  1.000000\n",
            "1  0.885294  0.855882  0.861765  0.876471\n",
            "2  0.960227  0.957386  0.954545  0.957386\n",
            "3  0.918750  0.912500  0.900000  0.887500\n",
            "4  0.962500  0.975000  0.981250  0.987500\n",
            "The optimal k value for fold 5 is: 20\n",
            "\n",
            " The following column indices of features were selected byunivariate feature selection: \n",
            " [  0   1   6   7   9  10  12  13  16  17 131 161 384 456 461 463 466 468\n",
            " 470 471]\n",
            "Regular accuracy: \n",
            " {'SVM': 0.8484848484848485, 'RF': 0.8484848484848485, 'KNN': 0.8181818181818182}\n",
            "Balanced accuracy: \n",
            " {'SVM': 0.8346153846153846, 'RF': 0.8346153846153846, 'KNN': 0.7961538461538462}\n",
            "Roc auc score: \n",
            " {'SVM': 0.9307692307692308, 'RF': 0.9346153846153846, 'KNN': 0.8596153846153846}\n"
          ],
          "name": "stdout"
        },
        {
          "output_type": "display_data",
          "data": {
            "image/png": "[encoded data removed]",
            "text/plain": [
              "<Figure size 1728x1728 with 3 Axes>"
            ]
          },
          "metadata": {
            "tags": [],
            "needs_background": "light"
          }
        },
        {
          "output_type": "display_data",
          "data": {
            "image/png": "[encoded data removed]",
            "text/plain": [
              "<Figure size 1728x1728 with 3 Axes>"
            ]
          },
          "metadata": {
            "tags": [],
            "needs_background": "light"
          }
        },
        {
          "output_type": "display_data",
          "data": {
            "image/png": "[encoded data removed]",
            "text/plain": [
              "<Figure size 1728x1728 with 3 Axes>"
            ]
          },
          "metadata": {
            "tags": [],
            "needs_background": "light"
          }
        },
        {
          "output_type": "display_data",
          "data": {
            "image/png": "[encoded data removed]",
            "text/plain": [
              "<Figure size 1728x1728 with 3 Axes>"
            ]
          },
          "metadata": {
            "tags": [],
            "needs_background": "light"
          }
        },
        {
          "output_type": "display_data",
          "data": {
            "image/png": "[encoded data removed]",
            "text/plain": [
              "<Figure size 1728x1728 with 3 Axes>"
            ]
          },
          "metadata": {
            "tags": [],
            "needs_background": "light"
          }
        }
      ]
    },
    {
      "cell_type": "markdown",
      "metadata": {
        "id": "6qK9OCPp7oqx",
        "colab_type": "text"
      },
      "source": [
        "## 7. Performance of classifiers"
      ]
    },
    {
      "cell_type": "code",
      "metadata": {
        "id": "E5G1NQP_7oqz",
        "colab_type": "code",
        "colab": {
          "base_uri": "https://localhost:8080/",
          "height": 368
        },
        "outputId": "b0091129-4057-4e89-875f-7c4b0cae3656"
      },
      "source": [
        "# Determine mean accuracy, balanced accuracy and AUC score per classifier\n",
        "MEAN_ACC = ACCURACY.mean()\n",
        "print(f'The mean accuracy per classifier is: \\n{MEAN_ACC}')\n",
        "MEAN_ACC_BAL = ACCURACY_BALANCED.mean()\n",
        "print(f'The mean balanced accuracy per classifier is: \\n{MEAN_ACC_BAL}')\n",
        "MEAN_AUC = AUC.mean()\n",
        "STD_AUC = AUC.std()\n",
        "print(f'The mean AUC per classifier is: \\n{MEAN_AUC}')\n",
        "print(f'The standard deviation of AUC per classifier is: \\n{STD_AUC}')"
      ],
      "execution_count": 29,
      "outputs": [
        {
          "output_type": "stream",
          "text": [
            "The mean accuracy per classifier is: \n",
            "SVM    0.873440\n",
            "RF     0.891444\n",
            "KNN    0.891622\n",
            "dtype: float64\n",
            "The mean balanced accuracy per classifier is: \n",
            "SVM    0.855055\n",
            "RF     0.869982\n",
            "KNN    0.867289\n",
            "dtype: float64\n",
            "The mean AUC per classifier is: \n",
            "SVM    0.935031\n",
            "RF     0.931844\n",
            "KNN    0.928602\n",
            "dtype: float64\n",
            "The standard deviation of AUC per classifier is: \n",
            "SVM    0.049579\n",
            "RF     0.062710\n",
            "KNN    0.055146\n",
            "dtype: float64\n"
          ],
          "name": "stdout"
        }
      ]
    },
    {
      "cell_type": "code",
      "metadata": {
        "id": "pfEzO3507oq5",
        "colab_type": "code",
        "colab": {}
      },
      "source": [
        ""
      ],
      "execution_count": 0,
      "outputs": []
    }
  ]
}