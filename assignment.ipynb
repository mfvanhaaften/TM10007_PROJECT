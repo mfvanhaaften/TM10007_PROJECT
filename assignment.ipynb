{
 "cells": [
  {
   "cell_type": "markdown",
   "metadata": {
    "colab_type": "text",
    "id": "7SXpaKwwGe5x"
   },
   "source": [
    "# TM10007 Assignment template"
   ]
  },
  {
   "cell_type": "code",
   "execution_count": 6,
   "metadata": {},
   "outputs": [],
   "source": [
    "# Run this to use from colab environment\n",
    "#!pip install -q --upgrade git+https://github.com/karinvangarderen/tm10007_project.git"
   ]
  },
  {
   "cell_type": "markdown",
   "metadata": {},
   "source": [
    "## Data loading and cleaning\n",
    "\n",
    "Below are functions to load the dataset of your choice. After that, it is all up to you to create and evaluate a classification method. Beware, there may be missing values in these datasets. Good luck!"
   ]
  },
  {
   "cell_type": "code",
   "execution_count": 7,
   "metadata": {},
   "outputs": [],
   "source": [
    "import numpy as np\n",
    "from sklearn.impute import KNNImputer\n",
    "\n",
    "from brats.load_data import load_data"
   ]
  },
  {
   "cell_type": "code",
   "execution_count": 8,
   "metadata": {},
   "outputs": [
    {
     "name": "stdout",
     "output_type": "stream",
     "text": "The number of samples: 167\nThe number of columns: 725\n"
    }
   ],
   "source": [
    "# Load data\n",
    "\n",
    "data = load_data()\n",
    "print(f'The number of samples: {len(data.index)}')\n",
    "print(f'The number of columns: {len(data.columns)}')\n"
   ]
  },
  {
   "cell_type": "code",
   "execution_count": 9,
   "metadata": {},
   "outputs": [],
   "source": [
    "# Count number of NaN values for each row and column\n",
    "no_nan_row = data.isnull().sum(axis=1)\n",
    "no_nan_col = data.isnull().sum(axis=0)\n",
    "\n",
    "# Drop column containing patient labels for imputation\n",
    "data_imp = data.drop(columns=['label'])\n",
    "\n",
    "# Impute NaN values using k-NearestNeighbor\n",
    "imputer = KNNImputer(n_neighbors=5, weights=\"uniform\")\n",
    "array_imp = imputer.fit_transform(data_imp)\n",
    "\n",
    "data_imp[:] = array_imp\n",
    "data_imp['label'] = data['label']\n",
    "#no_nan_array = np.count_nonzero(np.isnan(array_imp))\n",
    "#no_nan_row_imp = data_imp.isnull().sum().sum()\n",
    "\n",
    "\n",
    "\n"
   ]
  },
  {
   "cell_type": "code",
   "execution_count": 10,
   "metadata": {},
   "outputs": [],
   "source": [
    "# Determining the number of NaN for GBM and LGG seperately\n",
    "# It can be usefull to see from which the class the NaN's come from\n",
    "# This should/might be taken into account when selecting the features\n",
    "\n",
    "import pandas as pd\n",
    "\n",
    "GBM = data.loc[data['label'] == 'GBM']\n",
    "GBM_no_nan_col = GBM.isnull().sum(axis=0)\n",
    "LGG = data.loc[data['label'] == 'LGG']\n",
    "LGG_no_nan_col = LGG.isnull().sum(axis=0)\n",
    "\n",
    "frame = { 'Total (n=167)': no_nan_col, 'GBM (n=102)': GBM_no_nan_col, 'LGG (n=65)': LGG_no_nan_col } \n",
    "overview_nan = pd.DataFrame(frame)"
   ]
  },
  {
   "cell_type": "code",
   "execution_count": null,
   "metadata": {},
   "outputs": [],
   "source": []
  }
 ],
 "metadata": {
  "colab": {
   "collapsed_sections": [],
   "name": "assignment.ipynb",
   "provenance": []
  },
  "kernelspec": {
   "display_name": "Python 3",
   "language": "python",
   "name": "python3"
  },
  "language_info": {
   "codemirror_mode": {
    "name": "ipython",
    "version": 3
   },
   "file_extension": ".py",
   "mimetype": "text/x-python",
   "name": "python",
   "nbconvert_exporter": "python",
   "pygments_lexer": "ipython3",
   "version": "3.7.6-final"
  }
 },
 "nbformat": 4,
 "nbformat_minor": 1
}