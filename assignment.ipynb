{
 "cells": [
  {
   "cell_type": "markdown",
   "execution_count": null,
   "metadata": {
    "colab_type": "text",
    "id": "7SXpaKwwGe5x"
   },
   "outputs": [],
   "source": [
    "# TM10007 Assignment: Prediction of Tumor Grade in Brain Cancer"
   ]
  },
  {
   "cell_type": "markdown",
   "metadata": {},
   "source": [
    "Group 4: Kiefer Comassi (4402359), Myrthe van Haaften (4547470), Frédérique Koopman (4470885), Stephanie Stoutjesdijk (4557808)\n"
   ],
   "execution_count": null,
   "outputs": []
  },
  {
   "cell_type": "markdown",
   "metadata": {},
   "source": [
    "## Installing and importing functions and packages"
   ],
   "execution_count": null,
   "outputs": []
  },
  {
   "cell_type": "code",
   "execution_count": 142,
   "metadata": {},
   "outputs": [],
   "source": [
    "# Run this to use from colab environment\n",
    "#!pip install -q --upgrade git+https://github.com/karinvangarderen/tm10007_project.git\n",
    "#!pip install missingpy"
   ]
  },
  {
   "cell_type": "code",
   "execution_count": 1,
   "metadata": {},
   "outputs": [],
   "source": [
    "import numpy as np\n",
    "import pandas as pd\n",
    "from math import floor\n",
    "import matplotlib.pyplot as plt\n",
    "\n",
    "from scipy.stats import shapiro\n",
    "from sklearn.model_selection import train_test_split\n",
    "from sklearn.preprocessing import RobustScaler\n",
    "from sklearn.preprocessing import StandardScaler\n",
    "from sklearn.preprocessing import MinMaxScaler\n",
    "from missingpy import KNNImputer\n",
    "from sklearn.svm import SVC\n",
    "from sklearn.model_selection import StratifiedKFold\n",
    "from sklearn.feature_selection import RFECV\n",
    "from sklearn import svm\n",
    "\n",
    "from brats.load_data import load_data"
   ]
  },
  {
   "cell_type": "markdown",
   "metadata": {},
   "source": [
    "## Loading and splitting data "
   ],
   "execution_count": null,
   "outputs": []
  },
  {
   "cell_type": "code",
   "execution_count": 4,
   "metadata": {},
   "outputs": [],
   "source": [
    "# Load data\n",
    "data = load_data()\n",
    "\n",
    "# Splitting feature values and patient labels\n",
    "FEATURES = data.drop(columns=['label'])\n",
    "LABELS = data['label']\n",
    "\n",
    "# Splitting into train and test set\n",
    "X_TRAIN, X_TEST, Y_TRAIN, Y_TEST = train_test_split(FEATURES, LABELS, test_size=0.2, random_state=42)\n",
    "\n",
    "GBM_TRAIN = X_TRAIN.loc[Y_TRAIN=='GBM']\n",
    "LGG_TRAIN = X_TRAIN.loc[Y_TRAIN=='LGG']\n",
    "\n",
    ""
   ]
  },
  {
   "cell_type": "code",
   "execution_count": 9,
   "metadata": {},
   "outputs": [],
   "source": [
    "# Outer crossvalidation loop\n",
    "skf = StratifiedKFold(n_splits=5, random_state=None, shuffle=False)\n",
    "for train_index, test_index in skf.split(FEATURES, LABELS):\n",
    "        #print(\"TRAIN:\", train_index, \"TEST:\", test_index)\n",
    "        X_train, X_test = np.array(FEATURES)[train_index], np.array(FEATURES)[test_index]\n",
    "        y_train, y_test = np.array(LABELS)[train_index], np.array(LABELS)[test_index]"
   ]
  },
  {
   "cell_type": "markdown",
   "metadata": {},
   "source": [
    "## Preprocessing"
   ],
   "execution_count": null,
   "outputs": []
  },
  {
   "cell_type": "markdown",
   "metadata": {},
   "source": [
    "Overview of the NaN's in the dataset"
   ],
   "execution_count": null,
   "outputs": []
  },
  {
   "cell_type": "code",
   "execution_count": 145,
   "metadata": {},
   "outputs": [],
   "source": [
    "# Determining the number of NaN's\n",
    "NO_NAN_ROW_TOTAL = X_TRAIN.isnull().sum(axis=1)             # Number of NaN's per patient for GBM and LGG patients\n",
    "NO_NAN_COL_TOTAL = X_TRAIN.isnull().sum(axis=0)             # Number of NaN's per feature for GBM and LGG patients\n",
    "\n",
    "GBM_NO_NAN_COL = GBM_TRAIN.isnull().sum(axis=0)             # Number of NaN's per feature for GBM patients\n",
    "LGG_NO_NAN_COL = LGG_TRAIN.isnull().sum(axis=0)             # Number of NaN's per feature for LGG patients\n",
    "OVERVIEW_NAN = { 'Total': NO_NAN_COL_TOTAL, 'GBM': GBM_NO_NAN_COL, 'LGG': LGG_NO_NAN_COL } \n",
    ""
   ]
  },
  {
   "cell_type": "markdown",
   "metadata": {},
   "source": [
    "Feature selection based on the number of NaN's. Threshold = the maximum number of NaN's in a column."
   ],
   "execution_count": null,
   "outputs": []
  },
  {
   "cell_type": "code",
   "execution_count": 146,
   "metadata": {},
   "outputs": [
    {
     "output_type": "stream",
     "name": "stdout",
     "text": "These samples are removed from trainingset:\nTCGA-DU-A5TU\nTCGA-DU-8162\nTCGA-CS-6669\nTCGA-HT-7602\nTCGA-DU-5874\nTCGA-DU-8166\nTCGA-DU-7019\nTCGA-DU-7299\nTCGA-CS-6666\nTCGA-FG-6691\nTCGA-FG-7634\nTCGA-HT-7884\nTCGA-HT-7686\nTCGA-CS-4944\nTCGA-HT-A61A\nTCGA-CS-5397\n117 samples are left in trainingset\n704 features are left in trainingset\n"
    }
   ],
   "source": [
    "# Define percentage of patients with no data for a certain feature, above which the feature is discarded\n",
    "PERC_MISSING_GBM = 30\n",
    "PERC_MISSING_LGG = 30\n",
    "\n",
    "# Determining threshold for discarding feature based on above percentage\n",
    "THRESHOLD_GBM = floor((PERC_MISSING_GBM/100) * len(GBM_TRAIN.index))\n",
    "THRESHOLD_LGG = floor((PERC_MISSING_LGG/100) * len(LGG_TRAIN.index))\n",
    "\n",
    "# Initialisation\n",
    "FEATURES_REMOVED = []\n",
    "\n",
    "# Append names of features that should be discarded to list\n",
    "\n",
    "for feature in GBM_NO_NAN_COL[GBM_NO_NAN_COL > THRESHOLD_GBM].index[:]:\n",
    "    FEATURES_REMOVED.append(feature)\n",
    "\n",
    "for feature in LGG_NO_NAN_COL[LGG_NO_NAN_COL > THRESHOLD_LGG].index[:]:\n",
    "    FEATURES_REMOVED.append(feature)\n",
    "\n",
    "# Remove features from dataset\n",
    "X_TRAIN_FEAT_SEL = X_TRAIN.drop(columns=[features for features in set(FEATURES_REMOVED)])\n",
    "X_TEST_FEAT_SEL = X_TEST.drop(columns=[features for features in set(FEATURES_REMOVED)])\n",
    "\n",
    "# The variables (series) below 'bins' the NaN's:\n",
    "# - the index column is the amount of NaN's in the dataset \n",
    "# - the second column is the amount of features that have this amount of NaN's\n",
    "\n",
    "#aantal_NAN_GBM = GBM_no_nan_col.value_counts()\n",
    "#aantal_NAN_LGG = LGG_no_nan_col.value_counts()\n",
    "#aantal_NAN_total = no_nan_col.value_counts()\n",
    "\n",
    "##############\n",
    "\n",
    "# Number of NaN's per patient AFTER removing some features\n",
    "NO_NAN_ROW_TOTAL_2 = X_TRAIN_FEAT_SEL.isnull().sum(axis=1)      \n",
    "\n",
    "# Percentage/number of features that a patient is allowed to miss. When above this amount, this patient is removed from the trainingset, because it is missing too many features. \n",
    "PERC_MISSING_SAMPLE = 30\n",
    "\n",
    "# Make the threshold\n",
    "THRESHOLD_SAMPLE = floor((PERC_MISSING_SAMPLE/100) * len(X_TRAIN_FEAT_SEL.columns))\n",
    "\n",
    "# Make an empty list, which will be filled with samples that are above the threshold -->\n",
    "# This is only for consistency, because there is also a FEATURES_REMOVED variable.                              # It is not used anywhere else, so it can be removed if necessary. \n",
    "SAMPLES_REMOVED = []   \n",
    "\n",
    "# Looping over the trainingset to determine which patients are above the threshold, and remove them directly.\n",
    "print('These samples are removed from trainingset:')\n",
    "for sample in NO_NAN_ROW_TOTAL_2[NO_NAN_ROW_TOTAL_2 > THRESHOLD_SAMPLE].index[:]:\n",
    "    print(sample)\n",
    "    SAMPLES_REMOVED.append(sample)      # This should be removed in combination with the comment before\n",
    "    X_TRAIN_FEAT_SEL = X_TRAIN_FEAT_SEL.drop(index=sample)\n",
    "    Y_TRAIN = Y_TRAIN.drop(index=sample)\n",
    "\n",
    "print(f'{len(X_TRAIN_FEAT_SEL)} samples are left in trainingset')\n",
    "print(f'{len(X_TRAIN_FEAT_SEL.columns)} features are left in trainingset')"
   ]
  },
  {
   "cell_type": "markdown",
   "metadata": {},
   "source": [
    "kNN imputation of missing values"
   ],
   "execution_count": null,
   "outputs": []
  },
  {
   "cell_type": "code",
   "execution_count": 147,
   "metadata": {},
   "outputs": [],
   "source": [
    "# Definition of imputers\n",
    "IMPUTER_GBM = KNNImputer(n_neighbors=5, weights=\"uniform\")\n",
    "IMPUTER_LGG = KNNImputer(n_neighbors=5, weights=\"uniform\")\n",
    "IMPUTER_TEST = KNNImputer(n_neighbors=5, weights=\"uniform\")\n",
    "\n",
    "# Impute GBM train set\n",
    "X_TRAIN_FEAT_SEL_GBM = X_TRAIN_FEAT_SEL.loc[Y_TRAIN=='GBM']\n",
    "X_TRAIN_IMP_GBM = IMPUTER_GBM.fit_transform(X_TRAIN_FEAT_SEL_GBM)    \n",
    "\n",
    "# Impute LGG train set\n",
    "X_TRAIN_FEAT_SEL_LGG = X_TRAIN_FEAT_SEL.loc[Y_TRAIN=='LGG']\n",
    "X_TRAIN_IMP_LGG = IMPUTER_LGG.fit_transform(X_TRAIN_FEAT_SEL_LGG)    \n",
    "\n",
    "# Merge imputed GBM and LGG arrays\n",
    "X_TRAIN_IMP_TOT = np.concatenate((X_TRAIN_IMP_GBM, X_TRAIN_IMP_LGG))\n",
    "                                \n",
    "#LGG_IMPUTED[:] = ARRAY_IMP_LGG                                                      # Overwrite original values with imputed values in dataframe\n",
    "#LGG_IMPUTED['label'] = 'LGG'                                                        # Add column containing label\n",
    "\n",
    "# Impute test set \n",
    "IMPUTER_TEST.fit(X_TRAIN_IMP_TOT)\n",
    "X_TEST_IMP = IMPUTER_TEST.transform(X_TEST_FEAT_SEL)"
   ]
  },
  {
   "cell_type": "markdown",
   "metadata": {},
   "source": [
    "Evaluation of data distribution and outliers"
   ],
   "execution_count": null,
   "outputs": []
  },
  {
   "cell_type": "code",
   "execution_count": 148,
   "metadata": {},
   "outputs": [],
   "source": [
    "# Evaluate data distribution: \n",
    "IMPUTER_TOTAL = KNNImputer(n_neighbors=5, weights=\"uniform\")\n",
    "\n",
    "FEATURES_SEL = FEATURES.drop(columns=[features for features in set(FEATURES_REMOVED)])\n",
    "FEATURES_SEL = FEATURES_SEL.drop(index=[sample for sample in set(SAMPLES_REMOVED)])\n",
    "DATA_TOTAL_IMPUTED = IMPUTER_TOTAL.fit_transform(FEATURES_SEL)\n",
    "\n",
    "NO_NORM_DISTR = 0\n",
    "FEAT_NORM = list()\n",
    "for index, feature in enumerate(DATA_TOTAL_IMPUTED.T):\n",
    "    t_stat, p_value = shapiro(feature)\n",
    "    if p_value>0.05:\n",
    "        NO_NORM_DISTR += 1 \n",
    "        FEAT_NORM.append(index)\n",
    "\n",
    ""
   ]
  },
  {
   "cell_type": "code",
   "execution_count": 149,
   "metadata": {},
   "outputs": [],
   "source": [
    "\n",
    "# Evaluate per patient each feature\n",
    "NO_OUTLIERS = 0\n",
    "\n",
    "for patient in DATA_TOTAL_IMPUTED:\n",
    "    feat_out = 0\n",
    "    for index, feature in enumerate(patient):\n",
    "        if index in FEAT_NORM:\n",
    "            mu = DATA_TOTAL_IMPUTED[:,index].mean()\n",
    "            std = DATA_TOTAL_IMPUTED[:,index].std()\n",
    "            outlier = ((feature>mu+3*std) | (feature<mu-3*std))\n",
    "            feat_out += outlier\n",
    "        else:\n",
    "           q25, q75 = np.percentile(DATA_TOTAL_IMPUTED[:,index], 25), np.percentile(DATA_TOTAL_IMPUTED[:,index], 75)\n",
    "           iqr = q75 - q25\n",
    "           cut_off = iqr * 1.5\n",
    "           lower, upper = q25 - cut_off, q75 + cut_off\n",
    "           outlier = ((feature>upper) | (feature<lower))\n",
    "           feat_out += outlier\n",
    "    if feat_out > 70:\n",
    "        NO_OUTLIERS += 1\n",
    "\n",
    "# Calculate mean and standard deviation per feature based on training data\n",
    "#MEAN = DATA_TOTAL_IMPUTED.mean(axis=0)\n",
    "#STD = DATA_TOTAL_IMPUTED.std(axis=0)\n",
    "\n",
    "# Evaluate per patient each feature\n",
    "#NO_OUTLIERS = 0\n",
    "#for patient in DATA_TOTAL_IMPUTED:\n",
    "#    feat_out = 0\n",
    "#    for feature, mu, std in zip(patient, MEAN, STD):\n",
    "#        outlier = ((feature>mu+3*std) | (feature<mu-3*std))\n",
    "#        feat_out += outlier\n",
    "#    if feat_out > 30:\n",
    "#        no_outliers += 1"
   ]
  },
  {
   "cell_type": "markdown",
   "metadata": {},
   "source": [
    "Scaling of data"
   ],
   "execution_count": null,
   "outputs": []
  },
  {
   "cell_type": "code",
   "execution_count": 150,
   "metadata": {},
   "outputs": [],
   "source": [
    "SCALER = RobustScaler()\n",
    "SCALER.fit(X_TRAIN_IMP_TOT)\n",
    "X_TRAIN_SCAL = SCALER.transform(X_TRAIN_IMP_TOT)\n",
    "X_TEST_SCAL = SCALER.transform(X_TEST_IMP)\n",
    ""
   ]
  },
  {
   "cell_type": "markdown",
   "metadata": {},
   "source": [
    "Feature selection"
   ]
  },
  {
   "cell_type": "code",
   "execution_count": 151,
   "metadata": {},
   "outputs": [
    {
     "output_type": "stream",
     "name": "stdout",
     "text": "Optimal number of features : 67\n"
    },
    {
     "output_type": "display_data",
     "data": {
      "text/plain": "<Figure size 432x288 with 1 Axes>",
      "image/svg+xml": "<?xml version=\"1.0\" encoding=\"utf-8\" standalone=\"no\"?>\n<!DOCTYPE svg PUBLIC \"-//W3C//DTD SVG 1.1//EN\"\n  \"http://www.w3.org/Graphics/SVG/1.1/DTD/svg11.dtd\">\n<!-- Created with matplotlib (https://matplotlib.org/) -->\n<svg height=\"282.698125pt\" version=\"1.1\" viewBox=\"0 0 392.14375 282.698125\" width=\"392.14375pt\" xmlns=\"http://www.w3.org/2000/svg\" xmlns:xlink=\"http://www.w3.org/1999/xlink\">\n <defs>\n  <style type=\"text/css\">\n*{stroke-linecap:butt;stroke-linejoin:round;}\n  </style>\n </defs>\n <g id=\"figure_1\">\n  <g id=\"patch_1\">\n   <path d=\"M -0 282.698125 \nL 392.14375 282.698125 \nL 392.14375 0 \nL -0 0 \nz\n\" style=\"fill:none;\"/>\n  </g>\n  <g id=\"axes_1\">\n   <g id=\"patch_2\">\n    <path d=\"M 50.14375 245.141875 \nL 384.94375 245.141875 \nL 384.94375 27.701875 \nL 50.14375 27.701875 \nz\n\" style=\"fill:#ffffff;\"/>\n   </g>\n   <g id=\"matplotlib.axis_1\">\n    <g id=\"xtick_1\">\n     <g id=\"line2d_1\">\n      <defs>\n       <path d=\"M 0 0 \nL 0 3.5 \n\" id=\"mf10f47febf\" style=\"stroke:#000000;stroke-width:0.8;\"/>\n      </defs>\n      <g>\n       <use style=\"stroke:#000000;stroke-width:0.8;\" x=\"64.928982\" xlink:href=\"#mf10f47febf\" y=\"245.141875\"/>\n      </g>\n     </g>\n     <g id=\"text_1\">\n      <!-- 0 -->\n      <defs>\n       <path d=\"M 31.78125 66.40625 \nQ 24.171875 66.40625 20.328125 58.90625 \nQ 16.5 51.421875 16.5 36.375 \nQ 16.5 21.390625 20.328125 13.890625 \nQ 24.171875 6.390625 31.78125 6.390625 \nQ 39.453125 6.390625 43.28125 13.890625 \nQ 47.125 21.390625 47.125 36.375 \nQ 47.125 51.421875 43.28125 58.90625 \nQ 39.453125 66.40625 31.78125 66.40625 \nz\nM 31.78125 74.21875 \nQ 44.046875 74.21875 50.515625 64.515625 \nQ 56.984375 54.828125 56.984375 36.375 \nQ 56.984375 17.96875 50.515625 8.265625 \nQ 44.046875 -1.421875 31.78125 -1.421875 \nQ 19.53125 -1.421875 13.0625 8.265625 \nQ 6.59375 17.96875 6.59375 36.375 \nQ 6.59375 54.828125 13.0625 64.515625 \nQ 19.53125 74.21875 31.78125 74.21875 \nz\n\" id=\"DejaVuSans-48\"/>\n      </defs>\n      <g transform=\"translate(61.747732 259.740312)scale(0.1 -0.1)\">\n       <use xlink:href=\"#DejaVuSans-48\"/>\n      </g>\n     </g>\n    </g>\n    <g id=\"xtick_2\">\n     <g id=\"line2d_2\">\n      <g>\n       <use style=\"stroke:#000000;stroke-width:0.8;\" x=\"108.223952\" xlink:href=\"#mf10f47febf\" y=\"245.141875\"/>\n      </g>\n     </g>\n     <g id=\"text_2\">\n      <!-- 100 -->\n      <defs>\n       <path d=\"M 12.40625 8.296875 \nL 28.515625 8.296875 \nL 28.515625 63.921875 \nL 10.984375 60.40625 \nL 10.984375 69.390625 \nL 28.421875 72.90625 \nL 38.28125 72.90625 \nL 38.28125 8.296875 \nL 54.390625 8.296875 \nL 54.390625 0 \nL 12.40625 0 \nz\n\" id=\"DejaVuSans-49\"/>\n      </defs>\n      <g transform=\"translate(98.680202 259.740312)scale(0.1 -0.1)\">\n       <use xlink:href=\"#DejaVuSans-49\"/>\n       <use x=\"63.623047\" xlink:href=\"#DejaVuSans-48\"/>\n       <use x=\"127.246094\" xlink:href=\"#DejaVuSans-48\"/>\n      </g>\n     </g>\n    </g>\n    <g id=\"xtick_3\">\n     <g id=\"line2d_3\">\n      <g>\n       <use style=\"stroke:#000000;stroke-width:0.8;\" x=\"151.518921\" xlink:href=\"#mf10f47febf\" y=\"245.141875\"/>\n      </g>\n     </g>\n     <g id=\"text_3\">\n      <!-- 200 -->\n      <defs>\n       <path d=\"M 19.1875 8.296875 \nL 53.609375 8.296875 \nL 53.609375 0 \nL 7.328125 0 \nL 7.328125 8.296875 \nQ 12.9375 14.109375 22.625 23.890625 \nQ 32.328125 33.6875 34.8125 36.53125 \nQ 39.546875 41.84375 41.421875 45.53125 \nQ 43.3125 49.21875 43.3125 52.78125 \nQ 43.3125 58.59375 39.234375 62.25 \nQ 35.15625 65.921875 28.609375 65.921875 \nQ 23.96875 65.921875 18.8125 64.3125 \nQ 13.671875 62.703125 7.8125 59.421875 \nL 7.8125 69.390625 \nQ 13.765625 71.78125 18.9375 73 \nQ 24.125 74.21875 28.421875 74.21875 \nQ 39.75 74.21875 46.484375 68.546875 \nQ 53.21875 62.890625 53.21875 53.421875 \nQ 53.21875 48.921875 51.53125 44.890625 \nQ 49.859375 40.875 45.40625 35.40625 \nQ 44.1875 33.984375 37.640625 27.21875 \nQ 31.109375 20.453125 19.1875 8.296875 \nz\n\" id=\"DejaVuSans-50\"/>\n      </defs>\n      <g transform=\"translate(141.975171 259.740312)scale(0.1 -0.1)\">\n       <use xlink:href=\"#DejaVuSans-50\"/>\n       <use x=\"63.623047\" xlink:href=\"#DejaVuSans-48\"/>\n       <use x=\"127.246094\" xlink:href=\"#DejaVuSans-48\"/>\n      </g>\n     </g>\n    </g>\n    <g id=\"xtick_4\">\n     <g id=\"line2d_4\">\n      <g>\n       <use style=\"stroke:#000000;stroke-width:0.8;\" x=\"194.813891\" xlink:href=\"#mf10f47febf\" y=\"245.141875\"/>\n      </g>\n     </g>\n     <g id=\"text_4\">\n      <!-- 300 -->\n      <defs>\n       <path d=\"M 40.578125 39.3125 \nQ 47.65625 37.796875 51.625 33 \nQ 55.609375 28.21875 55.609375 21.1875 \nQ 55.609375 10.40625 48.1875 4.484375 \nQ 40.765625 -1.421875 27.09375 -1.421875 \nQ 22.515625 -1.421875 17.65625 -0.515625 \nQ 12.796875 0.390625 7.625 2.203125 \nL 7.625 11.71875 \nQ 11.71875 9.328125 16.59375 8.109375 \nQ 21.484375 6.890625 26.8125 6.890625 \nQ 36.078125 6.890625 40.9375 10.546875 \nQ 45.796875 14.203125 45.796875 21.1875 \nQ 45.796875 27.640625 41.28125 31.265625 \nQ 36.765625 34.90625 28.71875 34.90625 \nL 20.21875 34.90625 \nL 20.21875 43.015625 \nL 29.109375 43.015625 \nQ 36.375 43.015625 40.234375 45.921875 \nQ 44.09375 48.828125 44.09375 54.296875 \nQ 44.09375 59.90625 40.109375 62.90625 \nQ 36.140625 65.921875 28.71875 65.921875 \nQ 24.65625 65.921875 20.015625 65.03125 \nQ 15.375 64.15625 9.8125 62.3125 \nL 9.8125 71.09375 \nQ 15.4375 72.65625 20.34375 73.4375 \nQ 25.25 74.21875 29.59375 74.21875 \nQ 40.828125 74.21875 47.359375 69.109375 \nQ 53.90625 64.015625 53.90625 55.328125 \nQ 53.90625 49.265625 50.4375 45.09375 \nQ 46.96875 40.921875 40.578125 39.3125 \nz\n\" id=\"DejaVuSans-51\"/>\n      </defs>\n      <g transform=\"translate(185.270141 259.740312)scale(0.1 -0.1)\">\n       <use xlink:href=\"#DejaVuSans-51\"/>\n       <use x=\"63.623047\" xlink:href=\"#DejaVuSans-48\"/>\n       <use x=\"127.246094\" xlink:href=\"#DejaVuSans-48\"/>\n      </g>\n     </g>\n    </g>\n    <g id=\"xtick_5\">\n     <g id=\"line2d_5\">\n      <g>\n       <use style=\"stroke:#000000;stroke-width:0.8;\" x=\"238.108861\" xlink:href=\"#mf10f47febf\" y=\"245.141875\"/>\n      </g>\n     </g>\n     <g id=\"text_5\">\n      <!-- 400 -->\n      <defs>\n       <path d=\"M 37.796875 64.3125 \nL 12.890625 25.390625 \nL 37.796875 25.390625 \nz\nM 35.203125 72.90625 \nL 47.609375 72.90625 \nL 47.609375 25.390625 \nL 58.015625 25.390625 \nL 58.015625 17.1875 \nL 47.609375 17.1875 \nL 47.609375 0 \nL 37.796875 0 \nL 37.796875 17.1875 \nL 4.890625 17.1875 \nL 4.890625 26.703125 \nz\n\" id=\"DejaVuSans-52\"/>\n      </defs>\n      <g transform=\"translate(228.565111 259.740312)scale(0.1 -0.1)\">\n       <use xlink:href=\"#DejaVuSans-52\"/>\n       <use x=\"63.623047\" xlink:href=\"#DejaVuSans-48\"/>\n       <use x=\"127.246094\" xlink:href=\"#DejaVuSans-48\"/>\n      </g>\n     </g>\n    </g>\n    <g id=\"xtick_6\">\n     <g id=\"line2d_6\">\n      <g>\n       <use style=\"stroke:#000000;stroke-width:0.8;\" x=\"281.40383\" xlink:href=\"#mf10f47febf\" y=\"245.141875\"/>\n      </g>\n     </g>\n     <g id=\"text_6\">\n      <!-- 500 -->\n      <defs>\n       <path d=\"M 10.796875 72.90625 \nL 49.515625 72.90625 \nL 49.515625 64.59375 \nL 19.828125 64.59375 \nL 19.828125 46.734375 \nQ 21.96875 47.46875 24.109375 47.828125 \nQ 26.265625 48.1875 28.421875 48.1875 \nQ 40.625 48.1875 47.75 41.5 \nQ 54.890625 34.8125 54.890625 23.390625 \nQ 54.890625 11.625 47.5625 5.09375 \nQ 40.234375 -1.421875 26.90625 -1.421875 \nQ 22.3125 -1.421875 17.546875 -0.640625 \nQ 12.796875 0.140625 7.71875 1.703125 \nL 7.71875 11.625 \nQ 12.109375 9.234375 16.796875 8.0625 \nQ 21.484375 6.890625 26.703125 6.890625 \nQ 35.15625 6.890625 40.078125 11.328125 \nQ 45.015625 15.765625 45.015625 23.390625 \nQ 45.015625 31 40.078125 35.4375 \nQ 35.15625 39.890625 26.703125 39.890625 \nQ 22.75 39.890625 18.8125 39.015625 \nQ 14.890625 38.140625 10.796875 36.28125 \nz\n\" id=\"DejaVuSans-53\"/>\n      </defs>\n      <g transform=\"translate(271.86008 259.740312)scale(0.1 -0.1)\">\n       <use xlink:href=\"#DejaVuSans-53\"/>\n       <use x=\"63.623047\" xlink:href=\"#DejaVuSans-48\"/>\n       <use x=\"127.246094\" xlink:href=\"#DejaVuSans-48\"/>\n      </g>\n     </g>\n    </g>\n    <g id=\"xtick_7\">\n     <g id=\"line2d_7\">\n      <g>\n       <use style=\"stroke:#000000;stroke-width:0.8;\" x=\"324.6988\" xlink:href=\"#mf10f47febf\" y=\"245.141875\"/>\n      </g>\n     </g>\n     <g id=\"text_7\">\n      <!-- 600 -->\n      <defs>\n       <path d=\"M 33.015625 40.375 \nQ 26.375 40.375 22.484375 35.828125 \nQ 18.609375 31.296875 18.609375 23.390625 \nQ 18.609375 15.53125 22.484375 10.953125 \nQ 26.375 6.390625 33.015625 6.390625 \nQ 39.65625 6.390625 43.53125 10.953125 \nQ 47.40625 15.53125 47.40625 23.390625 \nQ 47.40625 31.296875 43.53125 35.828125 \nQ 39.65625 40.375 33.015625 40.375 \nz\nM 52.59375 71.296875 \nL 52.59375 62.3125 \nQ 48.875 64.0625 45.09375 64.984375 \nQ 41.3125 65.921875 37.59375 65.921875 \nQ 27.828125 65.921875 22.671875 59.328125 \nQ 17.53125 52.734375 16.796875 39.40625 \nQ 19.671875 43.65625 24.015625 45.921875 \nQ 28.375 48.1875 33.59375 48.1875 \nQ 44.578125 48.1875 50.953125 41.515625 \nQ 57.328125 34.859375 57.328125 23.390625 \nQ 57.328125 12.15625 50.6875 5.359375 \nQ 44.046875 -1.421875 33.015625 -1.421875 \nQ 20.359375 -1.421875 13.671875 8.265625 \nQ 6.984375 17.96875 6.984375 36.375 \nQ 6.984375 53.65625 15.1875 63.9375 \nQ 23.390625 74.21875 37.203125 74.21875 \nQ 40.921875 74.21875 44.703125 73.484375 \nQ 48.484375 72.75 52.59375 71.296875 \nz\n\" id=\"DejaVuSans-54\"/>\n      </defs>\n      <g transform=\"translate(315.15505 259.740312)scale(0.1 -0.1)\">\n       <use xlink:href=\"#DejaVuSans-54\"/>\n       <use x=\"63.623047\" xlink:href=\"#DejaVuSans-48\"/>\n       <use x=\"127.246094\" xlink:href=\"#DejaVuSans-48\"/>\n      </g>\n     </g>\n    </g>\n    <g id=\"xtick_8\">\n     <g id=\"line2d_8\">\n      <g>\n       <use style=\"stroke:#000000;stroke-width:0.8;\" x=\"367.993769\" xlink:href=\"#mf10f47febf\" y=\"245.141875\"/>\n      </g>\n     </g>\n     <g id=\"text_8\">\n      <!-- 700 -->\n      <defs>\n       <path d=\"M 8.203125 72.90625 \nL 55.078125 72.90625 \nL 55.078125 68.703125 \nL 28.609375 0 \nL 18.3125 0 \nL 43.21875 64.59375 \nL 8.203125 64.59375 \nz\n\" id=\"DejaVuSans-55\"/>\n      </defs>\n      <g transform=\"translate(358.450019 259.740312)scale(0.1 -0.1)\">\n       <use xlink:href=\"#DejaVuSans-55\"/>\n       <use x=\"63.623047\" xlink:href=\"#DejaVuSans-48\"/>\n       <use x=\"127.246094\" xlink:href=\"#DejaVuSans-48\"/>\n      </g>\n     </g>\n    </g>\n    <g id=\"text_9\">\n     <!-- Number of features selected -->\n     <defs>\n      <path d=\"M 9.8125 72.90625 \nL 23.09375 72.90625 \nL 55.421875 11.921875 \nL 55.421875 72.90625 \nL 64.984375 72.90625 \nL 64.984375 0 \nL 51.703125 0 \nL 19.390625 60.984375 \nL 19.390625 0 \nL 9.8125 0 \nz\n\" id=\"DejaVuSans-78\"/>\n      <path d=\"M 8.5 21.578125 \nL 8.5 54.6875 \nL 17.484375 54.6875 \nL 17.484375 21.921875 \nQ 17.484375 14.15625 20.5 10.265625 \nQ 23.53125 6.390625 29.59375 6.390625 \nQ 36.859375 6.390625 41.078125 11.03125 \nQ 45.3125 15.671875 45.3125 23.6875 \nL 45.3125 54.6875 \nL 54.296875 54.6875 \nL 54.296875 0 \nL 45.3125 0 \nL 45.3125 8.40625 \nQ 42.046875 3.421875 37.71875 1 \nQ 33.40625 -1.421875 27.6875 -1.421875 \nQ 18.265625 -1.421875 13.375 4.4375 \nQ 8.5 10.296875 8.5 21.578125 \nz\nM 31.109375 56 \nz\n\" id=\"DejaVuSans-117\"/>\n      <path d=\"M 52 44.1875 \nQ 55.375 50.25 60.0625 53.125 \nQ 64.75 56 71.09375 56 \nQ 79.640625 56 84.28125 50.015625 \nQ 88.921875 44.046875 88.921875 33.015625 \nL 88.921875 0 \nL 79.890625 0 \nL 79.890625 32.71875 \nQ 79.890625 40.578125 77.09375 44.375 \nQ 74.3125 48.1875 68.609375 48.1875 \nQ 61.625 48.1875 57.5625 43.546875 \nQ 53.515625 38.921875 53.515625 30.90625 \nL 53.515625 0 \nL 44.484375 0 \nL 44.484375 32.71875 \nQ 44.484375 40.625 41.703125 44.40625 \nQ 38.921875 48.1875 33.109375 48.1875 \nQ 26.21875 48.1875 22.15625 43.53125 \nQ 18.109375 38.875 18.109375 30.90625 \nL 18.109375 0 \nL 9.078125 0 \nL 9.078125 54.6875 \nL 18.109375 54.6875 \nL 18.109375 46.1875 \nQ 21.1875 51.21875 25.484375 53.609375 \nQ 29.78125 56 35.6875 56 \nQ 41.65625 56 45.828125 52.96875 \nQ 50 49.953125 52 44.1875 \nz\n\" id=\"DejaVuSans-109\"/>\n      <path d=\"M 48.6875 27.296875 \nQ 48.6875 37.203125 44.609375 42.84375 \nQ 40.53125 48.484375 33.40625 48.484375 \nQ 26.265625 48.484375 22.1875 42.84375 \nQ 18.109375 37.203125 18.109375 27.296875 \nQ 18.109375 17.390625 22.1875 11.75 \nQ 26.265625 6.109375 33.40625 6.109375 \nQ 40.53125 6.109375 44.609375 11.75 \nQ 48.6875 17.390625 48.6875 27.296875 \nz\nM 18.109375 46.390625 \nQ 20.953125 51.265625 25.265625 53.625 \nQ 29.59375 56 35.59375 56 \nQ 45.5625 56 51.78125 48.09375 \nQ 58.015625 40.1875 58.015625 27.296875 \nQ 58.015625 14.40625 51.78125 6.484375 \nQ 45.5625 -1.421875 35.59375 -1.421875 \nQ 29.59375 -1.421875 25.265625 0.953125 \nQ 20.953125 3.328125 18.109375 8.203125 \nL 18.109375 0 \nL 9.078125 0 \nL 9.078125 75.984375 \nL 18.109375 75.984375 \nz\n\" id=\"DejaVuSans-98\"/>\n      <path d=\"M 56.203125 29.59375 \nL 56.203125 25.203125 \nL 14.890625 25.203125 \nQ 15.484375 15.921875 20.484375 11.0625 \nQ 25.484375 6.203125 34.421875 6.203125 \nQ 39.59375 6.203125 44.453125 7.46875 \nQ 49.3125 8.734375 54.109375 11.28125 \nL 54.109375 2.78125 \nQ 49.265625 0.734375 44.1875 -0.34375 \nQ 39.109375 -1.421875 33.890625 -1.421875 \nQ 20.796875 -1.421875 13.15625 6.1875 \nQ 5.515625 13.8125 5.515625 26.8125 \nQ 5.515625 40.234375 12.765625 48.109375 \nQ 20.015625 56 32.328125 56 \nQ 43.359375 56 49.78125 48.890625 \nQ 56.203125 41.796875 56.203125 29.59375 \nz\nM 47.21875 32.234375 \nQ 47.125 39.59375 43.09375 43.984375 \nQ 39.0625 48.390625 32.421875 48.390625 \nQ 24.90625 48.390625 20.390625 44.140625 \nQ 15.875 39.890625 15.1875 32.171875 \nz\n\" id=\"DejaVuSans-101\"/>\n      <path d=\"M 41.109375 46.296875 \nQ 39.59375 47.171875 37.8125 47.578125 \nQ 36.03125 48 33.890625 48 \nQ 26.265625 48 22.1875 43.046875 \nQ 18.109375 38.09375 18.109375 28.8125 \nL 18.109375 0 \nL 9.078125 0 \nL 9.078125 54.6875 \nL 18.109375 54.6875 \nL 18.109375 46.1875 \nQ 20.953125 51.171875 25.484375 53.578125 \nQ 30.03125 56 36.53125 56 \nQ 37.453125 56 38.578125 55.875 \nQ 39.703125 55.765625 41.0625 55.515625 \nz\n\" id=\"DejaVuSans-114\"/>\n      <path id=\"DejaVuSans-32\"/>\n      <path d=\"M 30.609375 48.390625 \nQ 23.390625 48.390625 19.1875 42.75 \nQ 14.984375 37.109375 14.984375 27.296875 \nQ 14.984375 17.484375 19.15625 11.84375 \nQ 23.34375 6.203125 30.609375 6.203125 \nQ 37.796875 6.203125 41.984375 11.859375 \nQ 46.1875 17.53125 46.1875 27.296875 \nQ 46.1875 37.015625 41.984375 42.703125 \nQ 37.796875 48.390625 30.609375 48.390625 \nz\nM 30.609375 56 \nQ 42.328125 56 49.015625 48.375 \nQ 55.71875 40.765625 55.71875 27.296875 \nQ 55.71875 13.875 49.015625 6.21875 \nQ 42.328125 -1.421875 30.609375 -1.421875 \nQ 18.84375 -1.421875 12.171875 6.21875 \nQ 5.515625 13.875 5.515625 27.296875 \nQ 5.515625 40.765625 12.171875 48.375 \nQ 18.84375 56 30.609375 56 \nz\n\" id=\"DejaVuSans-111\"/>\n      <path d=\"M 37.109375 75.984375 \nL 37.109375 68.5 \nL 28.515625 68.5 \nQ 23.6875 68.5 21.796875 66.546875 \nQ 19.921875 64.59375 19.921875 59.515625 \nL 19.921875 54.6875 \nL 34.71875 54.6875 \nL 34.71875 47.703125 \nL 19.921875 47.703125 \nL 19.921875 0 \nL 10.890625 0 \nL 10.890625 47.703125 \nL 2.296875 47.703125 \nL 2.296875 54.6875 \nL 10.890625 54.6875 \nL 10.890625 58.5 \nQ 10.890625 67.625 15.140625 71.796875 \nQ 19.390625 75.984375 28.609375 75.984375 \nz\n\" id=\"DejaVuSans-102\"/>\n      <path d=\"M 34.28125 27.484375 \nQ 23.390625 27.484375 19.1875 25 \nQ 14.984375 22.515625 14.984375 16.5 \nQ 14.984375 11.71875 18.140625 8.90625 \nQ 21.296875 6.109375 26.703125 6.109375 \nQ 34.1875 6.109375 38.703125 11.40625 \nQ 43.21875 16.703125 43.21875 25.484375 \nL 43.21875 27.484375 \nz\nM 52.203125 31.203125 \nL 52.203125 0 \nL 43.21875 0 \nL 43.21875 8.296875 \nQ 40.140625 3.328125 35.546875 0.953125 \nQ 30.953125 -1.421875 24.3125 -1.421875 \nQ 15.921875 -1.421875 10.953125 3.296875 \nQ 6 8.015625 6 15.921875 \nQ 6 25.140625 12.171875 29.828125 \nQ 18.359375 34.515625 30.609375 34.515625 \nL 43.21875 34.515625 \nL 43.21875 35.40625 \nQ 43.21875 41.609375 39.140625 45 \nQ 35.0625 48.390625 27.6875 48.390625 \nQ 23 48.390625 18.546875 47.265625 \nQ 14.109375 46.140625 10.015625 43.890625 \nL 10.015625 52.203125 \nQ 14.9375 54.109375 19.578125 55.046875 \nQ 24.21875 56 28.609375 56 \nQ 40.484375 56 46.34375 49.84375 \nQ 52.203125 43.703125 52.203125 31.203125 \nz\n\" id=\"DejaVuSans-97\"/>\n      <path d=\"M 18.3125 70.21875 \nL 18.3125 54.6875 \nL 36.8125 54.6875 \nL 36.8125 47.703125 \nL 18.3125 47.703125 \nL 18.3125 18.015625 \nQ 18.3125 11.328125 20.140625 9.421875 \nQ 21.96875 7.515625 27.59375 7.515625 \nL 36.8125 7.515625 \nL 36.8125 0 \nL 27.59375 0 \nQ 17.1875 0 13.234375 3.875 \nQ 9.28125 7.765625 9.28125 18.015625 \nL 9.28125 47.703125 \nL 2.6875 47.703125 \nL 2.6875 54.6875 \nL 9.28125 54.6875 \nL 9.28125 70.21875 \nz\n\" id=\"DejaVuSans-116\"/>\n      <path d=\"M 44.28125 53.078125 \nL 44.28125 44.578125 \nQ 40.484375 46.53125 36.375 47.5 \nQ 32.28125 48.484375 27.875 48.484375 \nQ 21.1875 48.484375 17.84375 46.4375 \nQ 14.5 44.390625 14.5 40.28125 \nQ 14.5 37.15625 16.890625 35.375 \nQ 19.28125 33.59375 26.515625 31.984375 \nL 29.59375 31.296875 \nQ 39.15625 29.25 43.1875 25.515625 \nQ 47.21875 21.78125 47.21875 15.09375 \nQ 47.21875 7.46875 41.1875 3.015625 \nQ 35.15625 -1.421875 24.609375 -1.421875 \nQ 20.21875 -1.421875 15.453125 -0.5625 \nQ 10.6875 0.296875 5.421875 2 \nL 5.421875 11.28125 \nQ 10.40625 8.6875 15.234375 7.390625 \nQ 20.0625 6.109375 24.8125 6.109375 \nQ 31.15625 6.109375 34.5625 8.28125 \nQ 37.984375 10.453125 37.984375 14.40625 \nQ 37.984375 18.0625 35.515625 20.015625 \nQ 33.0625 21.96875 24.703125 23.78125 \nL 21.578125 24.515625 \nQ 13.234375 26.265625 9.515625 29.90625 \nQ 5.8125 33.546875 5.8125 39.890625 \nQ 5.8125 47.609375 11.28125 51.796875 \nQ 16.75 56 26.8125 56 \nQ 31.78125 56 36.171875 55.265625 \nQ 40.578125 54.546875 44.28125 53.078125 \nz\n\" id=\"DejaVuSans-115\"/>\n      <path d=\"M 9.421875 75.984375 \nL 18.40625 75.984375 \nL 18.40625 0 \nL 9.421875 0 \nz\n\" id=\"DejaVuSans-108\"/>\n      <path d=\"M 48.78125 52.59375 \nL 48.78125 44.1875 \nQ 44.96875 46.296875 41.140625 47.34375 \nQ 37.3125 48.390625 33.40625 48.390625 \nQ 24.65625 48.390625 19.8125 42.84375 \nQ 14.984375 37.3125 14.984375 27.296875 \nQ 14.984375 17.28125 19.8125 11.734375 \nQ 24.65625 6.203125 33.40625 6.203125 \nQ 37.3125 6.203125 41.140625 7.25 \nQ 44.96875 8.296875 48.78125 10.40625 \nL 48.78125 2.09375 \nQ 45.015625 0.34375 40.984375 -0.53125 \nQ 36.96875 -1.421875 32.421875 -1.421875 \nQ 20.0625 -1.421875 12.78125 6.34375 \nQ 5.515625 14.109375 5.515625 27.296875 \nQ 5.515625 40.671875 12.859375 48.328125 \nQ 20.21875 56 33.015625 56 \nQ 37.15625 56 41.109375 55.140625 \nQ 45.0625 54.296875 48.78125 52.59375 \nz\n\" id=\"DejaVuSans-99\"/>\n      <path d=\"M 45.40625 46.390625 \nL 45.40625 75.984375 \nL 54.390625 75.984375 \nL 54.390625 0 \nL 45.40625 0 \nL 45.40625 8.203125 \nQ 42.578125 3.328125 38.25 0.953125 \nQ 33.9375 -1.421875 27.875 -1.421875 \nQ 17.96875 -1.421875 11.734375 6.484375 \nQ 5.515625 14.40625 5.515625 27.296875 \nQ 5.515625 40.1875 11.734375 48.09375 \nQ 17.96875 56 27.875 56 \nQ 33.9375 56 38.25 53.625 \nQ 42.578125 51.265625 45.40625 46.390625 \nz\nM 14.796875 27.296875 \nQ 14.796875 17.390625 18.875 11.75 \nQ 22.953125 6.109375 30.078125 6.109375 \nQ 37.203125 6.109375 41.296875 11.75 \nQ 45.40625 17.390625 45.40625 27.296875 \nQ 45.40625 37.203125 41.296875 42.84375 \nQ 37.203125 48.484375 30.078125 48.484375 \nQ 22.953125 48.484375 18.875 42.84375 \nQ 14.796875 37.203125 14.796875 27.296875 \nz\n\" id=\"DejaVuSans-100\"/>\n     </defs>\n     <g transform=\"translate(145.999219 273.418437)scale(0.1 -0.1)\">\n      <use xlink:href=\"#DejaVuSans-78\"/>\n      <use x=\"74.804688\" xlink:href=\"#DejaVuSans-117\"/>\n      <use x=\"138.183594\" xlink:href=\"#DejaVuSans-109\"/>\n      <use x=\"235.595703\" xlink:href=\"#DejaVuSans-98\"/>\n      <use x=\"299.072266\" xlink:href=\"#DejaVuSans-101\"/>\n      <use x=\"360.595703\" xlink:href=\"#DejaVuSans-114\"/>\n      <use x=\"401.708984\" xlink:href=\"#DejaVuSans-32\"/>\n      <use x=\"433.496094\" xlink:href=\"#DejaVuSans-111\"/>\n      <use x=\"494.677734\" xlink:href=\"#DejaVuSans-102\"/>\n      <use x=\"529.882812\" xlink:href=\"#DejaVuSans-32\"/>\n      <use x=\"561.669922\" xlink:href=\"#DejaVuSans-102\"/>\n      <use x=\"596.875\" xlink:href=\"#DejaVuSans-101\"/>\n      <use x=\"658.398438\" xlink:href=\"#DejaVuSans-97\"/>\n      <use x=\"719.677734\" xlink:href=\"#DejaVuSans-116\"/>\n      <use x=\"758.886719\" xlink:href=\"#DejaVuSans-117\"/>\n      <use x=\"822.265625\" xlink:href=\"#DejaVuSans-114\"/>\n      <use x=\"863.347656\" xlink:href=\"#DejaVuSans-101\"/>\n      <use x=\"924.871094\" xlink:href=\"#DejaVuSans-115\"/>\n      <use x=\"976.970703\" xlink:href=\"#DejaVuSans-32\"/>\n      <use x=\"1008.757812\" xlink:href=\"#DejaVuSans-115\"/>\n      <use x=\"1060.857422\" xlink:href=\"#DejaVuSans-101\"/>\n      <use x=\"1122.380859\" xlink:href=\"#DejaVuSans-108\"/>\n      <use x=\"1150.164062\" xlink:href=\"#DejaVuSans-101\"/>\n      <use x=\"1211.6875\" xlink:href=\"#DejaVuSans-99\"/>\n      <use x=\"1266.667969\" xlink:href=\"#DejaVuSans-116\"/>\n      <use x=\"1305.876953\" xlink:href=\"#DejaVuSans-101\"/>\n      <use x=\"1367.400391\" xlink:href=\"#DejaVuSans-100\"/>\n     </g>\n    </g>\n   </g>\n   <g id=\"matplotlib.axis_2\">\n    <g id=\"ytick_1\">\n     <g id=\"line2d_9\">\n      <defs>\n       <path d=\"M 0 0 \nL -3.5 0 \n\" id=\"mf62d9691cf\" style=\"stroke:#000000;stroke-width:0.8;\"/>\n      </defs>\n      <g>\n       <use style=\"stroke:#000000;stroke-width:0.8;\" x=\"50.14375\" xlink:href=\"#mf62d9691cf\" y=\"229.149687\"/>\n      </g>\n     </g>\n     <g id=\"text_10\">\n      <!-- 0.45 -->\n      <defs>\n       <path d=\"M 10.6875 12.40625 \nL 21 12.40625 \nL 21 0 \nL 10.6875 0 \nz\n\" id=\"DejaVuSans-46\"/>\n      </defs>\n      <g transform=\"translate(20.878125 232.948906)scale(0.1 -0.1)\">\n       <use xlink:href=\"#DejaVuSans-48\"/>\n       <use x=\"63.623047\" xlink:href=\"#DejaVuSans-46\"/>\n       <use x=\"95.410156\" xlink:href=\"#DejaVuSans-52\"/>\n       <use x=\"159.033203\" xlink:href=\"#DejaVuSans-53\"/>\n      </g>\n     </g>\n    </g>\n    <g id=\"ytick_2\">\n     <g id=\"line2d_10\">\n      <g>\n       <use style=\"stroke:#000000;stroke-width:0.8;\" x=\"50.14375\" xlink:href=\"#mf62d9691cf\" y=\"185.168116\"/>\n      </g>\n     </g>\n     <g id=\"text_11\">\n      <!-- 0.50 -->\n      <g transform=\"translate(20.878125 188.967335)scale(0.1 -0.1)\">\n       <use xlink:href=\"#DejaVuSans-48\"/>\n       <use x=\"63.623047\" xlink:href=\"#DejaVuSans-46\"/>\n       <use x=\"95.410156\" xlink:href=\"#DejaVuSans-53\"/>\n       <use x=\"159.033203\" xlink:href=\"#DejaVuSans-48\"/>\n      </g>\n     </g>\n    </g>\n    <g id=\"ytick_3\">\n     <g id=\"line2d_11\">\n      <g>\n       <use style=\"stroke:#000000;stroke-width:0.8;\" x=\"50.14375\" xlink:href=\"#mf62d9691cf\" y=\"141.186545\"/>\n      </g>\n     </g>\n     <g id=\"text_12\">\n      <!-- 0.55 -->\n      <g transform=\"translate(20.878125 144.985764)scale(0.1 -0.1)\">\n       <use xlink:href=\"#DejaVuSans-48\"/>\n       <use x=\"63.623047\" xlink:href=\"#DejaVuSans-46\"/>\n       <use x=\"95.410156\" xlink:href=\"#DejaVuSans-53\"/>\n       <use x=\"159.033203\" xlink:href=\"#DejaVuSans-53\"/>\n      </g>\n     </g>\n    </g>\n    <g id=\"ytick_4\">\n     <g id=\"line2d_12\">\n      <g>\n       <use style=\"stroke:#000000;stroke-width:0.8;\" x=\"50.14375\" xlink:href=\"#mf62d9691cf\" y=\"97.204974\"/>\n      </g>\n     </g>\n     <g id=\"text_13\">\n      <!-- 0.60 -->\n      <g transform=\"translate(20.878125 101.004193)scale(0.1 -0.1)\">\n       <use xlink:href=\"#DejaVuSans-48\"/>\n       <use x=\"63.623047\" xlink:href=\"#DejaVuSans-46\"/>\n       <use x=\"95.410156\" xlink:href=\"#DejaVuSans-54\"/>\n       <use x=\"159.033203\" xlink:href=\"#DejaVuSans-48\"/>\n      </g>\n     </g>\n    </g>\n    <g id=\"ytick_5\">\n     <g id=\"line2d_13\">\n      <g>\n       <use style=\"stroke:#000000;stroke-width:0.8;\" x=\"50.14375\" xlink:href=\"#mf62d9691cf\" y=\"53.223403\"/>\n      </g>\n     </g>\n     <g id=\"text_14\">\n      <!-- 0.65 -->\n      <g transform=\"translate(20.878125 57.022622)scale(0.1 -0.1)\">\n       <use xlink:href=\"#DejaVuSans-48\"/>\n       <use x=\"63.623047\" xlink:href=\"#DejaVuSans-46\"/>\n       <use x=\"95.410156\" xlink:href=\"#DejaVuSans-54\"/>\n       <use x=\"159.033203\" xlink:href=\"#DejaVuSans-53\"/>\n      </g>\n     </g>\n    </g>\n    <g id=\"text_15\">\n     <!-- Cross validation score (nb of correct classifications) -->\n     <defs>\n      <path d=\"M 64.40625 67.28125 \nL 64.40625 56.890625 \nQ 59.421875 61.53125 53.78125 63.8125 \nQ 48.140625 66.109375 41.796875 66.109375 \nQ 29.296875 66.109375 22.65625 58.46875 \nQ 16.015625 50.828125 16.015625 36.375 \nQ 16.015625 21.96875 22.65625 14.328125 \nQ 29.296875 6.6875 41.796875 6.6875 \nQ 48.140625 6.6875 53.78125 8.984375 \nQ 59.421875 11.28125 64.40625 15.921875 \nL 64.40625 5.609375 \nQ 59.234375 2.09375 53.4375 0.328125 \nQ 47.65625 -1.421875 41.21875 -1.421875 \nQ 24.65625 -1.421875 15.125 8.703125 \nQ 5.609375 18.84375 5.609375 36.375 \nQ 5.609375 53.953125 15.125 64.078125 \nQ 24.65625 74.21875 41.21875 74.21875 \nQ 47.75 74.21875 53.53125 72.484375 \nQ 59.328125 70.75 64.40625 67.28125 \nz\n\" id=\"DejaVuSans-67\"/>\n      <path d=\"M 2.984375 54.6875 \nL 12.5 54.6875 \nL 29.59375 8.796875 \nL 46.6875 54.6875 \nL 56.203125 54.6875 \nL 35.6875 0 \nL 23.484375 0 \nz\n\" id=\"DejaVuSans-118\"/>\n      <path d=\"M 9.421875 54.6875 \nL 18.40625 54.6875 \nL 18.40625 0 \nL 9.421875 0 \nz\nM 9.421875 75.984375 \nL 18.40625 75.984375 \nL 18.40625 64.59375 \nL 9.421875 64.59375 \nz\n\" id=\"DejaVuSans-105\"/>\n      <path d=\"M 54.890625 33.015625 \nL 54.890625 0 \nL 45.90625 0 \nL 45.90625 32.71875 \nQ 45.90625 40.484375 42.875 44.328125 \nQ 39.84375 48.1875 33.796875 48.1875 \nQ 26.515625 48.1875 22.3125 43.546875 \nQ 18.109375 38.921875 18.109375 30.90625 \nL 18.109375 0 \nL 9.078125 0 \nL 9.078125 54.6875 \nL 18.109375 54.6875 \nL 18.109375 46.1875 \nQ 21.34375 51.125 25.703125 53.5625 \nQ 30.078125 56 35.796875 56 \nQ 45.21875 56 50.046875 50.171875 \nQ 54.890625 44.34375 54.890625 33.015625 \nz\n\" id=\"DejaVuSans-110\"/>\n      <path d=\"M 31 75.875 \nQ 24.46875 64.65625 21.28125 53.65625 \nQ 18.109375 42.671875 18.109375 31.390625 \nQ 18.109375 20.125 21.3125 9.0625 \nQ 24.515625 -2 31 -13.1875 \nL 23.1875 -13.1875 \nQ 15.875 -1.703125 12.234375 9.375 \nQ 8.59375 20.453125 8.59375 31.390625 \nQ 8.59375 42.28125 12.203125 53.3125 \nQ 15.828125 64.359375 23.1875 75.875 \nz\n\" id=\"DejaVuSans-40\"/>\n      <path d=\"M 8.015625 75.875 \nL 15.828125 75.875 \nQ 23.140625 64.359375 26.78125 53.3125 \nQ 30.421875 42.28125 30.421875 31.390625 \nQ 30.421875 20.453125 26.78125 9.375 \nQ 23.140625 -1.703125 15.828125 -13.1875 \nL 8.015625 -13.1875 \nQ 14.5 -2 17.703125 9.0625 \nQ 20.90625 20.125 20.90625 31.390625 \nQ 20.90625 42.671875 17.703125 53.65625 \nQ 14.5 64.65625 8.015625 75.875 \nz\n\" id=\"DejaVuSans-41\"/>\n     </defs>\n     <g transform=\"translate(14.798438 265.64375)rotate(-90)scale(0.1 -0.1)\">\n      <use xlink:href=\"#DejaVuSans-67\"/>\n      <use x=\"69.824219\" xlink:href=\"#DejaVuSans-114\"/>\n      <use x=\"110.90625\" xlink:href=\"#DejaVuSans-111\"/>\n      <use x=\"172.087891\" xlink:href=\"#DejaVuSans-115\"/>\n      <use x=\"224.1875\" xlink:href=\"#DejaVuSans-115\"/>\n      <use x=\"276.287109\" xlink:href=\"#DejaVuSans-32\"/>\n      <use x=\"308.074219\" xlink:href=\"#DejaVuSans-118\"/>\n      <use x=\"367.253906\" xlink:href=\"#DejaVuSans-97\"/>\n      <use x=\"428.533203\" xlink:href=\"#DejaVuSans-108\"/>\n      <use x=\"456.316406\" xlink:href=\"#DejaVuSans-105\"/>\n      <use x=\"484.099609\" xlink:href=\"#DejaVuSans-100\"/>\n      <use x=\"547.576172\" xlink:href=\"#DejaVuSans-97\"/>\n      <use x=\"608.855469\" xlink:href=\"#DejaVuSans-116\"/>\n      <use x=\"648.064453\" xlink:href=\"#DejaVuSans-105\"/>\n      <use x=\"675.847656\" xlink:href=\"#DejaVuSans-111\"/>\n      <use x=\"737.029297\" xlink:href=\"#DejaVuSans-110\"/>\n      <use x=\"800.408203\" xlink:href=\"#DejaVuSans-32\"/>\n      <use x=\"832.195312\" xlink:href=\"#DejaVuSans-115\"/>\n      <use x=\"884.294922\" xlink:href=\"#DejaVuSans-99\"/>\n      <use x=\"939.275391\" xlink:href=\"#DejaVuSans-111\"/>\n      <use x=\"1000.457031\" xlink:href=\"#DejaVuSans-114\"/>\n      <use x=\"1041.539062\" xlink:href=\"#DejaVuSans-101\"/>\n      <use x=\"1103.0625\" xlink:href=\"#DejaVuSans-32\"/>\n      <use x=\"1134.849609\" xlink:href=\"#DejaVuSans-40\"/>\n      <use x=\"1173.863281\" xlink:href=\"#DejaVuSans-110\"/>\n      <use x=\"1237.242188\" xlink:href=\"#DejaVuSans-98\"/>\n      <use x=\"1300.71875\" xlink:href=\"#DejaVuSans-32\"/>\n      <use x=\"1332.505859\" xlink:href=\"#DejaVuSans-111\"/>\n      <use x=\"1393.6875\" xlink:href=\"#DejaVuSans-102\"/>\n      <use x=\"1428.892578\" xlink:href=\"#DejaVuSans-32\"/>\n      <use x=\"1460.679688\" xlink:href=\"#DejaVuSans-99\"/>\n      <use x=\"1515.660156\" xlink:href=\"#DejaVuSans-111\"/>\n      <use x=\"1576.841797\" xlink:href=\"#DejaVuSans-114\"/>\n      <use x=\"1617.939453\" xlink:href=\"#DejaVuSans-114\"/>\n      <use x=\"1659.021484\" xlink:href=\"#DejaVuSans-101\"/>\n      <use x=\"1720.544922\" xlink:href=\"#DejaVuSans-99\"/>\n      <use x=\"1775.525391\" xlink:href=\"#DejaVuSans-116\"/>\n      <use x=\"1814.734375\" xlink:href=\"#DejaVuSans-32\"/>\n      <use x=\"1846.521484\" xlink:href=\"#DejaVuSans-99\"/>\n      <use x=\"1901.501953\" xlink:href=\"#DejaVuSans-108\"/>\n      <use x=\"1929.285156\" xlink:href=\"#DejaVuSans-97\"/>\n      <use x=\"1990.564453\" xlink:href=\"#DejaVuSans-115\"/>\n      <use x=\"2042.664062\" xlink:href=\"#DejaVuSans-115\"/>\n      <use x=\"2094.763672\" xlink:href=\"#DejaVuSans-105\"/>\n      <use x=\"2122.546875\" xlink:href=\"#DejaVuSans-102\"/>\n      <use x=\"2157.751953\" xlink:href=\"#DejaVuSans-105\"/>\n      <use x=\"2185.535156\" xlink:href=\"#DejaVuSans-99\"/>\n      <use x=\"2240.515625\" xlink:href=\"#DejaVuSans-97\"/>\n      <use x=\"2301.794922\" xlink:href=\"#DejaVuSans-116\"/>\n      <use x=\"2341.003906\" xlink:href=\"#DejaVuSans-105\"/>\n      <use x=\"2368.787109\" xlink:href=\"#DejaVuSans-111\"/>\n      <use x=\"2429.96875\" xlink:href=\"#DejaVuSans-110\"/>\n      <use x=\"2493.347656\" xlink:href=\"#DejaVuSans-115\"/>\n      <use x=\"2545.447266\" xlink:href=\"#DejaVuSans-41\"/>\n     </g>\n    </g>\n   </g>\n   <g id=\"line2d_14\">\n    <path clip-path=\"url(#p76f9c8b637)\" d=\"M 65.361932 146.562071 \nL 65.794882 235.258239 \nL 66.227831 169.408053 \nL 66.660781 189.19976 \nL 67.52668 160.856081 \nL 67.95963 173.684039 \nL 68.39258 153.892332 \nL 68.825529 151.937596 \nL 69.258479 142.286084 \nL 69.691429 148.150294 \nL 70.124378 142.652598 \nL 70.990278 162.199962 \nL 71.423228 178.937394 \nL 71.856177 162.810818 \nL 72.289127 166.842462 \nL 72.722077 172.217987 \nL 73.155026 157.435292 \nL 73.587976 120.661812 \nL 74.886825 97.204974 \nL 75.752725 72.892939 \nL 76.185674 63.241428 \nL 76.618624 72.770768 \nL 77.051574 64.829651 \nL 77.484523 62.141888 \nL 77.917473 54.933798 \nL 78.350423 58.354587 \nL 78.783372 70.57169 \nL 79.216322 69.349979 \nL 79.649272 67.02873 \nL 80.082221 72.526426 \nL 80.515171 70.205176 \nL 80.948121 50.657812 \nL 81.381071 51.513009 \nL 81.81402 53.589916 \nL 82.24697 54.811627 \nL 82.67992 58.598929 \nL 83.112869 57.377218 \nL 83.545819 46.992681 \nL 83.978769 57.743731 \nL 84.411718 59.94281 \nL 84.844668 52.979061 \nL 85.277618 55.055969 \nL 85.710568 61.16452 \nL 86.143517 63.48577 \nL 86.576467 58.598929 \nL 87.442366 56.277679 \nL 87.875316 58.7211 \nL 88.308266 56.155508 \nL 88.741215 47.359194 \nL 89.174165 52.85689 \nL 89.607115 60.187152 \nL 90.040064 60.431494 \nL 90.473014 50.657812 \nL 90.905964 48.336562 \nL 91.338914 48.214391 \nL 91.771863 47.359194 \nL 92.204813 50.779983 \nL 92.637763 42.350182 \nL 93.070712 41.128471 \nL 93.503662 38.685051 \nL 93.936612 37.585511 \nL 94.369561 47.481365 \nL 94.802511 47.481365 \nL 95.235461 52.001693 \nL 95.668411 54.567285 \nL 96.10136 51.390838 \nL 96.96726 46.626168 \nL 97.400209 48.947417 \nL 97.833159 53.589916 \nL 98.266109 51.146496 \nL 98.699058 51.024325 \nL 99.132008 53.467745 \nL 99.564958 50.41347 \nL 99.997908 43.449721 \nL 100.430857 51.879522 \nL 100.863807 57.62156 \nL 101.729706 48.214391 \nL 102.162656 52.85689 \nL 102.595606 59.820639 \nL 103.028555 54.0786 \nL 103.461505 51.63518 \nL 103.894455 47.970049 \nL 104.760354 47.970049 \nL 105.193304 49.191759 \nL 105.626254 61.408862 \nL 106.492153 61.408862 \nL 106.925103 62.508402 \nL 107.358052 62.508402 \nL 107.791002 72.282084 \nL 108.223952 68.616953 \nL 108.656901 69.838663 \nL 109.089851 68.616953 \nL 109.522801 66.295704 \nL 109.955751 69.960834 \nL 110.3887 61.16452 \nL 110.82165 61.16452 \nL 111.2546 63.48577 \nL 111.687549 61.16452 \nL 112.120499 62.386231 \nL 112.553449 64.951822 \nL 112.986398 65.073993 \nL 113.419348 57.743731 \nL 113.852298 67.517414 \nL 114.285247 65.318335 \nL 114.718197 66.173532 \nL 115.151147 66.051361 \nL 115.584097 65.073993 \nL 116.449996 65.073993 \nL 116.882946 63.974454 \nL 117.315895 66.173532 \nL 117.748845 64.951822 \nL 118.181795 64.951822 \nL 118.614744 61.16452 \nL 119.047694 62.386231 \nL 119.480644 61.16452 \nL 119.913594 56.277679 \nL 120.346543 57.62156 \nL 121.212443 57.62156 \nL 121.645392 60.064981 \nL 122.078342 55.17814 \nL 122.511292 52.85689 \nL 122.944241 54.0786 \nL 123.377191 57.743731 \nL 123.810141 57.499389 \nL 124.24309 59.94281 \nL 124.67604 63.607941 \nL 125.54194 63.607941 \nL 125.974889 66.051361 \nL 126.407839 71.060374 \nL 126.840789 62.508402 \nL 127.273738 60.064981 \nL 127.706688 62.386231 \nL 128.139638 61.286691 \nL 128.572587 45.648799 \nL 129.005537 48.09222 \nL 129.438487 54.200772 \nL 129.871437 46.87051 \nL 130.737336 49.31393 \nL 131.170286 46.87051 \nL 131.603235 49.31393 \nL 132.036185 49.069588 \nL 132.469135 49.069588 \nL 132.902084 52.612548 \nL 133.335034 54.933798 \nL 133.767984 58.476758 \nL 134.200933 56.155508 \nL 134.633883 56.39985 \nL 135.066833 57.499389 \nL 135.499783 60.064981 \nL 135.932732 60.187152 \nL 136.365682 62.386231 \nL 136.798632 66.051361 \nL 137.231581 68.372611 \nL 137.664531 63.607941 \nL 138.097481 63.48577 \nL 138.53043 63.48577 \nL 139.39633 65.807019 \nL 139.82928 68.25044 \nL 140.262229 71.915571 \nL 140.695179 78.146293 \nL 141.128129 81.689253 \nL 141.561078 79.368004 \nL 141.994028 83.033135 \nL 142.426978 79.368004 \nL 142.859927 82.788793 \nL 143.725827 85.354384 \nL 144.591726 83.033135 \nL 145.024676 83.033135 \nL 145.457626 79.368004 \nL 145.890575 80.467543 \nL 146.323525 79.368004 \nL 146.756475 79.245833 \nL 147.622374 81.567082 \nL 148.055324 81.689253 \nL 148.488273 80.589714 \nL 148.921223 80.589714 \nL 149.787123 78.146293 \nL 150.220072 80.467543 \nL 150.653022 79.245833 \nL 151.085972 79.123662 \nL 151.518921 78.024122 \nL 151.951871 82.788793 \nL 152.384821 82.788793 \nL 153.25072 87.675634 \nL 153.68367 87.675634 \nL 154.11662 79.245833 \nL 154.549569 78.024122 \nL 154.982519 81.32274 \nL 155.415469 77.77978 \nL 155.848418 80.10103 \nL 156.281368 73.259452 \nL 156.714318 72.037742 \nL 157.147267 72.037742 \nL 157.580217 70.816032 \nL 158.013167 70.816032 \nL 158.446116 70.693861 \nL 158.879066 71.915571 \nL 159.312016 76.435899 \nL 159.744966 75.214189 \nL 160.610865 79.978859 \nL 161.043815 76.435899 \nL 161.476764 76.313728 \nL 161.909714 76.435899 \nL 162.342664 78.87932 \nL 162.775613 79.978859 \nL 163.208563 80.10103 \nL 163.641513 84.8657 \nL 164.074463 87.18695 \nL 164.507412 85.965239 \nL 164.940362 87.18695 \nL 165.373312 83.521819 \nL 165.806261 87.18695 \nL 166.239211 85.965239 \nL 166.672161 73.748136 \nL 167.10511 73.625965 \nL 167.53806 78.512807 \nL 167.97101 79.612346 \nL 168.403959 79.490175 \nL 168.836909 79.734517 \nL 169.269859 76.191557 \nL 169.702809 78.634978 \nL 170.135758 78.634978 \nL 170.568708 84.499187 \nL 171.001658 82.177937 \nL 171.434607 74.725505 \nL 172.300507 77.168925 \nL 172.733456 75.947215 \nL 173.599356 78.390636 \nL 174.032306 82.055766 \nL 174.465255 79.734517 \nL 174.898205 79.734517 \nL 175.331155 80.834056 \nL 175.764104 80.834056 \nL 176.630004 78.512807 \nL 177.062953 74.358992 \nL 177.495903 71.915571 \nL 178.361803 74.114649 \nL 178.794752 73.137281 \nL 179.660652 73.137281 \nL 180.526551 75.458531 \nL 180.959501 77.901951 \nL 181.39245 76.680241 \nL 181.8254 76.55807 \nL 182.691299 79.123662 \nL 183.124249 82.42228 \nL 183.557199 82.300109 \nL 183.990149 82.300109 \nL 184.423098 84.499187 \nL 184.856048 83.277477 \nL 185.721947 83.277477 \nL 186.154897 79.612346 \nL 186.587847 77.168925 \nL 187.020796 77.168925 \nL 187.453746 73.503794 \nL 187.886696 80.834056 \nL 188.319646 82.055766 \nL 188.752595 85.598726 \nL 189.185545 83.277477 \nL 189.618495 84.499187 \nL 190.051444 83.277477 \nL 190.484394 83.277477 \nL 190.917344 85.598726 \nL 191.350293 86.820437 \nL 191.783243 84.621358 \nL 192.216193 84.621358 \nL 192.649142 83.277477 \nL 193.082092 84.499187 \nL 193.515042 84.621358 \nL 194.380941 84.621358 \nL 194.813891 88.164318 \nL 195.246841 86.942608 \nL 195.67979 86.942608 \nL 196.11274 84.499187 \nL 196.54569 83.277477 \nL 196.978639 84.377016 \nL 197.411589 83.155306 \nL 197.844539 84.499187 \nL 198.277489 86.698266 \nL 198.710438 87.797805 \nL 199.143388 84.377016 \nL 199.576338 89.996883 \nL 200.009287 85.354384 \nL 200.875187 89.996883 \nL 201.308136 87.675634 \nL 201.741086 86.698266 \nL 202.174036 87.797805 \nL 202.606985 87.797805 \nL 203.039935 89.019515 \nL 203.472885 87.797805 \nL 203.905835 82.910964 \nL 204.338784 85.354384 \nL 204.771734 84.254845 \nL 205.204684 85.476555 \nL 206.070583 85.476555 \nL 206.503533 86.698266 \nL 207.369432 82.300109 \nL 207.802382 83.521819 \nL 208.235332 83.521819 \nL 208.668281 85.965239 \nL 209.101231 84.743529 \nL 209.534181 87.18695 \nL 209.96713 87.18695 \nL 210.40008 85.965239 \nL 210.83303 85.965239 \nL 211.265979 88.40866 \nL 211.698929 87.18695 \nL 212.131879 88.40866 \nL 212.564828 85.965239 \nL 212.997778 87.18695 \nL 213.430728 85.965239 \nL 214.729577 85.965239 \nL 215.162527 87.064779 \nL 215.595476 87.064779 \nL 216.028426 89.508199 \nL 216.461376 84.743529 \nL 216.894325 88.164318 \nL 217.327275 86.942608 \nL 217.760225 89.386028 \nL 219.059074 89.386028 \nL 219.492024 88.164318 \nL 219.924973 88.164318 \nL 220.357923 91.829449 \nL 221.223822 94.272869 \nL 221.656772 91.829449 \nL 222.089722 93.051159 \nL 222.522672 90.607739 \nL 222.955621 90.607739 \nL 223.388571 91.829449 \nL 223.821521 95.49458 \nL 224.25447 94.272869 \nL 224.68742 96.71629 \nL 225.986269 96.71629 \nL 226.419219 95.616751 \nL 226.852168 93.17333 \nL 227.285118 93.17333 \nL 227.718068 90.607739 \nL 228.151018 89.386028 \nL 228.583967 89.386028 \nL 229.016917 90.72991 \nL 229.449867 90.72991 \nL 229.882816 91.95162 \nL 230.315766 91.95162 \nL 230.748716 93.17333 \nL 232.047565 93.17333 \nL 232.480515 94.272869 \nL 233.346414 94.272869 \nL 233.779364 93.17333 \nL 234.212313 93.17333 \nL 234.645263 94.272869 \nL 235.078213 93.051159 \nL 235.944112 93.051159 \nL 236.377062 94.272869 \nL 237.242961 94.272869 \nL 238.108861 91.829449 \nL 238.54181 94.272869 \nL 238.97476 94.150698 \nL 239.40771 95.250238 \nL 239.840659 97.693658 \nL 240.273609 96.471948 \nL 240.706559 96.594119 \nL 241.139508 96.471948 \nL 241.572458 94.028527 \nL 242.005408 92.928988 \nL 242.438358 94.028527 \nL 243.304257 98.793198 \nL 243.737207 99.892737 \nL 244.170156 99.892737 \nL 244.603106 98.671027 \nL 245.036056 96.227606 \nL 245.901955 93.784185 \nL 246.334905 96.227606 \nL 246.767854 95.005896 \nL 247.200804 95.005896 \nL 247.633754 93.784185 \nL 248.066704 95.005896 \nL 248.932603 95.005896 \nL 249.365553 92.684646 \nL 250.664402 92.684646 \nL 251.097351 93.784185 \nL 251.530301 93.784185 \nL 251.963251 92.562475 \nL 252.396201 93.784185 \nL 253.69505 93.784185 \nL 254.127999 94.883725 \nL 254.560949 93.784185 \nL 254.993899 94.883725 \nL 255.426848 93.662014 \nL 255.859798 93.662014 \nL 256.292748 92.562475 \nL 256.725697 93.784185 \nL 258.457496 93.784185 \nL 258.890446 94.883725 \nL 260.189295 94.883725 \nL 260.622245 97.204974 \nL 261.055194 96.105435 \nL 261.488144 96.105435 \nL 261.921094 97.204974 \nL 263.219943 97.204974 \nL 263.652893 98.426685 \nL 265.817641 98.426685 \nL 266.250591 97.204974 \nL 266.683541 97.204974 \nL 267.11649 100.870105 \nL 267.54944 99.648395 \nL 267.98239 99.648395 \nL 268.415339 100.870105 \nL 268.848289 103.313526 \nL 270.147138 103.313526 \nL 270.580088 102.091815 \nL 271.013037 103.313526 \nL 271.445987 103.313526 \nL 271.878937 102.213986 \nL 272.744836 104.535236 \nL 273.177786 103.435697 \nL 273.610736 104.535236 \nL 275.775484 104.535236 \nL 276.208434 103.313526 \nL 277.074333 103.313526 \nL 277.507283 104.535236 \nL 277.940233 103.313526 \nL 278.806132 103.313526 \nL 279.239082 102.091815 \nL 282.26973 102.091815 \nL 282.702679 100.870105 \nL 284.001528 100.870105 \nL 284.434478 99.648395 \nL 287.465126 99.648395 \nL 287.898076 98.426685 \nL 288.763975 98.426685 \nL 289.196925 99.648395 \nL 290.495774 99.648395 \nL 290.928723 100.870105 \nL 293.526422 100.870105 \nL 293.959371 98.548856 \nL 298.288868 98.548856 \nL 298.721818 99.648395 \nL 299.154768 99.648395 \nL 299.587717 99.770566 \nL 300.020667 100.992276 \nL 300.453617 99.770566 \nL 300.886567 99.770566 \nL 301.319516 98.548856 \nL 301.752466 98.548856 \nL 302.185416 100.992276 \nL 302.618365 99.770566 \nL 303.051315 99.770566 \nL 303.484265 100.992276 \nL 304.350164 100.992276 \nL 304.783114 99.770566 \nL 305.216063 100.992276 \nL 306.947862 100.992276 \nL 307.380812 99.770566 \nL 307.813762 99.770566 \nL 308.246711 100.992276 \nL 315.606856 100.992276 \nL 316.039806 99.770566 \nL 319.070454 99.770566 \nL 319.503403 98.548856 \nL 321.235202 98.548856 \nL 321.668152 99.770566 \nL 323.8329 99.770566 \nL 324.26585 100.992276 \nL 324.6988 100.992276 \nL 325.131749 99.770566 \nL 359.767725 99.770566 \nL 360.200675 103.435697 \nL 364.097222 103.435697 \nL 364.530172 105.634775 \nL 369.725568 105.634775 \nL 369.725568 105.634775 \n\" style=\"fill:none;stroke:#1f77b4;stroke-linecap:square;stroke-width:1.5;\"/>\n   </g>\n   <g id=\"patch_3\">\n    <path d=\"M 50.14375 245.141875 \nL 50.14375 27.701875 \n\" style=\"fill:none;stroke:#000000;stroke-linecap:square;stroke-linejoin:miter;stroke-width:0.8;\"/>\n   </g>\n   <g id=\"patch_4\">\n    <path d=\"M 384.94375 245.141875 \nL 384.94375 27.701875 \n\" style=\"fill:none;stroke:#000000;stroke-linecap:square;stroke-linejoin:miter;stroke-width:0.8;\"/>\n   </g>\n   <g id=\"patch_5\">\n    <path d=\"M 50.14375 245.141875 \nL 384.94375 245.141875 \n\" style=\"fill:none;stroke:#000000;stroke-linecap:square;stroke-linejoin:miter;stroke-width:0.8;\"/>\n   </g>\n   <g id=\"patch_6\">\n    <path d=\"M 50.14375 27.701875 \nL 384.94375 27.701875 \n\" style=\"fill:none;stroke:#000000;stroke-linecap:square;stroke-linejoin:miter;stroke-width:0.8;\"/>\n   </g>\n  </g>\n </g>\n <defs>\n  <clipPath id=\"p76f9c8b637\">\n   <rect height=\"217.44\" width=\"334.8\" x=\"50.14375\" y=\"27.701875\"/>\n  </clipPath>\n </defs>\n</svg>\n",
      "image/png": "[encoded data removed]"
     },
     "metadata": {
      "needs_background": "light"
     }
    }
   ],
   "source": [
    "svc = svm.SVC(kernel=\"linear\")\n",
    "\n",
    "# classifications\n",
    "rfecv = RFECV(\n",
    "    estimator=svc, step=1, \n",
    "    cv=StratifiedKFold(4),\n",
    "    scoring='roc_auc')\n",
    "rfecv.fit(X_TRAIN_SCAL, Y_TRAIN)\n",
    "\n",
    "print(\"Optimal number of features : %d\" % rfecv.n_features_)\n",
    "\n",
    "# Plot number of features VS. cross-validation scores\n",
    "plt.figure()\n",
    "plt.xlabel(\"Number of features selected\")\n",
    "plt.ylabel(\"Cross validation score (nb of correct classifications)\")\n",
    "plt.plot(range(1, len(rfecv.grid_scores_) + 1), rfecv.grid_scores_)\n",
    "plt.show()\n",
    "\n",
    "X_TRAIN_FINAL = X_TRAIN_SCAL[:,rfecv.support_]\n",
    "X_TEST_FINAL = X_TEST_SCAL[:,rfecv.support_]\n",
    "#print(rfecv.ranking_)\n",
    "#np.absolute(rfecv.estimator_.coef_)"
   ]
  },
  {
   "cell_type": "code",
   "execution_count": null,
   "metadata": {},
   "outputs": [],
   "source": []
  }
 ],
 "metadata": {
  "colab": {
   "collapsed_sections": [],
   "name": "assignment.ipynb",
   "provenance": []
  },
  "kernelspec": {
   "display_name": "Python 3",
   "language": "python",
   "name": "python3"
  },
  "language_info": {
   "codemirror_mode": {
    "name": "ipython",
    "version": 3
   },
   "file_extension": ".py",
   "mimetype": "text/x-python",
   "name": "python",
   "nbconvert_exporter": "python",
   "pygments_lexer": "ipython3",
   "version": "3.7.4-final"
  }
 },
 "nbformat": 4,
 "nbformat_minor": 1
}