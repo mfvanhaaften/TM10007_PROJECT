{
 "cells": [
  {
   "cell_type": "markdown",
   "execution_count": null,
   "metadata": {
    "colab_type": "text",
    "id": "7SXpaKwwGe5x"
   },
   "outputs": [],
   "source": [
    "# TM10007 Assignment: Prediction of Tumor Grade in Brain Cancer"
   ]
  },
  {
   "cell_type": "markdown",
   "metadata": {},
   "source": [
    "Group 4: Kiefer Comassi (4402359), Myrthe van Haaften (4547470), Frédérique Koopman (4470885), Stephanie Stoutjesdijk (4557808)\n"
   ],
   "execution_count": null,
   "outputs": []
  },
  {
   "cell_type": "markdown",
   "metadata": {},
   "source": [
    "## Installing and importing functions and packages"
   ],
   "execution_count": null,
   "outputs": []
  },
  {
   "cell_type": "code",
   "execution_count": 1,
   "metadata": {},
   "outputs": [],
   "source": [
    "# Run this to use from colab environment\n",
    "#!pip install -q --upgrade git+https://github.com/karinvangarderen/tm10007_project.git\n",
    "#!pip install missingpy"
   ]
  },
  {
   "cell_type": "code",
   "execution_count": 2,
   "metadata": {},
   "outputs": [],
   "source": [
    "import numpy as np\n",
    "import pandas as pd\n",
    "from math import floor\n",
    "import matplotlib.pyplot as plt\n",
    "\n",
    "from scipy.stats import shapiro\n",
    "from sklearn.model_selection import train_test_split\n",
    "from sklearn.preprocessing import RobustScaler\n",
    "from sklearn.preprocessing import StandardScaler\n",
    "from sklearn.preprocessing import MinMaxScaler\n",
    "from missingpy import KNNImputer\n",
    "from sklearn.svm import SVC\n",
    "from sklearn.model_selection import StratifiedKFold\n",
    "from sklearn.feature_selection import RFECV\n",
    "from sklearn import svm\n",
    "from sklearn.neighbors import KNeighborsClassifier\n",
    "from sklearn.ensemble import RandomForestClassifier\n",
    "from sklearn.model_selection import GridSearchCV\n",
    "\n",
    "from brats.load_data import load_data"
   ]
  },
  {
   "cell_type": "markdown",
   "metadata": {},
   "source": [
    "## Loading and splitting data "
   ],
   "execution_count": null,
   "outputs": []
  },
  {
   "cell_type": "code",
   "execution_count": 3,
   "metadata": {},
   "outputs": [],
   "source": [
    "# Load data\n",
    "data = load_data()\n",
    "\n",
    "# Splitting feature values and patient labels\n",
    "FEATURES = data.drop(columns=['label'])\n",
    "LABELS = data['label']\n",
    "\n",
    "GBM = FEATURES.loc[LABELS=='GBM']\n",
    "LGG = FEATURES.loc[LABELS=='LGG']\n",
    "\n",
    "# Splitting into train and test set --> dit moet weg\n",
    "#X_TRAIN, X_TEST, Y_TRAIN, Y_TEST = train_test_split(FEATURES, LABELS, test_size=0.2, random_state=42)\n",
    "\n",
    ""
   ]
  },
  {
   "cell_type": "markdown",
   "metadata": {},
   "source": [
    "## Preprocessing before crossvalidation"
   ],
   "execution_count": null,
   "outputs": []
  },
  {
   "cell_type": "markdown",
   "metadata": {},
   "source": [
    "Overview of the NaN's in the dataset"
   ],
   "execution_count": null,
   "outputs": []
  },
  {
   "cell_type": "code",
   "execution_count": 4,
   "metadata": {},
   "outputs": [],
   "source": [
    "# Determining the number of NaN's\n",
    "NO_NAN_ROW_TOTAL = FEATURES.isnull().sum(axis=1)             # Number of NaN's per patient for GBM and LGG patients\n",
    "NO_NAN_COL_TOTAL = FEATURES.isnull().sum(axis=0)             # Number of NaN's per feature for GBM and LGG patients\n",
    "\n",
    "GBM_NO_NAN_COL = GBM.isnull().sum(axis=0)                    # Number of NaN's per feature for GBM patients\n",
    "LGG_NO_NAN_COL = LGG.isnull().sum(axis=0)                    # Number of NaN's per feature for LGG patients\n",
    "OVERVIEW_NAN = { 'Total': NO_NAN_COL_TOTAL, 'GBM': GBM_NO_NAN_COL, 'LGG': LGG_NO_NAN_COL } \n",
    ""
   ]
  },
  {
   "cell_type": "markdown",
   "metadata": {},
   "source": [
    "Feature selection based on the number of NaN's. Threshold = the maximum number of NaN's in a column"
   ],
   "execution_count": null,
   "outputs": []
  },
  {
   "cell_type": "code",
   "execution_count": 5,
   "metadata": {},
   "outputs": [],
   "source": [
    "# Define percentage of patients with no data for a certain feature, above which the feature is discarded\n",
    "PERC_MISSING_GBM = 30\n",
    "PERC_MISSING_LGG = 30\n",
    "\n",
    "# Determining threshold for discarding feature based on above percentage\n",
    "THRESHOLD_GBM = floor((PERC_MISSING_GBM/100) * len(GBM.index))\n",
    "THRESHOLD_LGG = floor((PERC_MISSING_LGG/100) * len(LGG.index))\n",
    "\n",
    "# Initialisation\n",
    "FEATURES_REMOVED = []\n",
    "\n",
    "# Append names of features that should be discarded to list\n",
    "\n",
    "for feature in GBM_NO_NAN_COL[GBM_NO_NAN_COL > THRESHOLD_GBM].index[:]:\n",
    "    FEATURES_REMOVED.append(feature)\n",
    "\n",
    "for feature in LGG_NO_NAN_COL[LGG_NO_NAN_COL > THRESHOLD_LGG].index[:]:\n",
    "    FEATURES_REMOVED.append(feature)\n",
    "\n",
    "# Remove features from dataset\n",
    "DATA_FEAT_SEL = FEATURES.drop(columns=[features for features in set(FEATURES_REMOVED)])\n",
    "\n",
    "# The variables (series) below 'bins' the NaN's:\n",
    "# - the index column is the amount of NaN's in the dataset \n",
    "# - the second column is the amount of features that have this amount of NaN's\n",
    "\n",
    "#aantal_NAN_GBM = GBM_no_nan_col.value_counts()\n",
    "#aantal_NAN_LGG = LGG_no_nan_col.value_counts()\n",
    "#aantal_NAN_total = no_nan_col.value_counts()\n",
    ""
   ]
  },
  {
   "cell_type": "markdown",
   "metadata": {},
   "source": [
    "Patient selection based on the number of NaN's. Threshold = the maximum number of NaN's in a row."
   ],
   "execution_count": null,
   "outputs": []
  },
  {
   "cell_type": "code",
   "execution_count": 6,
   "metadata": {},
   "outputs": [],
   "source": [
    "# Patient selection \n",
    "\n",
    "# Percentage/number of features that a patient is allowed to miss. When above this amount, this patient is removed from the trainingset, because it is missing too many features. \n",
    "PERC_MISSING_SAMPLE = 30\n",
    "\n",
    "# Make the threshold\n",
    "THRESHOLD_SAMPLE = floor((PERC_MISSING_SAMPLE/100) * len(DATA_FEAT_SEL.columns))\n",
    "\n",
    "# Number of NaN's per patient AFTER removing some features\n",
    "NO_NAN_ROW_TRAIN = DATA_FEAT_SEL.isnull().sum(axis=1)      \n",
    "\n",
    "# Make an empty list, which will be filled with samples that are above the threshold\n",
    "SAMPLES_REMOVED = [] \n",
    "LABELS_SEL = LABELS\n",
    "\n",
    "# Looping over the trainingset to determine which patients are above the threshold, and remove them directly.\n",
    "#print('These samples are removed from dataset:')\n",
    "#for sample in NO_NAN_ROW_TRAIN[NO_NAN_ROW_TRAIN > THRESHOLD_SAMPLE].index[:]:\n",
    "#    if sample:\n",
    "#        print(sample)\n",
    "#        SAMPLES_REMOVED.append(sample)      # This should be removed in combination with the comment before\n",
    "#        DATA_FEAT_SEL = DATA_FEAT_SEL.drop(index=sample)\n",
    "#        LABELS_SEL = LABELS_SEL.drop(index=sample)\n",
    "\n",
    "#print(f'{len(DATA_FEAT_SEL)}/{len(FEATURES)} samples are left in dataset')"
   ]
  },
  {
   "cell_type": "markdown",
   "metadata": {},
   "source": [
    "Evaluation of data distribution and outliers"
   ],
   "execution_count": null,
   "outputs": []
  },
  {
   "cell_type": "code",
   "execution_count": 7,
   "metadata": {},
   "outputs": [
    {
     "output_type": "stream",
     "name": "stderr",
     "text": "C:\\Users\\Kiefe\\Anaconda3\\lib\\site-packages\\sklearn\\utils\\validation.py:432: DeprecationWarning: 'warn_on_dtype' is deprecated in version 0.21 and will be removed in 0.23. Don't set `warn_on_dtype` to remove this warning.\n  DeprecationWarning)\nC:\\Users\\Kiefe\\Anaconda3\\lib\\site-packages\\sklearn\\utils\\validation.py:432: DeprecationWarning: 'warn_on_dtype' is deprecated in version 0.21 and will be removed in 0.23. Don't set `warn_on_dtype` to remove this warning.\n  DeprecationWarning)\n"
    }
   ],
   "source": [
    "# Evaluate data distribution: \n",
    "IMPUTER_TOTAL = KNNImputer(n_neighbors=5, weights=\"uniform\")\n",
    "\n",
    "DATA_TOTAL_IMPUTED = IMPUTER_TOTAL.fit_transform(DATA_FEAT_SEL)\n",
    "\n",
    "NO_NORM_DISTR = 0\n",
    "FEAT_NORM = list()\n",
    "for index, feature in enumerate(DATA_TOTAL_IMPUTED.T):\n",
    "    t_stat, p_value = shapiro(feature)\n",
    "    if p_value>0.05:\n",
    "        NO_NORM_DISTR += 1 \n",
    "        FEAT_NORM.append(index)\n",
    "\n",
    ""
   ]
  },
  {
   "cell_type": "code",
   "execution_count": 8,
   "metadata": {},
   "outputs": [],
   "source": [
    "\n",
    "# Evaluate per patient each feature\n",
    "NO_OUTLIERS = 0\n",
    "\n",
    "for patient in DATA_TOTAL_IMPUTED:\n",
    "    feat_out = 0\n",
    "    for index, feature in enumerate(patient):\n",
    "        q25, q75 = np.percentile(DATA_TOTAL_IMPUTED[:,index], 25), np.percentile(DATA_TOTAL_IMPUTED[:,index], 75)\n",
    "        iqr = q75 - q25\n",
    "        cut_off = iqr * 1.5\n",
    "        lower, upper = q25 - cut_off, q75 + cut_off\n",
    "        outlier = ((feature>upper) | (feature<lower))\n",
    "        feat_out += outlier\n",
    "    if feat_out > 70:\n",
    "        NO_OUTLIERS += 1\n",
    "\n",
    "# Calculate mean and standard deviation per feature based on training data\n",
    "#MEAN = DATA_TOTAL_IMPUTED.mean(axis=0)\n",
    "#STD = DATA_TOTAL_IMPUTED.std(axis=0)\n",
    "\n",
    "# Evaluate per patient each feature\n",
    "#NO_OUTLIERS = 0\n",
    "#for patient in DATA_TOTAL_IMPUTED:\n",
    "#    feat_out = 0\n",
    "#    for feature, mu, std in zip(patient, MEAN, STD):\n",
    "#        outlier = ((feature>mu+3*std) | (feature<mu-3*std))\n",
    "#        feat_out += outlier\n",
    "#    if feat_out > 30:\n",
    "#        no_outliers += 1"
   ]
  },
  {
   "cell_type": "markdown",
   "metadata": {},
   "source": [
    "## Function definitions"
   ],
   "execution_count": null,
   "outputs": []
  },
  {
   "cell_type": "code",
   "execution_count": 9,
   "metadata": {},
   "outputs": [],
   "source": [
    "# Imputation\n",
    "\n",
    "def knn_impute_train_set(X_train, y_train, X_test):\n",
    "    # Definition of imputers\n",
    "    imputer_gbm = KNNImputer(n_neighbors=5, weights=\"uniform\")\n",
    "    imputer_lgg = KNNImputer(n_neighbors=5, weights=\"uniform\")        \n",
    "    imputer_test = KNNImputer(n_neighbors=5, weights=\"uniform\")\n",
    "\n",
    "    # Impute GBM train set\n",
    "    X_train_gbm = X_train[y_train=='GBM']        \n",
    "    X_train_imp_gbm =  imputer_gbm.fit_transform(X_train_gbm)    \n",
    "\n",
    "    # Impute LGG train set\n",
    "    X_train_lgg = X_train[y_train=='LGG']        \n",
    "    X_train_imp_lgg = imputer_lgg.fit_transform(X_train_lgg)    \n",
    "\n",
    "    # Merge imputed GBM and LGG arrays\n",
    "    X_train_imp_tot = np.concatenate((X_train_imp_gbm, X_train_imp_lgg))\n",
    "\n",
    "    # Impute test set \n",
    "    imputer_test.fit(X_train_imp_tot)\n",
    "    X_test_imp = imputer_test.transform(X_test)\n",
    "    \n",
    "    return X_train_imp_tot, X_test_imp"
   ]
  },
  {
   "cell_type": "code",
   "execution_count": 10,
   "metadata": {},
   "outputs": [],
   "source": [
    "# Scaling\n",
    "\n",
    "def scale_train_and_test_data(X_train, X_test):\n",
    "    scaler = RobustScaler()\n",
    "    scaler.fit(X_train)\n",
    "    X_train_scal = scaler.transform(X_train)\n",
    "    X_test_scal = scaler.transform(X_test)\n",
    "    return X_train_scal, X_test_scal"
   ]
  },
  {
   "cell_type": "code",
   "execution_count": 11,
   "metadata": {},
   "outputs": [],
   "source": [
    "# Feature selection using recursive feature elimination\n",
    "\n",
    "def select_features_rfecv(X_train, y_train):\n",
    "\n",
    "    svc = svm.SVC(kernel=\"linear\")\n",
    "    optimal_number_features = list()\n",
    "\n",
    "    # classifications\n",
    "    rfecv = RFECV(\n",
    "        estimator=svc, step=1, \n",
    "        cv=StratifiedKFold(4),\n",
    "        scoring='roc_auc')\n",
    "    rfecv.fit(X_train, y_train)                               \n",
    "\n",
    "    optimal_number_features.append(rfecv.n_features_)\n",
    "    print(\"Optimal number of features : %d\" % rfecv.n_features_)\n",
    "\n",
    "    # Plot number of features VS. cross-validation scores\n",
    "    plt.figure()\n",
    "    plt.xlabel(\"Number of features selected\")\n",
    "    plt.ylabel(\"Cross validation score (nb of correct classifications)\")\n",
    "    plt.plot(range(1, len(rfecv.grid_scores_) + 1), rfecv.grid_scores_)\n",
    "    plt.show()\n",
    "\n",
    "    return rfecv.support_\n",
    "    #print(rfecv.ranking_)\n",
    "    #np.absolute(rfecv.estimator_.coef_)"
   ]
  },
  {
   "cell_type": "code",
   "execution_count": 19,
   "metadata": {},
   "outputs": [],
   "source": [
    "def RF_gridsearch(X_TRAIN_SEL, Y_TRAIN):\n",
    "    '''Perform a Grid Search on the training set \n",
    "    to find the optimal hyperparameters.\n",
    "    Input: training data and labels\n",
    "    Output: Random Forest Classifier with optimal hyperparameters'''\n",
    "\n",
    "    model_params = {\n",
    "        'n_estimators': [32, 64, 128, 150],\n",
    "        'max_features': ['sqrt', 0.25, 0.5, 0.75, 1.0],\n",
    "        'min_samples_split': [2, 4, 6],\n",
    "        'max_depth': [1,6,15,28,32]\n",
    "    }\n",
    "\n",
    "    GRID = GridSearchCV(RandomForestClassifier(), model_params, refit=True, verbose=1)\n",
    "    GRID.fit(X_TRAIN_SEL, Y_TRAIN)\n",
    "\n",
    "    RandomForest_CLASSIFIER = GRID.best_estimator_\n",
    "    print(RandomForest_CLASSIFIER)\n",
    "    RESULTS = pd.DataFrame(GRID.cv_results_)\n",
    "\n",
    "    return RandomForest_CLASSIFIER \n",
    "\n",
    "\n",
    "def KNN_gridsearch(X_TRAIN_SEL, Y_TRAIN):\n",
    "    '''Perform a Grid Search on the training set \n",
    "    to find the optimal hyperparameters.\n",
    "    Input: training data and labels\n",
    "    Output: Random Forest Classifier with optimal hyperparameters'''\n",
    "\n",
    "    k_range = list(range(3,31))\n",
    "    weight_options = [\"uniform\", \"distance\"]\n",
    "\n",
    "    param_grid = dict(n_neighbors = k_range, weights = weight_options)\n",
    "\n",
    "    GRID = GridSearchCV(KNeighborsClassifier(), param_grid, refit=True, verbose=0)\n",
    "    GRID.fit(X_train_sel, y_train)\n",
    "\n",
    "    KNN_CLASSIFIER = GRID.best_estimator_\n",
    "    print(KNN_CLASSIFIER)\n",
    "    RESULTS = pd.DataFrame(GRID.cv_results_)\n",
    "\n",
    "    return KNN_CLASSIFIER "
   ]
  },
  {
   "cell_type": "code",
   "execution_count": 12,
   "metadata": {},
   "outputs": [],
   "source": [
    "def svm_gridsearch(X_train_sel, Y_train):\n",
    "    '''Perform a Grid Search on the training set \n",
    "    to find the optimal hyperparameters.\n",
    "    Input: training data and labels\n",
    "    Output: SVM Classifier with optimal hyperparameters'''\n",
    "\n",
    "    param_grid =  {'kernel': ['linear', 'rbf', 'poly'],\n",
    "                    'C': [0.01, 0.1, 1, 10, 100]} \n",
    "                    #'gamma': [1, 0.1, 0.01, 0.001, 'auto', 'scale'],\n",
    "                    #'degree': [1, 2, 3, 4, 5],\n",
    "                    #'coef0': [0.01, 0.5, 1, 5, 10, 20]} \n",
    "\n",
    "    GRID = GridSearchCV(SVC(), param_grid, refit=True, verbose=0)\n",
    "    GRID.fit(X_train_sel, y_train)\n",
    "\n",
    "    SVM_CLASSIFIER = GRID.best_estimator_\n",
    "    #print(SVM_CLASSIFIER)\n",
    "    RESULTS = pd.DataFrame(GRID.cv_results_)\n",
    "\n",
    "    return SVM_CLASSIFIER"
   ]
  },
  {
   "cell_type": "markdown",
   "metadata": {},
   "source": [
    "## Crossvalidation "
   ],
   "execution_count": null,
   "outputs": []
  },
  {
   "cell_type": "code",
   "execution_count": 18,
   "metadata": {},
   "outputs": [
    {
     "output_type": "stream",
     "name": "stderr",
     "text": "C:\\Users\\Kiefe\\Anaconda3\\lib\\site-packages\\sklearn\\utils\\validation.py:432: DeprecationWarning: 'warn_on_dtype' is deprecated in version 0.21 and will be removed in 0.23. Don't set `warn_on_dtype` to remove this warning.\n  DeprecationWarning)\nC:\\Users\\Kiefe\\Anaconda3\\lib\\site-packages\\sklearn\\utils\\validation.py:432: DeprecationWarning: 'warn_on_dtype' is deprecated in version 0.21 and will be removed in 0.23. Don't set `warn_on_dtype` to remove this warning.\n  DeprecationWarning)\nOptimal number of features : 5\n"
    },
    {
     "output_type": "display_data",
     "data": {
      "text/plain": "<Figure size 432x288 with 1 Axes>",
      "image/svg+xml": "<?xml version=\"1.0\" encoding=\"utf-8\" standalone=\"no\"?>\r\n<!DOCTYPE svg PUBLIC \"-//W3C//DTD SVG 1.1//EN\"\r\n  \"http://www.w3.org/Graphics/SVG/1.1/DTD/svg11.dtd\">\r\n<!-- Created with matplotlib (https://matplotlib.org/) -->\r\n<svg height=\"282.698125pt\" version=\"1.1\" viewBox=\"0 0 397.859226 282.698125\" width=\"397.859226pt\" xmlns=\"http://www.w3.org/2000/svg\" xmlns:xlink=\"http://www.w3.org/1999/xlink\">\r\n <defs>\r\n  <style type=\"text/css\">\r\n*{stroke-linecap:butt;stroke-linejoin:round;}\r\n  </style>\r\n </defs>\r\n <g id=\"figure_1\">\r\n  <g id=\"patch_1\">\r\n   <path d=\"M -0 282.698125 \r\nL 397.859226 282.698125 \r\nL 397.859226 0 \r\nL -0 0 \r\nz\r\n\" style=\"fill:none;\"/>\r\n  </g>\r\n  <g id=\"axes_1\">\r\n   <g id=\"patch_2\">\r\n    <path d=\"M 50.14375 245.141875 \r\nL 384.94375 245.141875 \r\nL 384.94375 27.701875 \r\nL 50.14375 27.701875 \r\nz\r\n\" style=\"fill:#ffffff;\"/>\r\n   </g>\r\n   <g id=\"matplotlib.axis_1\">\r\n    <g id=\"xtick_1\">\r\n     <g id=\"line2d_1\">\r\n      <defs>\r\n       <path d=\"M 0 0 \r\nL 0 3.5 \r\n\" id=\"m543d426ec8\" style=\"stroke:#000000;stroke-width:0.8;\"/>\r\n      </defs>\r\n      <g>\r\n       <use style=\"stroke:#000000;stroke-width:0.8;\" x=\"64.729159\" xlink:href=\"#m543d426ec8\" y=\"245.141875\"/>\r\n      </g>\r\n     </g>\r\n     <g id=\"text_1\">\r\n      <!-- 0 -->\r\n      <defs>\r\n       <path d=\"M 31.78125 66.40625 \r\nQ 24.171875 66.40625 20.328125 58.90625 \r\nQ 16.5 51.421875 16.5 36.375 \r\nQ 16.5 21.390625 20.328125 13.890625 \r\nQ 24.171875 6.390625 31.78125 6.390625 \r\nQ 39.453125 6.390625 43.28125 13.890625 \r\nQ 47.125 21.390625 47.125 36.375 \r\nQ 47.125 51.421875 43.28125 58.90625 \r\nQ 39.453125 66.40625 31.78125 66.40625 \r\nz\r\nM 31.78125 74.21875 \r\nQ 44.046875 74.21875 50.515625 64.515625 \r\nQ 56.984375 54.828125 56.984375 36.375 \r\nQ 56.984375 17.96875 50.515625 8.265625 \r\nQ 44.046875 -1.421875 31.78125 -1.421875 \r\nQ 19.53125 -1.421875 13.0625 8.265625 \r\nQ 6.59375 17.96875 6.59375 36.375 \r\nQ 6.59375 54.828125 13.0625 64.515625 \r\nQ 19.53125 74.21875 31.78125 74.21875 \r\nz\r\n\" id=\"DejaVuSans-48\"/>\r\n      </defs>\r\n      <g transform=\"translate(61.547909 259.740312)scale(0.1 -0.1)\">\r\n       <use xlink:href=\"#DejaVuSans-48\"/>\r\n      </g>\r\n     </g>\r\n    </g>\r\n    <g id=\"xtick_2\">\r\n     <g id=\"line2d_2\">\r\n      <g>\r\n       <use style=\"stroke:#000000;stroke-width:0.8;\" x=\"128.006422\" xlink:href=\"#m543d426ec8\" y=\"245.141875\"/>\r\n      </g>\r\n     </g>\r\n     <g id=\"text_2\">\r\n      <!-- 100 -->\r\n      <defs>\r\n       <path d=\"M 12.40625 8.296875 \r\nL 28.515625 8.296875 \r\nL 28.515625 63.921875 \r\nL 10.984375 60.40625 \r\nL 10.984375 69.390625 \r\nL 28.421875 72.90625 \r\nL 38.28125 72.90625 \r\nL 38.28125 8.296875 \r\nL 54.390625 8.296875 \r\nL 54.390625 0 \r\nL 12.40625 0 \r\nz\r\n\" id=\"DejaVuSans-49\"/>\r\n      </defs>\r\n      <g transform=\"translate(118.462672 259.740312)scale(0.1 -0.1)\">\r\n       <use xlink:href=\"#DejaVuSans-49\"/>\r\n       <use x=\"63.623047\" xlink:href=\"#DejaVuSans-48\"/>\r\n       <use x=\"127.246094\" xlink:href=\"#DejaVuSans-48\"/>\r\n      </g>\r\n     </g>\r\n    </g>\r\n    <g id=\"xtick_3\">\r\n     <g id=\"line2d_3\">\r\n      <g>\r\n       <use style=\"stroke:#000000;stroke-width:0.8;\" x=\"191.283686\" xlink:href=\"#m543d426ec8\" y=\"245.141875\"/>\r\n      </g>\r\n     </g>\r\n     <g id=\"text_3\">\r\n      <!-- 200 -->\r\n      <defs>\r\n       <path d=\"M 19.1875 8.296875 \r\nL 53.609375 8.296875 \r\nL 53.609375 0 \r\nL 7.328125 0 \r\nL 7.328125 8.296875 \r\nQ 12.9375 14.109375 22.625 23.890625 \r\nQ 32.328125 33.6875 34.8125 36.53125 \r\nQ 39.546875 41.84375 41.421875 45.53125 \r\nQ 43.3125 49.21875 43.3125 52.78125 \r\nQ 43.3125 58.59375 39.234375 62.25 \r\nQ 35.15625 65.921875 28.609375 65.921875 \r\nQ 23.96875 65.921875 18.8125 64.3125 \r\nQ 13.671875 62.703125 7.8125 59.421875 \r\nL 7.8125 69.390625 \r\nQ 13.765625 71.78125 18.9375 73 \r\nQ 24.125 74.21875 28.421875 74.21875 \r\nQ 39.75 74.21875 46.484375 68.546875 \r\nQ 53.21875 62.890625 53.21875 53.421875 \r\nQ 53.21875 48.921875 51.53125 44.890625 \r\nQ 49.859375 40.875 45.40625 35.40625 \r\nQ 44.1875 33.984375 37.640625 27.21875 \r\nQ 31.109375 20.453125 19.1875 8.296875 \r\nz\r\n\" id=\"DejaVuSans-50\"/>\r\n      </defs>\r\n      <g transform=\"translate(181.739936 259.740312)scale(0.1 -0.1)\">\r\n       <use xlink:href=\"#DejaVuSans-50\"/>\r\n       <use x=\"63.623047\" xlink:href=\"#DejaVuSans-48\"/>\r\n       <use x=\"127.246094\" xlink:href=\"#DejaVuSans-48\"/>\r\n      </g>\r\n     </g>\r\n    </g>\r\n    <g id=\"xtick_4\">\r\n     <g id=\"line2d_4\">\r\n      <g>\r\n       <use style=\"stroke:#000000;stroke-width:0.8;\" x=\"254.560949\" xlink:href=\"#m543d426ec8\" y=\"245.141875\"/>\r\n      </g>\r\n     </g>\r\n     <g id=\"text_4\">\r\n      <!-- 300 -->\r\n      <defs>\r\n       <path d=\"M 40.578125 39.3125 \r\nQ 47.65625 37.796875 51.625 33 \r\nQ 55.609375 28.21875 55.609375 21.1875 \r\nQ 55.609375 10.40625 48.1875 4.484375 \r\nQ 40.765625 -1.421875 27.09375 -1.421875 \r\nQ 22.515625 -1.421875 17.65625 -0.515625 \r\nQ 12.796875 0.390625 7.625 2.203125 \r\nL 7.625 11.71875 \r\nQ 11.71875 9.328125 16.59375 8.109375 \r\nQ 21.484375 6.890625 26.8125 6.890625 \r\nQ 36.078125 6.890625 40.9375 10.546875 \r\nQ 45.796875 14.203125 45.796875 21.1875 \r\nQ 45.796875 27.640625 41.28125 31.265625 \r\nQ 36.765625 34.90625 28.71875 34.90625 \r\nL 20.21875 34.90625 \r\nL 20.21875 43.015625 \r\nL 29.109375 43.015625 \r\nQ 36.375 43.015625 40.234375 45.921875 \r\nQ 44.09375 48.828125 44.09375 54.296875 \r\nQ 44.09375 59.90625 40.109375 62.90625 \r\nQ 36.140625 65.921875 28.71875 65.921875 \r\nQ 24.65625 65.921875 20.015625 65.03125 \r\nQ 15.375 64.15625 9.8125 62.3125 \r\nL 9.8125 71.09375 \r\nQ 15.4375 72.65625 20.34375 73.4375 \r\nQ 25.25 74.21875 29.59375 74.21875 \r\nQ 40.828125 74.21875 47.359375 69.109375 \r\nQ 53.90625 64.015625 53.90625 55.328125 \r\nQ 53.90625 49.265625 50.4375 45.09375 \r\nQ 46.96875 40.921875 40.578125 39.3125 \r\nz\r\n\" id=\"DejaVuSans-51\"/>\r\n      </defs>\r\n      <g transform=\"translate(245.017199 259.740312)scale(0.1 -0.1)\">\r\n       <use xlink:href=\"#DejaVuSans-51\"/>\r\n       <use x=\"63.623047\" xlink:href=\"#DejaVuSans-48\"/>\r\n       <use x=\"127.246094\" xlink:href=\"#DejaVuSans-48\"/>\r\n      </g>\r\n     </g>\r\n    </g>\r\n    <g id=\"xtick_5\">\r\n     <g id=\"line2d_5\">\r\n      <g>\r\n       <use style=\"stroke:#000000;stroke-width:0.8;\" x=\"317.838212\" xlink:href=\"#m543d426ec8\" y=\"245.141875\"/>\r\n      </g>\r\n     </g>\r\n     <g id=\"text_5\">\r\n      <!-- 400 -->\r\n      <defs>\r\n       <path d=\"M 37.796875 64.3125 \r\nL 12.890625 25.390625 \r\nL 37.796875 25.390625 \r\nz\r\nM 35.203125 72.90625 \r\nL 47.609375 72.90625 \r\nL 47.609375 25.390625 \r\nL 58.015625 25.390625 \r\nL 58.015625 17.1875 \r\nL 47.609375 17.1875 \r\nL 47.609375 0 \r\nL 37.796875 0 \r\nL 37.796875 17.1875 \r\nL 4.890625 17.1875 \r\nL 4.890625 26.703125 \r\nz\r\n\" id=\"DejaVuSans-52\"/>\r\n      </defs>\r\n      <g transform=\"translate(308.294462 259.740312)scale(0.1 -0.1)\">\r\n       <use xlink:href=\"#DejaVuSans-52\"/>\r\n       <use x=\"63.623047\" xlink:href=\"#DejaVuSans-48\"/>\r\n       <use x=\"127.246094\" xlink:href=\"#DejaVuSans-48\"/>\r\n      </g>\r\n     </g>\r\n    </g>\r\n    <g id=\"xtick_6\">\r\n     <g id=\"line2d_6\">\r\n      <g>\r\n       <use style=\"stroke:#000000;stroke-width:0.8;\" x=\"381.115476\" xlink:href=\"#m543d426ec8\" y=\"245.141875\"/>\r\n      </g>\r\n     </g>\r\n     <g id=\"text_6\">\r\n      <!-- 500 -->\r\n      <defs>\r\n       <path d=\"M 10.796875 72.90625 \r\nL 49.515625 72.90625 \r\nL 49.515625 64.59375 \r\nL 19.828125 64.59375 \r\nL 19.828125 46.734375 \r\nQ 21.96875 47.46875 24.109375 47.828125 \r\nQ 26.265625 48.1875 28.421875 48.1875 \r\nQ 40.625 48.1875 47.75 41.5 \r\nQ 54.890625 34.8125 54.890625 23.390625 \r\nQ 54.890625 11.625 47.5625 5.09375 \r\nQ 40.234375 -1.421875 26.90625 -1.421875 \r\nQ 22.3125 -1.421875 17.546875 -0.640625 \r\nQ 12.796875 0.140625 7.71875 1.703125 \r\nL 7.71875 11.625 \r\nQ 12.109375 9.234375 16.796875 8.0625 \r\nQ 21.484375 6.890625 26.703125 6.890625 \r\nQ 35.15625 6.890625 40.078125 11.328125 \r\nQ 45.015625 15.765625 45.015625 23.390625 \r\nQ 45.015625 31 40.078125 35.4375 \r\nQ 35.15625 39.890625 26.703125 39.890625 \r\nQ 22.75 39.890625 18.8125 39.015625 \r\nQ 14.890625 38.140625 10.796875 36.28125 \r\nz\r\n\" id=\"DejaVuSans-53\"/>\r\n      </defs>\r\n      <g transform=\"translate(371.571726 259.740312)scale(0.1 -0.1)\">\r\n       <use xlink:href=\"#DejaVuSans-53\"/>\r\n       <use x=\"63.623047\" xlink:href=\"#DejaVuSans-48\"/>\r\n       <use x=\"127.246094\" xlink:href=\"#DejaVuSans-48\"/>\r\n      </g>\r\n     </g>\r\n    </g>\r\n    <g id=\"text_7\">\r\n     <!-- Number of features selected -->\r\n     <defs>\r\n      <path d=\"M 9.8125 72.90625 \r\nL 23.09375 72.90625 \r\nL 55.421875 11.921875 \r\nL 55.421875 72.90625 \r\nL 64.984375 72.90625 \r\nL 64.984375 0 \r\nL 51.703125 0 \r\nL 19.390625 60.984375 \r\nL 19.390625 0 \r\nL 9.8125 0 \r\nz\r\n\" id=\"DejaVuSans-78\"/>\r\n      <path d=\"M 8.5 21.578125 \r\nL 8.5 54.6875 \r\nL 17.484375 54.6875 \r\nL 17.484375 21.921875 \r\nQ 17.484375 14.15625 20.5 10.265625 \r\nQ 23.53125 6.390625 29.59375 6.390625 \r\nQ 36.859375 6.390625 41.078125 11.03125 \r\nQ 45.3125 15.671875 45.3125 23.6875 \r\nL 45.3125 54.6875 \r\nL 54.296875 54.6875 \r\nL 54.296875 0 \r\nL 45.3125 0 \r\nL 45.3125 8.40625 \r\nQ 42.046875 3.421875 37.71875 1 \r\nQ 33.40625 -1.421875 27.6875 -1.421875 \r\nQ 18.265625 -1.421875 13.375 4.4375 \r\nQ 8.5 10.296875 8.5 21.578125 \r\nz\r\nM 31.109375 56 \r\nz\r\n\" id=\"DejaVuSans-117\"/>\r\n      <path d=\"M 52 44.1875 \r\nQ 55.375 50.25 60.0625 53.125 \r\nQ 64.75 56 71.09375 56 \r\nQ 79.640625 56 84.28125 50.015625 \r\nQ 88.921875 44.046875 88.921875 33.015625 \r\nL 88.921875 0 \r\nL 79.890625 0 \r\nL 79.890625 32.71875 \r\nQ 79.890625 40.578125 77.09375 44.375 \r\nQ 74.3125 48.1875 68.609375 48.1875 \r\nQ 61.625 48.1875 57.5625 43.546875 \r\nQ 53.515625 38.921875 53.515625 30.90625 \r\nL 53.515625 0 \r\nL 44.484375 0 \r\nL 44.484375 32.71875 \r\nQ 44.484375 40.625 41.703125 44.40625 \r\nQ 38.921875 48.1875 33.109375 48.1875 \r\nQ 26.21875 48.1875 22.15625 43.53125 \r\nQ 18.109375 38.875 18.109375 30.90625 \r\nL 18.109375 0 \r\nL 9.078125 0 \r\nL 9.078125 54.6875 \r\nL 18.109375 54.6875 \r\nL 18.109375 46.1875 \r\nQ 21.1875 51.21875 25.484375 53.609375 \r\nQ 29.78125 56 35.6875 56 \r\nQ 41.65625 56 45.828125 52.96875 \r\nQ 50 49.953125 52 44.1875 \r\nz\r\n\" id=\"DejaVuSans-109\"/>\r\n      <path d=\"M 48.6875 27.296875 \r\nQ 48.6875 37.203125 44.609375 42.84375 \r\nQ 40.53125 48.484375 33.40625 48.484375 \r\nQ 26.265625 48.484375 22.1875 42.84375 \r\nQ 18.109375 37.203125 18.109375 27.296875 \r\nQ 18.109375 17.390625 22.1875 11.75 \r\nQ 26.265625 6.109375 33.40625 6.109375 \r\nQ 40.53125 6.109375 44.609375 11.75 \r\nQ 48.6875 17.390625 48.6875 27.296875 \r\nz\r\nM 18.109375 46.390625 \r\nQ 20.953125 51.265625 25.265625 53.625 \r\nQ 29.59375 56 35.59375 56 \r\nQ 45.5625 56 51.78125 48.09375 \r\nQ 58.015625 40.1875 58.015625 27.296875 \r\nQ 58.015625 14.40625 51.78125 6.484375 \r\nQ 45.5625 -1.421875 35.59375 -1.421875 \r\nQ 29.59375 -1.421875 25.265625 0.953125 \r\nQ 20.953125 3.328125 18.109375 8.203125 \r\nL 18.109375 0 \r\nL 9.078125 0 \r\nL 9.078125 75.984375 \r\nL 18.109375 75.984375 \r\nz\r\n\" id=\"DejaVuSans-98\"/>\r\n      <path d=\"M 56.203125 29.59375 \r\nL 56.203125 25.203125 \r\nL 14.890625 25.203125 \r\nQ 15.484375 15.921875 20.484375 11.0625 \r\nQ 25.484375 6.203125 34.421875 6.203125 \r\nQ 39.59375 6.203125 44.453125 7.46875 \r\nQ 49.3125 8.734375 54.109375 11.28125 \r\nL 54.109375 2.78125 \r\nQ 49.265625 0.734375 44.1875 -0.34375 \r\nQ 39.109375 -1.421875 33.890625 -1.421875 \r\nQ 20.796875 -1.421875 13.15625 6.1875 \r\nQ 5.515625 13.8125 5.515625 26.8125 \r\nQ 5.515625 40.234375 12.765625 48.109375 \r\nQ 20.015625 56 32.328125 56 \r\nQ 43.359375 56 49.78125 48.890625 \r\nQ 56.203125 41.796875 56.203125 29.59375 \r\nz\r\nM 47.21875 32.234375 \r\nQ 47.125 39.59375 43.09375 43.984375 \r\nQ 39.0625 48.390625 32.421875 48.390625 \r\nQ 24.90625 48.390625 20.390625 44.140625 \r\nQ 15.875 39.890625 15.1875 32.171875 \r\nz\r\n\" id=\"DejaVuSans-101\"/>\r\n      <path d=\"M 41.109375 46.296875 \r\nQ 39.59375 47.171875 37.8125 47.578125 \r\nQ 36.03125 48 33.890625 48 \r\nQ 26.265625 48 22.1875 43.046875 \r\nQ 18.109375 38.09375 18.109375 28.8125 \r\nL 18.109375 0 \r\nL 9.078125 0 \r\nL 9.078125 54.6875 \r\nL 18.109375 54.6875 \r\nL 18.109375 46.1875 \r\nQ 20.953125 51.171875 25.484375 53.578125 \r\nQ 30.03125 56 36.53125 56 \r\nQ 37.453125 56 38.578125 55.875 \r\nQ 39.703125 55.765625 41.0625 55.515625 \r\nz\r\n\" id=\"DejaVuSans-114\"/>\r\n      <path id=\"DejaVuSans-32\"/>\r\n      <path d=\"M 30.609375 48.390625 \r\nQ 23.390625 48.390625 19.1875 42.75 \r\nQ 14.984375 37.109375 14.984375 27.296875 \r\nQ 14.984375 17.484375 19.15625 11.84375 \r\nQ 23.34375 6.203125 30.609375 6.203125 \r\nQ 37.796875 6.203125 41.984375 11.859375 \r\nQ 46.1875 17.53125 46.1875 27.296875 \r\nQ 46.1875 37.015625 41.984375 42.703125 \r\nQ 37.796875 48.390625 30.609375 48.390625 \r\nz\r\nM 30.609375 56 \r\nQ 42.328125 56 49.015625 48.375 \r\nQ 55.71875 40.765625 55.71875 27.296875 \r\nQ 55.71875 13.875 49.015625 6.21875 \r\nQ 42.328125 -1.421875 30.609375 -1.421875 \r\nQ 18.84375 -1.421875 12.171875 6.21875 \r\nQ 5.515625 13.875 5.515625 27.296875 \r\nQ 5.515625 40.765625 12.171875 48.375 \r\nQ 18.84375 56 30.609375 56 \r\nz\r\n\" id=\"DejaVuSans-111\"/>\r\n      <path d=\"M 37.109375 75.984375 \r\nL 37.109375 68.5 \r\nL 28.515625 68.5 \r\nQ 23.6875 68.5 21.796875 66.546875 \r\nQ 19.921875 64.59375 19.921875 59.515625 \r\nL 19.921875 54.6875 \r\nL 34.71875 54.6875 \r\nL 34.71875 47.703125 \r\nL 19.921875 47.703125 \r\nL 19.921875 0 \r\nL 10.890625 0 \r\nL 10.890625 47.703125 \r\nL 2.296875 47.703125 \r\nL 2.296875 54.6875 \r\nL 10.890625 54.6875 \r\nL 10.890625 58.5 \r\nQ 10.890625 67.625 15.140625 71.796875 \r\nQ 19.390625 75.984375 28.609375 75.984375 \r\nz\r\n\" id=\"DejaVuSans-102\"/>\r\n      <path d=\"M 34.28125 27.484375 \r\nQ 23.390625 27.484375 19.1875 25 \r\nQ 14.984375 22.515625 14.984375 16.5 \r\nQ 14.984375 11.71875 18.140625 8.90625 \r\nQ 21.296875 6.109375 26.703125 6.109375 \r\nQ 34.1875 6.109375 38.703125 11.40625 \r\nQ 43.21875 16.703125 43.21875 25.484375 \r\nL 43.21875 27.484375 \r\nz\r\nM 52.203125 31.203125 \r\nL 52.203125 0 \r\nL 43.21875 0 \r\nL 43.21875 8.296875 \r\nQ 40.140625 3.328125 35.546875 0.953125 \r\nQ 30.953125 -1.421875 24.3125 -1.421875 \r\nQ 15.921875 -1.421875 10.953125 3.296875 \r\nQ 6 8.015625 6 15.921875 \r\nQ 6 25.140625 12.171875 29.828125 \r\nQ 18.359375 34.515625 30.609375 34.515625 \r\nL 43.21875 34.515625 \r\nL 43.21875 35.40625 \r\nQ 43.21875 41.609375 39.140625 45 \r\nQ 35.0625 48.390625 27.6875 48.390625 \r\nQ 23 48.390625 18.546875 47.265625 \r\nQ 14.109375 46.140625 10.015625 43.890625 \r\nL 10.015625 52.203125 \r\nQ 14.9375 54.109375 19.578125 55.046875 \r\nQ 24.21875 56 28.609375 56 \r\nQ 40.484375 56 46.34375 49.84375 \r\nQ 52.203125 43.703125 52.203125 31.203125 \r\nz\r\n\" id=\"DejaVuSans-97\"/>\r\n      <path d=\"M 18.3125 70.21875 \r\nL 18.3125 54.6875 \r\nL 36.8125 54.6875 \r\nL 36.8125 47.703125 \r\nL 18.3125 47.703125 \r\nL 18.3125 18.015625 \r\nQ 18.3125 11.328125 20.140625 9.421875 \r\nQ 21.96875 7.515625 27.59375 7.515625 \r\nL 36.8125 7.515625 \r\nL 36.8125 0 \r\nL 27.59375 0 \r\nQ 17.1875 0 13.234375 3.875 \r\nQ 9.28125 7.765625 9.28125 18.015625 \r\nL 9.28125 47.703125 \r\nL 2.6875 47.703125 \r\nL 2.6875 54.6875 \r\nL 9.28125 54.6875 \r\nL 9.28125 70.21875 \r\nz\r\n\" id=\"DejaVuSans-116\"/>\r\n      <path d=\"M 44.28125 53.078125 \r\nL 44.28125 44.578125 \r\nQ 40.484375 46.53125 36.375 47.5 \r\nQ 32.28125 48.484375 27.875 48.484375 \r\nQ 21.1875 48.484375 17.84375 46.4375 \r\nQ 14.5 44.390625 14.5 40.28125 \r\nQ 14.5 37.15625 16.890625 35.375 \r\nQ 19.28125 33.59375 26.515625 31.984375 \r\nL 29.59375 31.296875 \r\nQ 39.15625 29.25 43.1875 25.515625 \r\nQ 47.21875 21.78125 47.21875 15.09375 \r\nQ 47.21875 7.46875 41.1875 3.015625 \r\nQ 35.15625 -1.421875 24.609375 -1.421875 \r\nQ 20.21875 -1.421875 15.453125 -0.5625 \r\nQ 10.6875 0.296875 5.421875 2 \r\nL 5.421875 11.28125 \r\nQ 10.40625 8.6875 15.234375 7.390625 \r\nQ 20.0625 6.109375 24.8125 6.109375 \r\nQ 31.15625 6.109375 34.5625 8.28125 \r\nQ 37.984375 10.453125 37.984375 14.40625 \r\nQ 37.984375 18.0625 35.515625 20.015625 \r\nQ 33.0625 21.96875 24.703125 23.78125 \r\nL 21.578125 24.515625 \r\nQ 13.234375 26.265625 9.515625 29.90625 \r\nQ 5.8125 33.546875 5.8125 39.890625 \r\nQ 5.8125 47.609375 11.28125 51.796875 \r\nQ 16.75 56 26.8125 56 \r\nQ 31.78125 56 36.171875 55.265625 \r\nQ 40.578125 54.546875 44.28125 53.078125 \r\nz\r\n\" id=\"DejaVuSans-115\"/>\r\n      <path d=\"M 9.421875 75.984375 \r\nL 18.40625 75.984375 \r\nL 18.40625 0 \r\nL 9.421875 0 \r\nz\r\n\" id=\"DejaVuSans-108\"/>\r\n      <path d=\"M 48.78125 52.59375 \r\nL 48.78125 44.1875 \r\nQ 44.96875 46.296875 41.140625 47.34375 \r\nQ 37.3125 48.390625 33.40625 48.390625 \r\nQ 24.65625 48.390625 19.8125 42.84375 \r\nQ 14.984375 37.3125 14.984375 27.296875 \r\nQ 14.984375 17.28125 19.8125 11.734375 \r\nQ 24.65625 6.203125 33.40625 6.203125 \r\nQ 37.3125 6.203125 41.140625 7.25 \r\nQ 44.96875 8.296875 48.78125 10.40625 \r\nL 48.78125 2.09375 \r\nQ 45.015625 0.34375 40.984375 -0.53125 \r\nQ 36.96875 -1.421875 32.421875 -1.421875 \r\nQ 20.0625 -1.421875 12.78125 6.34375 \r\nQ 5.515625 14.109375 5.515625 27.296875 \r\nQ 5.515625 40.671875 12.859375 48.328125 \r\nQ 20.21875 56 33.015625 56 \r\nQ 37.15625 56 41.109375 55.140625 \r\nQ 45.0625 54.296875 48.78125 52.59375 \r\nz\r\n\" id=\"DejaVuSans-99\"/>\r\n      <path d=\"M 45.40625 46.390625 \r\nL 45.40625 75.984375 \r\nL 54.390625 75.984375 \r\nL 54.390625 0 \r\nL 45.40625 0 \r\nL 45.40625 8.203125 \r\nQ 42.578125 3.328125 38.25 0.953125 \r\nQ 33.9375 -1.421875 27.875 -1.421875 \r\nQ 17.96875 -1.421875 11.734375 6.484375 \r\nQ 5.515625 14.40625 5.515625 27.296875 \r\nQ 5.515625 40.1875 11.734375 48.09375 \r\nQ 17.96875 56 27.875 56 \r\nQ 33.9375 56 38.25 53.625 \r\nQ 42.578125 51.265625 45.40625 46.390625 \r\nz\r\nM 14.796875 27.296875 \r\nQ 14.796875 17.390625 18.875 11.75 \r\nQ 22.953125 6.109375 30.078125 6.109375 \r\nQ 37.203125 6.109375 41.296875 11.75 \r\nQ 45.40625 17.390625 45.40625 27.296875 \r\nQ 45.40625 37.203125 41.296875 42.84375 \r\nQ 37.203125 48.484375 30.078125 48.484375 \r\nQ 22.953125 48.484375 18.875 42.84375 \r\nQ 14.796875 37.203125 14.796875 27.296875 \r\nz\r\n\" id=\"DejaVuSans-100\"/>\r\n     </defs>\r\n     <g transform=\"translate(145.999219 273.418437)scale(0.1 -0.1)\">\r\n      <use xlink:href=\"#DejaVuSans-78\"/>\r\n      <use x=\"74.804688\" xlink:href=\"#DejaVuSans-117\"/>\r\n      <use x=\"138.183594\" xlink:href=\"#DejaVuSans-109\"/>\r\n      <use x=\"235.595703\" xlink:href=\"#DejaVuSans-98\"/>\r\n      <use x=\"299.072266\" xlink:href=\"#DejaVuSans-101\"/>\r\n      <use x=\"360.595703\" xlink:href=\"#DejaVuSans-114\"/>\r\n      <use x=\"401.708984\" xlink:href=\"#DejaVuSans-32\"/>\r\n      <use x=\"433.496094\" xlink:href=\"#DejaVuSans-111\"/>\r\n      <use x=\"494.677734\" xlink:href=\"#DejaVuSans-102\"/>\r\n      <use x=\"529.882812\" xlink:href=\"#DejaVuSans-32\"/>\r\n      <use x=\"561.669922\" xlink:href=\"#DejaVuSans-102\"/>\r\n      <use x=\"596.875\" xlink:href=\"#DejaVuSans-101\"/>\r\n      <use x=\"658.398438\" xlink:href=\"#DejaVuSans-97\"/>\r\n      <use x=\"719.677734\" xlink:href=\"#DejaVuSans-116\"/>\r\n      <use x=\"758.886719\" xlink:href=\"#DejaVuSans-117\"/>\r\n      <use x=\"822.265625\" xlink:href=\"#DejaVuSans-114\"/>\r\n      <use x=\"863.347656\" xlink:href=\"#DejaVuSans-101\"/>\r\n      <use x=\"924.871094\" xlink:href=\"#DejaVuSans-115\"/>\r\n      <use x=\"976.970703\" xlink:href=\"#DejaVuSans-32\"/>\r\n      <use x=\"1008.757812\" xlink:href=\"#DejaVuSans-115\"/>\r\n      <use x=\"1060.857422\" xlink:href=\"#DejaVuSans-101\"/>\r\n      <use x=\"1122.380859\" xlink:href=\"#DejaVuSans-108\"/>\r\n      <use x=\"1150.164062\" xlink:href=\"#DejaVuSans-101\"/>\r\n      <use x=\"1211.6875\" xlink:href=\"#DejaVuSans-99\"/>\r\n      <use x=\"1266.667969\" xlink:href=\"#DejaVuSans-116\"/>\r\n      <use x=\"1305.876953\" xlink:href=\"#DejaVuSans-101\"/>\r\n      <use x=\"1367.400391\" xlink:href=\"#DejaVuSans-100\"/>\r\n     </g>\r\n    </g>\r\n   </g>\r\n   <g id=\"matplotlib.axis_2\">\r\n    <g id=\"ytick_1\">\r\n     <g id=\"line2d_7\">\r\n      <defs>\r\n       <path d=\"M 0 0 \r\nL -3.5 0 \r\n\" id=\"mf07aa09fc4\" style=\"stroke:#000000;stroke-width:0.8;\"/>\r\n      </defs>\r\n      <g>\r\n       <use style=\"stroke:#000000;stroke-width:0.8;\" x=\"50.14375\" xlink:href=\"#mf07aa09fc4\" y=\"244.23225\"/>\r\n      </g>\r\n     </g>\r\n     <g id=\"text_8\">\r\n      <!-- 0.78 -->\r\n      <defs>\r\n       <path d=\"M 10.6875 12.40625 \r\nL 21 12.40625 \r\nL 21 0 \r\nL 10.6875 0 \r\nz\r\n\" id=\"DejaVuSans-46\"/>\r\n       <path d=\"M 8.203125 72.90625 \r\nL 55.078125 72.90625 \r\nL 55.078125 68.703125 \r\nL 28.609375 0 \r\nL 18.3125 0 \r\nL 43.21875 64.59375 \r\nL 8.203125 64.59375 \r\nz\r\n\" id=\"DejaVuSans-55\"/>\r\n       <path d=\"M 31.78125 34.625 \r\nQ 24.75 34.625 20.71875 30.859375 \r\nQ 16.703125 27.09375 16.703125 20.515625 \r\nQ 16.703125 13.921875 20.71875 10.15625 \r\nQ 24.75 6.390625 31.78125 6.390625 \r\nQ 38.8125 6.390625 42.859375 10.171875 \r\nQ 46.921875 13.96875 46.921875 20.515625 \r\nQ 46.921875 27.09375 42.890625 30.859375 \r\nQ 38.875 34.625 31.78125 34.625 \r\nz\r\nM 21.921875 38.8125 \r\nQ 15.578125 40.375 12.03125 44.71875 \r\nQ 8.5 49.078125 8.5 55.328125 \r\nQ 8.5 64.0625 14.71875 69.140625 \r\nQ 20.953125 74.21875 31.78125 74.21875 \r\nQ 42.671875 74.21875 48.875 69.140625 \r\nQ 55.078125 64.0625 55.078125 55.328125 \r\nQ 55.078125 49.078125 51.53125 44.71875 \r\nQ 48 40.375 41.703125 38.8125 \r\nQ 48.828125 37.15625 52.796875 32.3125 \r\nQ 56.78125 27.484375 56.78125 20.515625 \r\nQ 56.78125 9.90625 50.3125 4.234375 \r\nQ 43.84375 -1.421875 31.78125 -1.421875 \r\nQ 19.734375 -1.421875 13.25 4.234375 \r\nQ 6.78125 9.90625 6.78125 20.515625 \r\nQ 6.78125 27.484375 10.78125 32.3125 \r\nQ 14.796875 37.15625 21.921875 38.8125 \r\nz\r\nM 18.3125 54.390625 \r\nQ 18.3125 48.734375 21.84375 45.5625 \r\nQ 25.390625 42.390625 31.78125 42.390625 \r\nQ 38.140625 42.390625 41.71875 45.5625 \r\nQ 45.3125 48.734375 45.3125 54.390625 \r\nQ 45.3125 60.0625 41.71875 63.234375 \r\nQ 38.140625 66.40625 31.78125 66.40625 \r\nQ 25.390625 66.40625 21.84375 63.234375 \r\nQ 18.3125 60.0625 18.3125 54.390625 \r\nz\r\n\" id=\"DejaVuSans-56\"/>\r\n      </defs>\r\n      <g transform=\"translate(20.878125 248.031468)scale(0.1 -0.1)\">\r\n       <use xlink:href=\"#DejaVuSans-48\"/>\r\n       <use x=\"63.623047\" xlink:href=\"#DejaVuSans-46\"/>\r\n       <use x=\"95.410156\" xlink:href=\"#DejaVuSans-55\"/>\r\n       <use x=\"159.033203\" xlink:href=\"#DejaVuSans-56\"/>\r\n      </g>\r\n     </g>\r\n    </g>\r\n    <g id=\"ytick_2\">\r\n     <g id=\"line2d_8\">\r\n      <g>\r\n       <use style=\"stroke:#000000;stroke-width:0.8;\" x=\"50.14375\" xlink:href=\"#mf07aa09fc4\" y=\"212.823211\"/>\r\n      </g>\r\n     </g>\r\n     <g id=\"text_9\">\r\n      <!-- 0.80 -->\r\n      <g transform=\"translate(20.878125 216.62243)scale(0.1 -0.1)\">\r\n       <use xlink:href=\"#DejaVuSans-48\"/>\r\n       <use x=\"63.623047\" xlink:href=\"#DejaVuSans-46\"/>\r\n       <use x=\"95.410156\" xlink:href=\"#DejaVuSans-56\"/>\r\n       <use x=\"159.033203\" xlink:href=\"#DejaVuSans-48\"/>\r\n      </g>\r\n     </g>\r\n    </g>\r\n    <g id=\"ytick_3\">\r\n     <g id=\"line2d_9\">\r\n      <g>\r\n       <use style=\"stroke:#000000;stroke-width:0.8;\" x=\"50.14375\" xlink:href=\"#mf07aa09fc4\" y=\"181.414172\"/>\r\n      </g>\r\n     </g>\r\n     <g id=\"text_10\">\r\n      <!-- 0.82 -->\r\n      <g transform=\"translate(20.878125 185.213391)scale(0.1 -0.1)\">\r\n       <use xlink:href=\"#DejaVuSans-48\"/>\r\n       <use x=\"63.623047\" xlink:href=\"#DejaVuSans-46\"/>\r\n       <use x=\"95.410156\" xlink:href=\"#DejaVuSans-56\"/>\r\n       <use x=\"159.033203\" xlink:href=\"#DejaVuSans-50\"/>\r\n      </g>\r\n     </g>\r\n    </g>\r\n    <g id=\"ytick_4\">\r\n     <g id=\"line2d_10\">\r\n      <g>\r\n       <use style=\"stroke:#000000;stroke-width:0.8;\" x=\"50.14375\" xlink:href=\"#mf07aa09fc4\" y=\"150.005134\"/>\r\n      </g>\r\n     </g>\r\n     <g id=\"text_11\">\r\n      <!-- 0.84 -->\r\n      <g transform=\"translate(20.878125 153.804352)scale(0.1 -0.1)\">\r\n       <use xlink:href=\"#DejaVuSans-48\"/>\r\n       <use x=\"63.623047\" xlink:href=\"#DejaVuSans-46\"/>\r\n       <use x=\"95.410156\" xlink:href=\"#DejaVuSans-56\"/>\r\n       <use x=\"159.033203\" xlink:href=\"#DejaVuSans-52\"/>\r\n      </g>\r\n     </g>\r\n    </g>\r\n    <g id=\"ytick_5\">\r\n     <g id=\"line2d_11\">\r\n      <g>\r\n       <use style=\"stroke:#000000;stroke-width:0.8;\" x=\"50.14375\" xlink:href=\"#mf07aa09fc4\" y=\"118.596095\"/>\r\n      </g>\r\n     </g>\r\n     <g id=\"text_12\">\r\n      <!-- 0.86 -->\r\n      <defs>\r\n       <path d=\"M 33.015625 40.375 \r\nQ 26.375 40.375 22.484375 35.828125 \r\nQ 18.609375 31.296875 18.609375 23.390625 \r\nQ 18.609375 15.53125 22.484375 10.953125 \r\nQ 26.375 6.390625 33.015625 6.390625 \r\nQ 39.65625 6.390625 43.53125 10.953125 \r\nQ 47.40625 15.53125 47.40625 23.390625 \r\nQ 47.40625 31.296875 43.53125 35.828125 \r\nQ 39.65625 40.375 33.015625 40.375 \r\nz\r\nM 52.59375 71.296875 \r\nL 52.59375 62.3125 \r\nQ 48.875 64.0625 45.09375 64.984375 \r\nQ 41.3125 65.921875 37.59375 65.921875 \r\nQ 27.828125 65.921875 22.671875 59.328125 \r\nQ 17.53125 52.734375 16.796875 39.40625 \r\nQ 19.671875 43.65625 24.015625 45.921875 \r\nQ 28.375 48.1875 33.59375 48.1875 \r\nQ 44.578125 48.1875 50.953125 41.515625 \r\nQ 57.328125 34.859375 57.328125 23.390625 \r\nQ 57.328125 12.15625 50.6875 5.359375 \r\nQ 44.046875 -1.421875 33.015625 -1.421875 \r\nQ 20.359375 -1.421875 13.671875 8.265625 \r\nQ 6.984375 17.96875 6.984375 36.375 \r\nQ 6.984375 53.65625 15.1875 63.9375 \r\nQ 23.390625 74.21875 37.203125 74.21875 \r\nQ 40.921875 74.21875 44.703125 73.484375 \r\nQ 48.484375 72.75 52.59375 71.296875 \r\nz\r\n\" id=\"DejaVuSans-54\"/>\r\n      </defs>\r\n      <g transform=\"translate(20.878125 122.395314)scale(0.1 -0.1)\">\r\n       <use xlink:href=\"#DejaVuSans-48\"/>\r\n       <use x=\"63.623047\" xlink:href=\"#DejaVuSans-46\"/>\r\n       <use x=\"95.410156\" xlink:href=\"#DejaVuSans-56\"/>\r\n       <use x=\"159.033203\" xlink:href=\"#DejaVuSans-54\"/>\r\n      </g>\r\n     </g>\r\n    </g>\r\n    <g id=\"ytick_6\">\r\n     <g id=\"line2d_12\">\r\n      <g>\r\n       <use style=\"stroke:#000000;stroke-width:0.8;\" x=\"50.14375\" xlink:href=\"#mf07aa09fc4\" y=\"87.187056\"/>\r\n      </g>\r\n     </g>\r\n     <g id=\"text_13\">\r\n      <!-- 0.88 -->\r\n      <g transform=\"translate(20.878125 90.986275)scale(0.1 -0.1)\">\r\n       <use xlink:href=\"#DejaVuSans-48\"/>\r\n       <use x=\"63.623047\" xlink:href=\"#DejaVuSans-46\"/>\r\n       <use x=\"95.410156\" xlink:href=\"#DejaVuSans-56\"/>\r\n       <use x=\"159.033203\" xlink:href=\"#DejaVuSans-56\"/>\r\n      </g>\r\n     </g>\r\n    </g>\r\n    <g id=\"ytick_7\">\r\n     <g id=\"line2d_13\">\r\n      <g>\r\n       <use style=\"stroke:#000000;stroke-width:0.8;\" x=\"50.14375\" xlink:href=\"#mf07aa09fc4\" y=\"55.778018\"/>\r\n      </g>\r\n     </g>\r\n     <g id=\"text_14\">\r\n      <!-- 0.90 -->\r\n      <defs>\r\n       <path d=\"M 10.984375 1.515625 \r\nL 10.984375 10.5 \r\nQ 14.703125 8.734375 18.5 7.8125 \r\nQ 22.3125 6.890625 25.984375 6.890625 \r\nQ 35.75 6.890625 40.890625 13.453125 \r\nQ 46.046875 20.015625 46.78125 33.40625 \r\nQ 43.953125 29.203125 39.59375 26.953125 \r\nQ 35.25 24.703125 29.984375 24.703125 \r\nQ 19.046875 24.703125 12.671875 31.3125 \r\nQ 6.296875 37.9375 6.296875 49.421875 \r\nQ 6.296875 60.640625 12.9375 67.421875 \r\nQ 19.578125 74.21875 30.609375 74.21875 \r\nQ 43.265625 74.21875 49.921875 64.515625 \r\nQ 56.59375 54.828125 56.59375 36.375 \r\nQ 56.59375 19.140625 48.40625 8.859375 \r\nQ 40.234375 -1.421875 26.421875 -1.421875 \r\nQ 22.703125 -1.421875 18.890625 -0.6875 \r\nQ 15.09375 0.046875 10.984375 1.515625 \r\nz\r\nM 30.609375 32.421875 \r\nQ 37.25 32.421875 41.125 36.953125 \r\nQ 45.015625 41.5 45.015625 49.421875 \r\nQ 45.015625 57.28125 41.125 61.84375 \r\nQ 37.25 66.40625 30.609375 66.40625 \r\nQ 23.96875 66.40625 20.09375 61.84375 \r\nQ 16.21875 57.28125 16.21875 49.421875 \r\nQ 16.21875 41.5 20.09375 36.953125 \r\nQ 23.96875 32.421875 30.609375 32.421875 \r\nz\r\n\" id=\"DejaVuSans-57\"/>\r\n      </defs>\r\n      <g transform=\"translate(20.878125 59.577236)scale(0.1 -0.1)\">\r\n       <use xlink:href=\"#DejaVuSans-48\"/>\r\n       <use x=\"63.623047\" xlink:href=\"#DejaVuSans-46\"/>\r\n       <use x=\"95.410156\" xlink:href=\"#DejaVuSans-57\"/>\r\n       <use x=\"159.033203\" xlink:href=\"#DejaVuSans-48\"/>\r\n      </g>\r\n     </g>\r\n    </g>\r\n    <g id=\"text_15\">\r\n     <!-- Cross validation score (nb of correct classifications) -->\r\n     <defs>\r\n      <path d=\"M 64.40625 67.28125 \r\nL 64.40625 56.890625 \r\nQ 59.421875 61.53125 53.78125 63.8125 \r\nQ 48.140625 66.109375 41.796875 66.109375 \r\nQ 29.296875 66.109375 22.65625 58.46875 \r\nQ 16.015625 50.828125 16.015625 36.375 \r\nQ 16.015625 21.96875 22.65625 14.328125 \r\nQ 29.296875 6.6875 41.796875 6.6875 \r\nQ 48.140625 6.6875 53.78125 8.984375 \r\nQ 59.421875 11.28125 64.40625 15.921875 \r\nL 64.40625 5.609375 \r\nQ 59.234375 2.09375 53.4375 0.328125 \r\nQ 47.65625 -1.421875 41.21875 -1.421875 \r\nQ 24.65625 -1.421875 15.125 8.703125 \r\nQ 5.609375 18.84375 5.609375 36.375 \r\nQ 5.609375 53.953125 15.125 64.078125 \r\nQ 24.65625 74.21875 41.21875 74.21875 \r\nQ 47.75 74.21875 53.53125 72.484375 \r\nQ 59.328125 70.75 64.40625 67.28125 \r\nz\r\n\" id=\"DejaVuSans-67\"/>\r\n      <path d=\"M 2.984375 54.6875 \r\nL 12.5 54.6875 \r\nL 29.59375 8.796875 \r\nL 46.6875 54.6875 \r\nL 56.203125 54.6875 \r\nL 35.6875 0 \r\nL 23.484375 0 \r\nz\r\n\" id=\"DejaVuSans-118\"/>\r\n      <path d=\"M 9.421875 54.6875 \r\nL 18.40625 54.6875 \r\nL 18.40625 0 \r\nL 9.421875 0 \r\nz\r\nM 9.421875 75.984375 \r\nL 18.40625 75.984375 \r\nL 18.40625 64.59375 \r\nL 9.421875 64.59375 \r\nz\r\n\" id=\"DejaVuSans-105\"/>\r\n      <path d=\"M 54.890625 33.015625 \r\nL 54.890625 0 \r\nL 45.90625 0 \r\nL 45.90625 32.71875 \r\nQ 45.90625 40.484375 42.875 44.328125 \r\nQ 39.84375 48.1875 33.796875 48.1875 \r\nQ 26.515625 48.1875 22.3125 43.546875 \r\nQ 18.109375 38.921875 18.109375 30.90625 \r\nL 18.109375 0 \r\nL 9.078125 0 \r\nL 9.078125 54.6875 \r\nL 18.109375 54.6875 \r\nL 18.109375 46.1875 \r\nQ 21.34375 51.125 25.703125 53.5625 \r\nQ 30.078125 56 35.796875 56 \r\nQ 45.21875 56 50.046875 50.171875 \r\nQ 54.890625 44.34375 54.890625 33.015625 \r\nz\r\n\" id=\"DejaVuSans-110\"/>\r\n      <path d=\"M 31 75.875 \r\nQ 24.46875 64.65625 21.28125 53.65625 \r\nQ 18.109375 42.671875 18.109375 31.390625 \r\nQ 18.109375 20.125 21.3125 9.0625 \r\nQ 24.515625 -2 31 -13.1875 \r\nL 23.1875 -13.1875 \r\nQ 15.875 -1.703125 12.234375 9.375 \r\nQ 8.59375 20.453125 8.59375 31.390625 \r\nQ 8.59375 42.28125 12.203125 53.3125 \r\nQ 15.828125 64.359375 23.1875 75.875 \r\nz\r\n\" id=\"DejaVuSans-40\"/>\r\n      <path d=\"M 8.015625 75.875 \r\nL 15.828125 75.875 \r\nQ 23.140625 64.359375 26.78125 53.3125 \r\nQ 30.421875 42.28125 30.421875 31.390625 \r\nQ 30.421875 20.453125 26.78125 9.375 \r\nQ 23.140625 -1.703125 15.828125 -13.1875 \r\nL 8.015625 -13.1875 \r\nQ 14.5 -2 17.703125 9.0625 \r\nQ 20.90625 20.125 20.90625 31.390625 \r\nQ 20.90625 42.671875 17.703125 53.65625 \r\nQ 14.5 64.65625 8.015625 75.875 \r\nz\r\n\" id=\"DejaVuSans-41\"/>\r\n     </defs>\r\n     <g transform=\"translate(14.798438 265.64375)rotate(-90)scale(0.1 -0.1)\">\r\n      <use xlink:href=\"#DejaVuSans-67\"/>\r\n      <use x=\"69.824219\" xlink:href=\"#DejaVuSans-114\"/>\r\n      <use x=\"110.90625\" xlink:href=\"#DejaVuSans-111\"/>\r\n      <use x=\"172.087891\" xlink:href=\"#DejaVuSans-115\"/>\r\n      <use x=\"224.1875\" xlink:href=\"#DejaVuSans-115\"/>\r\n      <use x=\"276.287109\" xlink:href=\"#DejaVuSans-32\"/>\r\n      <use x=\"308.074219\" xlink:href=\"#DejaVuSans-118\"/>\r\n      <use x=\"367.253906\" xlink:href=\"#DejaVuSans-97\"/>\r\n      <use x=\"428.533203\" xlink:href=\"#DejaVuSans-108\"/>\r\n      <use x=\"456.316406\" xlink:href=\"#DejaVuSans-105\"/>\r\n      <use x=\"484.099609\" xlink:href=\"#DejaVuSans-100\"/>\r\n      <use x=\"547.576172\" xlink:href=\"#DejaVuSans-97\"/>\r\n      <use x=\"608.855469\" xlink:href=\"#DejaVuSans-116\"/>\r\n      <use x=\"648.064453\" xlink:href=\"#DejaVuSans-105\"/>\r\n      <use x=\"675.847656\" xlink:href=\"#DejaVuSans-111\"/>\r\n      <use x=\"737.029297\" xlink:href=\"#DejaVuSans-110\"/>\r\n      <use x=\"800.408203\" xlink:href=\"#DejaVuSans-32\"/>\r\n      <use x=\"832.195312\" xlink:href=\"#DejaVuSans-115\"/>\r\n      <use x=\"884.294922\" xlink:href=\"#DejaVuSans-99\"/>\r\n      <use x=\"939.275391\" xlink:href=\"#DejaVuSans-111\"/>\r\n      <use x=\"1000.457031\" xlink:href=\"#DejaVuSans-114\"/>\r\n      <use x=\"1041.539062\" xlink:href=\"#DejaVuSans-101\"/>\r\n      <use x=\"1103.0625\" xlink:href=\"#DejaVuSans-32\"/>\r\n      <use x=\"1134.849609\" xlink:href=\"#DejaVuSans-40\"/>\r\n      <use x=\"1173.863281\" xlink:href=\"#DejaVuSans-110\"/>\r\n      <use x=\"1237.242188\" xlink:href=\"#DejaVuSans-98\"/>\r\n      <use x=\"1300.71875\" xlink:href=\"#DejaVuSans-32\"/>\r\n      <use x=\"1332.505859\" xlink:href=\"#DejaVuSans-111\"/>\r\n      <use x=\"1393.6875\" xlink:href=\"#DejaVuSans-102\"/>\r\n      <use x=\"1428.892578\" xlink:href=\"#DejaVuSans-32\"/>\r\n      <use x=\"1460.679688\" xlink:href=\"#DejaVuSans-99\"/>\r\n      <use x=\"1515.660156\" xlink:href=\"#DejaVuSans-111\"/>\r\n      <use x=\"1576.841797\" xlink:href=\"#DejaVuSans-114\"/>\r\n      <use x=\"1617.939453\" xlink:href=\"#DejaVuSans-114\"/>\r\n      <use x=\"1659.021484\" xlink:href=\"#DejaVuSans-101\"/>\r\n      <use x=\"1720.544922\" xlink:href=\"#DejaVuSans-99\"/>\r\n      <use x=\"1775.525391\" xlink:href=\"#DejaVuSans-116\"/>\r\n      <use x=\"1814.734375\" xlink:href=\"#DejaVuSans-32\"/>\r\n      <use x=\"1846.521484\" xlink:href=\"#DejaVuSans-99\"/>\r\n      <use x=\"1901.501953\" xlink:href=\"#DejaVuSans-108\"/>\r\n      <use x=\"1929.285156\" xlink:href=\"#DejaVuSans-97\"/>\r\n      <use x=\"1990.564453\" xlink:href=\"#DejaVuSans-115\"/>\r\n      <use x=\"2042.664062\" xlink:href=\"#DejaVuSans-115\"/>\r\n      <use x=\"2094.763672\" xlink:href=\"#DejaVuSans-105\"/>\r\n      <use x=\"2122.546875\" xlink:href=\"#DejaVuSans-102\"/>\r\n      <use x=\"2157.751953\" xlink:href=\"#DejaVuSans-105\"/>\r\n      <use x=\"2185.535156\" xlink:href=\"#DejaVuSans-99\"/>\r\n      <use x=\"2240.515625\" xlink:href=\"#DejaVuSans-97\"/>\r\n      <use x=\"2301.794922\" xlink:href=\"#DejaVuSans-116\"/>\r\n      <use x=\"2341.003906\" xlink:href=\"#DejaVuSans-105\"/>\r\n      <use x=\"2368.787109\" xlink:href=\"#DejaVuSans-111\"/>\r\n      <use x=\"2429.96875\" xlink:href=\"#DejaVuSans-110\"/>\r\n      <use x=\"2493.347656\" xlink:href=\"#DejaVuSans-115\"/>\r\n      <use x=\"2545.447266\" xlink:href=\"#DejaVuSans-41\"/>\r\n     </g>\r\n    </g>\r\n   </g>\r\n   <g id=\"line2d_14\">\r\n    <path clip-path=\"url(#pb49deea79c)\" d=\"M 65.361932 44.272875 \r\nL 65.994704 77.493974 \r\nL 66.627477 75.049131 \r\nL 67.26025 44.848132 \r\nL 67.893022 37.585511 \r\nL 68.525795 49.881632 \r\nL 69.158568 85.763295 \r\nL 69.79134 106.472551 \r\nL 70.424113 92.091123 \r\nL 71.056886 136.889271 \r\nL 71.689658 140.268907 \r\nL 72.322431 167.305992 \r\nL 72.955203 174.784334 \r\nL 73.587976 179.314484 \r\nL 74.220749 165.436406 \r\nL 74.853521 170.182277 \r\nL 75.486294 179.17067 \r\nL 76.119067 132.862472 \r\nL 76.751839 132.64675 \r\nL 77.384612 136.098293 \r\nL 78.017384 116.323829 \r\nL 78.650157 122.220215 \r\nL 79.28293 119.343929 \r\nL 79.915702 176.725827 \r\nL 80.548475 175.215777 \r\nL 81.181248 164.717335 \r\nL 81.81402 149.976371 \r\nL 82.446793 137.967879 \r\nL 83.079566 133.65345 \r\nL 84.345111 172.339491 \r\nL 84.977883 173.849541 \r\nL 85.610656 185.929941 \r\nL 86.243429 178.739227 \r\nL 86.876201 187.583805 \r\nL 87.508974 187.583805 \r\nL 88.141747 163.423006 \r\nL 88.774519 176.941548 \r\nL 89.407292 175.503405 \r\nL 90.040064 175.503405 \r\nL 90.672837 177.013455 \r\nL 91.30561 169.535113 \r\nL 91.938382 186.073755 \r\nL 92.571155 168.384599 \r\nL 93.203928 177.66062 \r\nL 93.8367 203.115747 \r\nL 94.469473 207.645897 \r\nL 95.102246 200.52709 \r\nL 95.735018 214.764704 \r\nL 96.367791 216.202847 \r\nL 97.000563 211.672697 \r\nL 97.633336 212.967025 \r\nL 98.266109 220.157739 \r\nL 98.898881 215.771404 \r\nL 99.531654 215.915218 \r\nL 100.164427 214.405168 \r\nL 100.797199 201.174254 \r\nL 101.429972 198.297969 \r\nL 102.062745 201.246162 \r\nL 102.695517 201.102347 \r\nL 103.32829 210.234554 \r\nL 103.961062 211.744604 \r\nL 104.593835 219.438668 \r\nL 105.226608 219.151039 \r\nL 105.85938 235.258239 \r\nL 107.124926 235.186331 \r\nL 107.757698 235.186331 \r\nL 108.390471 233.532467 \r\nL 109.656016 221.523975 \r\nL 110.288789 217.065732 \r\nL 110.921561 220.013925 \r\nL 111.554334 228.858503 \r\nL 112.187107 225.838403 \r\nL 113.452652 225.838403 \r\nL 114.085425 219.798204 \r\nL 114.718197 218.288154 \r\nL 115.35097 225.838403 \r\nL 115.983742 224.328353 \r\nL 116.616515 210.162647 \r\nL 117.88206 204.05054 \r\nL 118.514833 190.460091 \r\nL 119.147606 190.460091 \r\nL 119.780378 191.97014 \r\nL 121.045924 192.042048 \r\nL 121.678696 199.52039 \r\nL 122.311469 193.48019 \r\nL 122.944241 198.01034 \r\nL 123.577014 198.01034 \r\nL 124.209787 184.779427 \r\nL 124.842559 184.779427 \r\nL 125.475332 186.289476 \r\nL 126.108105 190.603905 \r\nL 126.740877 192.185862 \r\nL 127.37365 187.655712 \r\nL 128.639195 190.531998 \r\nL 129.271968 183.413191 \r\nL 129.90474 183.413191 \r\nL 130.537513 181.903141 \r\nL 131.170286 184.851334 \r\nL 132.435831 184.923241 \r\nL 133.068604 178.883041 \r\nL 133.701376 177.372991 \r\nL 134.334149 180.249277 \r\nL 134.966921 172.770934 \r\nL 135.599694 175.719127 \r\nL 136.232467 171.260884 \r\nL 136.865239 174.209077 \r\nL 137.498012 169.750834 \r\nL 138.130785 171.332791 \r\nL 139.39633 171.260884 \r\nL 140.661875 174.209077 \r\nL 141.294648 174.280984 \r\nL 141.92742 171.260884 \r\nL 143.192966 174.209077 \r\nL 143.825738 177.229177 \r\nL 145.091284 174.280984 \r\nL 145.724056 175.719127 \r\nL 146.356829 172.699027 \r\nL 146.989601 177.229177 \r\nL 147.622374 175.719127 \r\nL 148.255147 171.260884 \r\nL 148.887919 169.750834 \r\nL 149.520692 163.710635 \r\nL 150.153465 168.240784 \r\nL 151.41901 162.200585 \r\nL 152.684555 162.128677 \r\nL 153.317328 168.025063 \r\nL 153.9501 169.535113 \r\nL 154.582873 160.690535 \r\nL 155.215646 160.762442 \r\nL 155.848418 157.742342 \r\nL 156.481191 163.638727 \r\nL 157.746736 163.638727 \r\nL 159.012281 166.58692 \r\nL 160.277827 166.58692 \r\nL 160.910599 163.638727 \r\nL 161.543372 165.148777 \r\nL 162.176145 165.220684 \r\nL 162.808917 160.690535 \r\nL 163.44169 159.252392 \r\nL 164.074463 165.148777 \r\nL 164.707235 163.710635 \r\nL 165.97278 163.56682 \r\nL 166.605553 160.618628 \r\nL 167.871098 160.618628 \r\nL 168.503871 159.108578 \r\nL 169.136644 166.58692 \r\nL 169.769416 163.56682 \r\nL 170.402189 151.989771 \r\nL 171.034961 156.160385 \r\nL 171.667734 151.845956 \r\nL 172.300507 150.407814 \r\nL 172.933279 153.356006 \r\nL 173.566052 154.866056 \r\nL 174.198825 153.356006 \r\nL 176.097143 153.356006 \r\nL 176.729915 147.387714 \r\nL 177.362688 148.825857 \r\nL 177.99546 148.825857 \r\nL 179.261006 140.053186 \r\nL 179.893778 146.093385 \r\nL 180.526551 144.583335 \r\nL 181.159324 149.113485 \r\nL 181.792096 150.623535 \r\nL 182.424869 144.799057 \r\nL 183.057642 144.799057 \r\nL 183.690414 143.289007 \r\nL 184.323187 146.309107 \r\nL 184.955959 146.309107 \r\nL 185.588732 138.615043 \r\nL 186.854277 138.615043 \r\nL 187.48705 138.758857 \r\nL 188.119823 141.635143 \r\nL 188.752595 138.68695 \r\nL 189.385368 137.248807 \r\nL 190.01814 137.248807 \r\nL 190.650913 141.778957 \r\nL 191.283686 137.320714 \r\nL 191.916458 137.248807 \r\nL 192.549231 135.810664 \r\nL 193.814776 138.902671 \r\nL 194.447549 135.954479 \r\nL 195.080322 134.444429 \r\nL 195.713094 135.882571 \r\nL 196.345867 134.372522 \r\nL 196.978639 131.424329 \r\nL 197.611412 129.914279 \r\nL 198.244185 132.934379 \r\nL 198.876957 132.934379 \r\nL 199.50973 129.986186 \r\nL 200.142503 129.986186 \r\nL 200.775275 126.966086 \r\nL 201.408048 126.966086 \r\nL 202.673593 123.945986 \r\nL 203.306366 125.456036 \r\nL 203.939138 125.456036 \r\nL 204.571911 126.966086 \r\nL 205.837456 126.966086 \r\nL 206.470229 128.476136 \r\nL 207.103002 126.966086 \r\nL 207.735774 126.966086 \r\nL 208.368547 129.986186 \r\nL 209.001319 125.456036 \r\nL 209.634092 126.966086 \r\nL 210.899637 123.945986 \r\nL 211.53241 125.456036 \r\nL 212.165183 125.456036 \r\nL 212.797955 126.966086 \r\nL 214.063501 120.925886 \r\nL 215.329046 123.945986 \r\nL 216.594591 120.925886 \r\nL 217.227364 120.925886 \r\nL 217.860136 119.415836 \r\nL 219.758454 119.415836 \r\nL 220.391227 117.905787 \r\nL 221.023999 120.853979 \r\nL 221.656772 120.925886 \r\nL 222.289545 122.435936 \r\nL 222.922317 122.435936 \r\nL 224.187863 125.456036 \r\nL 224.820635 120.925886 \r\nL 225.453408 120.925886 \r\nL 226.086181 122.435936 \r\nL 227.984498 122.435936 \r\nL 228.617271 120.925886 \r\nL 229.250044 123.945986 \r\nL 230.515589 126.966086 \r\nL 231.148362 126.966086 \r\nL 231.781134 131.280515 \r\nL 232.413907 131.280515 \r\nL 233.04668 129.770465 \r\nL 233.679452 131.208607 \r\nL 234.944997 131.208607 \r\nL 235.57777 132.790564 \r\nL 236.210543 131.280515 \r\nL 238.108861 131.280515 \r\nL 238.741633 128.260415 \r\nL 239.374406 129.770465 \r\nL 240.007178 129.770465 \r\nL 240.639951 131.352422 \r\nL 241.272724 131.208607 \r\nL 241.905496 131.208607 \r\nL 242.538269 132.718657 \r\nL 243.171042 132.718657 \r\nL 243.803814 134.228707 \r\nL 244.436587 137.248807 \r\nL 245.06936 138.758857 \r\nL 245.702132 137.248807 \r\nL 246.967677 137.248807 \r\nL 247.60045 138.758857 \r\nL 248.233223 137.248807 \r\nL 249.498768 137.248807 \r\nL 250.131541 135.738757 \r\nL 250.764313 129.842372 \r\nL 251.397086 135.738757 \r\nL 253.295404 135.738757 \r\nL 253.928176 134.228707 \r\nL 254.560949 135.738757 \r\nL 255.193722 135.738757 \r\nL 255.826494 137.248807 \r\nL 256.459267 132.718657 \r\nL 258.357585 132.790564 \r\nL 258.990357 137.033086 \r\nL 259.62313 138.543136 \r\nL 262.154221 138.543136 \r\nL 262.786993 137.104993 \r\nL 263.419766 138.615043 \r\nL 264.052539 137.104993 \r\nL 265.950856 137.104993 \r\nL 267.216402 140.053186 \r\nL 268.481947 140.053186 \r\nL 269.11472 141.563235 \r\nL 270.380265 141.563235 \r\nL 271.013037 143.073285 \r\nL 271.64581 143.073285 \r\nL 272.278583 141.563235 \r\nL 272.911355 146.093385 \r\nL 273.544128 143.073285 \r\nL 274.176901 143.073285 \r\nL 274.809673 144.583335 \r\nL 275.442446 144.583335 \r\nL 276.075219 147.603435 \r\nL 276.707991 146.093385 \r\nL 277.973536 146.093385 \r\nL 278.606309 147.603435 \r\nL 279.239082 146.093385 \r\nL 279.871854 147.603435 \r\nL 281.770172 147.603435 \r\nL 282.402945 146.093385 \r\nL 286.199581 146.093385 \r\nL 286.832353 144.583335 \r\nL 287.465126 146.093385 \r\nL 288.730671 143.073285 \r\nL 294.425625 143.073285 \r\nL 295.058398 144.583335 \r\nL 296.323943 144.583335 \r\nL 296.956715 143.073285 \r\nL 297.589488 144.583335 \r\nL 298.222261 143.073285 \r\nL 298.855033 143.073285 \r\nL 299.487806 146.093385 \r\nL 307.71385 146.093385 \r\nL 308.346623 147.603435 \r\nL 327.329802 147.603435 \r\nL 327.962574 146.093385 \r\nL 328.595347 146.093385 \r\nL 329.22812 147.603435 \r\nL 329.860892 146.093385 \r\nL 330.493665 146.093385 \r\nL 331.126438 147.603435 \r\nL 331.75921 147.603435 \r\nL 332.391983 146.093385 \r\nL 343.149118 146.093385 \r\nL 343.78189 143.145193 \r\nL 347.578526 143.145193 \r\nL 348.211299 128.044693 \r\nL 357.702888 128.044693 \r\nL 358.335661 114.454244 \r\nL 360.866751 114.454244 \r\nL 361.499524 111.434144 \r\nL 362.132297 111.434144 \r\nL 362.765069 112.944194 \r\nL 369.725568 112.944194 \r\nL 369.725568 112.944194 \r\n\" style=\"fill:none;stroke:#1f77b4;stroke-linecap:square;stroke-width:1.5;\"/>\r\n   </g>\r\n   <g id=\"patch_3\">\r\n    <path d=\"M 50.14375 245.141875 \r\nL 50.14375 27.701875 \r\n\" style=\"fill:none;stroke:#000000;stroke-linecap:square;stroke-linejoin:miter;stroke-width:0.8;\"/>\r\n   </g>\r\n   <g id=\"patch_4\">\r\n    <path d=\"M 384.94375 245.141875 \r\nL 384.94375 27.701875 \r\n\" style=\"fill:none;stroke:#000000;stroke-linecap:square;stroke-linejoin:miter;stroke-width:0.8;\"/>\r\n   </g>\r\n   <g id=\"patch_5\">\r\n    <path d=\"M 50.14375 245.141875 \r\nL 384.94375 245.141875 \r\n\" style=\"fill:none;stroke:#000000;stroke-linecap:square;stroke-linejoin:miter;stroke-width:0.8;\"/>\r\n   </g>\r\n   <g id=\"patch_6\">\r\n    <path d=\"M 50.14375 27.701875 \r\nL 384.94375 27.701875 \r\n\" style=\"fill:none;stroke:#000000;stroke-linecap:square;stroke-linejoin:miter;stroke-width:0.8;\"/>\r\n   </g>\r\n  </g>\r\n </g>\r\n <defs>\r\n  <clipPath id=\"pb49deea79c\">\r\n   <rect height=\"217.44\" width=\"334.8\" x=\"50.14375\" y=\"27.701875\"/>\r\n  </clipPath>\r\n </defs>\r\n</svg>\r\n",
      "image/png": "[encoded data removed]"
     },
     "metadata": {
      "needs_background": "light"
     }
    },
    {
     "output_type": "error",
     "ename": "NameError",
     "evalue": "name 'RF_gridsearch' is not defined",
     "traceback": [
      "\u001b[1;31m---------------------------------------------------------------------------\u001b[0m",
      "\u001b[1;31mNameError\u001b[0m                                 Traceback (most recent call last)",
      "\u001b[1;32m<ipython-input-18-21e80d7ee0ee>\u001b[0m in \u001b[0;36m<module>\u001b[1;34m\u001b[0m\n\u001b[0;32m     25\u001b[0m     \u001b[1;31m#hyperparameter = svm_gridsearch(X_train_sel, y_train)   # Support Vector Machine classifier\u001b[0m\u001b[1;33m\u001b[0m\u001b[1;33m\u001b[0m\u001b[1;33m\u001b[0m\u001b[0m\n\u001b[0;32m     26\u001b[0m     \u001b[1;31m#hyperparameter = KNN_gridsearch(X_train_sel, y_train)  # K Nearnest Neighbour classifier\u001b[0m\u001b[1;33m\u001b[0m\u001b[1;33m\u001b[0m\u001b[1;33m\u001b[0m\u001b[0m\n\u001b[1;32m---> 27\u001b[1;33m     \u001b[0mhyperparameter\u001b[0m \u001b[1;33m=\u001b[0m \u001b[0mRF_gridsearch\u001b[0m\u001b[1;33m(\u001b[0m\u001b[0mX_train_sel\u001b[0m\u001b[1;33m,\u001b[0m \u001b[0my_train\u001b[0m\u001b[1;33m)\u001b[0m   \u001b[1;31m# Random Forrest classifier\u001b[0m\u001b[1;33m\u001b[0m\u001b[1;33m\u001b[0m\u001b[0m\n\u001b[0m\u001b[0;32m     28\u001b[0m     \u001b[0mprint\u001b[0m\u001b[1;33m(\u001b[0m\u001b[0mhyperparameter\u001b[0m\u001b[1;33m)\u001b[0m\u001b[1;33m\u001b[0m\u001b[1;33m\u001b[0m\u001b[0m\n\u001b[0;32m     29\u001b[0m \u001b[1;33m\u001b[0m\u001b[0m\n",
      "\u001b[1;31mNameError\u001b[0m: name 'RF_gridsearch' is not defined"
     ]
    }
   ],
   "source": [
    "# Outer crossvalidation loop\n",
    "skf = StratifiedKFold(n_splits=5, random_state=None, shuffle=True)\n",
    "\n",
    "\n",
    "for train_index, test_index in skf.split(DATA_FEAT_SEL, LABELS_SEL):\n",
    "    X_train, X_test = np.array(DATA_FEAT_SEL)[train_index], np.array(DATA_FEAT_SEL)[test_index]\n",
    "    y_train, y_test = np.array(LABELS_SEL)[train_index], np.array(LABELS_SEL)[test_index]\n",
    "\n",
    "    gbm_train = X_train[y_train=='GBM']\n",
    "    lgg_train = X_train[y_train=='LGG']\n",
    "\n",
    "    # ---------------------------------- IMPUTATION -----------------------------------\n",
    "\n",
    "    X_train_imp, X_test_imp = knn_impute_train_set(X_train, y_train, X_test) \n",
    " \n",
    "    # ------------------------------------ SCALING ----------------------------------------\n",
    "    X_train_scal, X_test_scal = scale_train_and_test_data(X_train_imp, X_test_imp)\n",
    "\n",
    "    # ------------------------------------ FEATURE SELECTION -------------------------------\n",
    "    selected_features = select_features_rfecv(X_train_scal, y_train)\n",
    "    X_train_sel = X_train_scal[:,selected_features]\n",
    "    X_test_sel = X_test_scal[:,selected_features]\n",
    "\n",
    "    # -------------- CLASSIFIERS GRIDSEARCH ---- (uncommand the one you want to try) ----------\n",
    "    hyperparameter = svm_gridsearch(X_train_sel, y_train)   # Support Vector Machine classifier\n",
    "    #hyperparameter = KNN_gridsearch(X_train_sel, y_train)  # K Nearnest Neighbour classifier\n",
    "    #hyperparameter = RF_gridsearch(X_train_sel, y_train)   # Random Forrest classifier\n",
    "    print(hyperparameter)\n",
    "\n",
    "    # ------------------ TRAINING THE CLASSIFIER WITH HYPERPARAMETERS ------------------------\n",
    "    # weet niet precies hoe het moet vanwege dat de dataset in 4en hebben (1x train, 1x test en 2 dingen met labels)\n",
    "    # op internet vind veel je dingen met cross_val_score, maar binnen die functie splitst ie zelf? \n",
    "    # het moet getrained worden op X_train samen met y_train, en dan getest worden op X_test, en gecheckt worden met y_test\n"
   ]
  },
  {
   "cell_type": "code",
   "execution_count": 15,
   "metadata": {},
   "outputs": [
    {
     "output_type": "stream",
     "name": "stdout",
     "text": "0.9029850746268657\n{'n_neighbors': 4, 'weights': 'uniform'}\nKNeighborsClassifier(algorithm='auto', leaf_size=30, metric='minkowski',\n                     metric_params=None, n_jobs=None, n_neighbors=4, p=2,\n                     weights='uniform')\nAccuracy: 0.8484848484848485\nC:\\Users\\Kiefe\\Anaconda3\\lib\\site-packages\\sklearn\\model_selection\\_search.py:814: DeprecationWarning: The default of the `iid` parameter will change from True to False in version 0.22 and will be removed in 0.24. This will change numeric results when test-set sizes are unequal.\n  DeprecationWarning)\n"
    }
   ],
   "source": [
    "#KNN Classification/ hyperparameter tuning\n",
    "from sklearn.model_selection import GridSearchCV\n",
    "from sklearn.neighbors import KNeighborsClassifier\n",
    "X = X_train_sel\n",
    "y = y_train\n",
    "\n",
    "k_range = list(range(3,31))\n",
    "weight_options = [\"uniform\", \"distance\"]\n",
    "\n",
    "param_grid = dict(n_neighbors = k_range, weights = weight_options)\n",
    "#print (param_grid)\n",
    "knn = KNeighborsClassifier()\n",
    "\n",
    "grid = GridSearchCV(knn, param_grid, cv = 10, scoring = 'accuracy')\n",
    "grid.fit(X,y)\n",
    "\n",
    "#print(grid.grid_scores_)\n",
    "'''\n",
    "print(grid.grid_scores_[0].parameters)\n",
    "print(grid.grid_scores_[0].cv_validation_scores)\n",
    "print(grid.grid_scores_[0].mean_validation_score)\n",
    "'''\n",
    "\n",
    "print (grid.best_score_)\n",
    "print (grid.best_params_)\n",
    "print (grid.best_estimator_)\n",
    "\n",
    "\n",
    "\n",
    "\n",
    "\n",
    "knn = KNeighborsClassifier(n_neighbors=4, weights='uniform', algorithm='auto', leaf_size=30, p=2, metric='minkowski',metric_params=None, n_jobs=1)\n",
    "knn.fit(X_train_sel, y_train)\n",
    "#predict the response for test dataset\n",
    "y_pred = knn.predict(X_test_sel)\n",
    "from sklearn import metrics \n",
    "print(\"Accuracy:\",metrics.accuracy_score(y_test, y_pred))\n",
    "\n",
    "\n",
    "\n",
    ""
   ]
  },
  {
   "cell_type": "code",
   "execution_count": null,
   "metadata": {},
   "outputs": [],
   "source": []
  },
  {
   "cell_type": "code",
   "execution_count": 16,
   "metadata": {},
   "outputs": [
    {
     "output_type": "stream",
     "name": "stdout",
     "text": "{'bootstrap': True,\n 'class_weight': None,\n 'criterion': 'gini',\n 'max_depth': None,\n 'max_features': 'sqrt',\n 'max_leaf_nodes': None,\n 'min_impurity_decrease': 0.0,\n 'min_impurity_split': None,\n 'min_samples_leaf': 1,\n 'min_samples_split': 2,\n 'min_weight_fraction_leaf': 0.0,\n 'n_estimators': 50,\n 'n_jobs': None,\n 'oob_score': False,\n 'random_state': 1,\n 'verbose': 0,\n 'warm_start': False}\n['GBM' 'GBM' 'GBM' 'GBM' 'GBM' 'GBM' 'GBM' 'GBM' 'GBM' 'GBM' 'GBM' 'GBM'\n 'GBM' 'GBM' 'GBM' 'GBM' 'GBM' 'GBM' 'GBM' 'GBM' 'GBM' 'GBM' 'GBM' 'GBM'\n 'GBM' 'GBM' 'GBM' 'GBM' 'GBM' 'GBM' 'GBM' 'GBM' 'GBM' 'GBM' 'GBM' 'GBM'\n 'GBM' 'GBM' 'GBM' 'GBM' 'GBM' 'GBM' 'GBM' 'GBM' 'GBM' 'GBM' 'GBM' 'GBM'\n 'GBM' 'GBM' 'GBM' 'GBM' 'GBM' 'GBM' 'GBM' 'GBM' 'GBM' 'GBM' 'GBM' 'GBM'\n 'GBM' 'GBM' 'GBM' 'GBM' 'GBM' 'GBM' 'GBM' 'GBM' 'GBM' 'GBM' 'GBM' 'GBM'\n 'GBM' 'GBM' 'GBM' 'GBM' 'GBM' 'GBM' 'GBM' 'GBM' 'GBM' 'GBM' 'LGG' 'LGG'\n 'LGG' 'LGG' 'LGG' 'LGG' 'LGG' 'LGG' 'LGG' 'LGG' 'LGG' 'LGG' 'LGG' 'LGG'\n 'LGG' 'LGG' 'LGG' 'LGG' 'LGG' 'LGG' 'LGG' 'LGG' 'LGG' 'LGG' 'LGG' 'LGG'\n 'LGG' 'LGG' 'LGG' 'LGG' 'LGG' 'LGG' 'LGG' 'LGG' 'LGG' 'LGG' 'LGG' 'LGG'\n 'LGG' 'LGG' 'LGG' 'LGG' 'LGG' 'LGG' 'LGG' 'LGG' 'LGG' 'LGG' 'LGG' 'LGG'\n 'LGG' 'LGG']\nAccuracy: 0.8787878787878788\nC:\\Users\\Kiefe\\Anaconda3\\lib\\site-packages\\sklearn\\model_selection\\_search.py:814: DeprecationWarning: The default of the `iid` parameter will change from True to False in version 0.22 and will be removed in 0.24. This will change numeric results when test-set sizes are unequal.\n  DeprecationWarning)\n"
    }
   ],
   "source": [
    "# Random forest Classification/ hyperparameter tuning\n",
    "\n",
    "model_params = {\n",
    "    'n_estimators': [50, 150, 250],\n",
    "    'max_features': ['sqrt', 0.25, 0.5, 0.75, 1.0],\n",
    "    'min_samples_split': [2, 4, 6]\n",
    "}\n",
    "\n",
    "X= X_train_sel\n",
    "Y= y_train\n",
    "\n",
    "\n",
    "# create random forest classifier model\n",
    "rf_model = RandomForestClassifier(random_state=1)\n",
    "\n",
    "# set up grid search meta-estimator\n",
    "clf = GridSearchCV(rf_model, model_params, cv=5)\n",
    "\n",
    "# train the grid search meta-estimator to find the best model\n",
    "model = clf.fit(X, y)\n",
    "\n",
    "# print winning set of hyperparameters\n",
    "from pprint import pprint\n",
    "pprint(model.best_estimator_.get_params())\n",
    "\n",
    "predictions = model.predict(X)\n",
    "print(predictions)\n",
    "\n",
    "clf=RandomForestClassifier(n_estimators=100)\n",
    "clf.fit(X_train_sel,y_train)\n",
    "y_pred=clf.predict(X_test_sel)\n",
    "print(\"Accuracy:\",metrics.accuracy_score(y_test, y_pred))\n",
    ""
   ]
  },
  {
   "cell_type": "code",
   "execution_count": null,
   "metadata": {},
   "outputs": [],
   "source": []
  }
 ],
 "metadata": {
  "colab": {
   "collapsed_sections": [],
   "name": "assignment.ipynb",
   "provenance": []
  },
  "kernelspec": {
   "display_name": "Python 3",
   "language": "python",
   "name": "python3"
  },
  "language_info": {
   "codemirror_mode": {
    "name": "ipython",
    "version": 3
   },
   "file_extension": ".py",
   "mimetype": "text/x-python",
   "name": "python",
   "nbconvert_exporter": "python",
   "pygments_lexer": "ipython3",
   "version": "3.8.1-final"
  }
 },
 "nbformat": 4,
 "nbformat_minor": 1
}